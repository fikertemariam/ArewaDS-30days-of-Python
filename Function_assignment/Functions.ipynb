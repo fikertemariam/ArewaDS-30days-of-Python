{
 "cells": [
  {
   "cell_type": "markdown",
   "id": "7ba8f08e",
   "metadata": {},
   "source": [
    "# Exercise 8-1"
   ]
  },
  {
   "cell_type": "code",
   "execution_count": null,
   "id": "662a2ec8",
   "metadata": {},
   "outputs": [],
   "source": [
    "#Message: Write a function called display_message() that prints one sentence telling everyone what you are learning about in this chapter. Call the \n",
    "#function, and make sure the message displays correctly."
   ]
  },
  {
   "cell_type": "code",
   "execution_count": 1,
   "id": "8dd1a4cd",
   "metadata": {},
   "outputs": [
    {
     "name": "stdout",
     "output_type": "stream",
     "text": [
      "In this chapter, we are learning about creating and calling functions in Python.\n"
     ]
    }
   ],
   "source": [
    "def display_message():\n",
    "    print(\"In this chapter, we are learning about creating and calling functions in Python.\")\n",
    "\n",
    "# Call the function to display the message\n",
    "display_message()\n"
   ]
  },
  {
   "cell_type": "markdown",
   "id": "ee611a2b",
   "metadata": {},
   "source": [
    "# Exercise 8-2"
   ]
  },
  {
   "cell_type": "markdown",
   "id": "0392a45a",
   "metadata": {},
   "source": [
    "Favorite Book: Write a function called favorite_book() that accepts one \n",
    "parameter, title. The function should print a message, such as One of my \n",
    "favorite books is Alice in Wonderland. Call the function, making sure to \n",
    "include a book title as an argument in the function call."
   ]
  },
  {
   "cell_type": "code",
   "execution_count": 3,
   "id": "4da12fe1",
   "metadata": {},
   "outputs": [
    {
     "name": "stdout",
     "output_type": "stream",
     "text": [
      "One of my favorite books is AL-QURANUL KAREEM.\n"
     ]
    }
   ],
   "source": [
    "def favorite_book(title):\n",
    "    print(f\"One of my favorite books is {title}.\")\n",
    "\n",
    "# Call the function with a specific book title\n",
    "favorite_book(\"AL-QURANUL KAREEM\")\n"
   ]
  },
  {
   "cell_type": "markdown",
   "id": "950137e9",
   "metadata": {},
   "source": [
    "# Exercise 8-3"
   ]
  },
  {
   "cell_type": "markdown",
   "id": "dc3d5a60",
   "metadata": {},
   "source": [
    "T-Shirt: Write a function called make_shirt() that accepts a size and the \n",
    "text of a message that should be printed on the shirt. The function should print a \n",
    "sentence summarizing the size of the shirt and the message printed on it.\n",
    "Call the function once using positional arguments to make a shirt. Call the \n",
    "function a second time using keyword arguments."
   ]
  },
  {
   "cell_type": "code",
   "execution_count": 5,
   "id": "e0e5d4fe",
   "metadata": {},
   "outputs": [
    {
     "name": "stdout",
     "output_type": "stream",
     "text": [
      "Enter the size of the shirt: 38\n",
      "Enter the message to be printed on the shirt: I LOVE ArewaDS 30 day python challenge\n",
      "Creating a 38-sized shirt with the message: 'I LOVE ArewaDS 30 day python challenge'.\n"
     ]
    }
   ],
   "source": [
    "def make_shirt():\n",
    "    size = input(\"Enter the size of the shirt: \")\n",
    "    text = input(\"Enter the message to be printed on the shirt: \")\n",
    "    print(f\"Creating a {size}-sized shirt with the message: '{text}'.\")\n",
    "\n",
    "# Call the function to get input from the user\n",
    "make_shirt()\n",
    "\n"
   ]
  },
  {
   "cell_type": "markdown",
   "id": "171d6031",
   "metadata": {},
   "source": [
    "# Exercise 8-4"
   ]
  },
  {
   "cell_type": "markdown",
   "id": "f3990c0d",
   "metadata": {},
   "source": [
    "Large Shirts: Modify the make_shirt() function so that shirts are large \n",
    "by default with a message that reads I love Python. Make a large shirt and a \n",
    "medium shirt with the default message, and a shirt of any size with a different \n",
    "message."
   ]
  },
  {
   "cell_type": "code",
   "execution_count": 1,
   "id": "3cf908bc",
   "metadata": {},
   "outputs": [
    {
     "name": "stdout",
     "output_type": "stream",
     "text": [
      "Creating a large shirt with the message: 'I love Python'\n",
      "Creating a medium shirt with the message: 'I love Python'\n",
      "Creating a small shirt with the message: 'Coding is fun!'\n"
     ]
    }
   ],
   "source": [
    "def make_shirt(size='large', message='I love Python'):\n",
    "    print(f\"Creating a {size} shirt with the message: '{message}'\")\n",
    "\n",
    "# Make a large shirt with the default message\n",
    "make_shirt()\n",
    "\n",
    "# Make a medium shirt with the default message\n",
    "make_shirt(size='medium')\n",
    "\n",
    "# Make a shirt of any size with a different message\n",
    "make_shirt(size='small', message='Coding is fun!')\n",
    "\n"
   ]
  },
  {
   "cell_type": "markdown",
   "id": "090602d2",
   "metadata": {},
   "source": [
    "# Exercise 8-5"
   ]
  },
  {
   "cell_type": "markdown",
   "id": "010f807e",
   "metadata": {},
   "source": [
    "Cities: Write a function called describe_city() that accepts the name of \n",
    "a city and its country. The function should print a simple sentence, such as \n",
    "Reykjavik is in Iceland. Give the parameter for the country a default value. \n",
    "Call your function for three different cities, at least one of which is not in the \n",
    "default country."
   ]
  },
  {
   "cell_type": "code",
   "execution_count": 3,
   "id": "5a517bb2",
   "metadata": {},
   "outputs": [
    {
     "name": "stdout",
     "output_type": "stream",
     "text": [
      "Reykjavik is in Iceland.\n",
      "Kano is in Kano.\n",
      "Kaduna is in Default Country.\n"
     ]
    }
   ],
   "source": [
    "def describe_city(city, country='Default Country'):\n",
    "    print(f\"{city} is in {country}.\")\n",
    "\n",
    "# Call the function for three different cities\n",
    "describe_city('Reykjavik', 'Iceland')\n",
    "describe_city('Kano', 'Kano')\n",
    "describe_city('Kaduna')  # Uses the default country\n"
   ]
  },
  {
   "cell_type": "markdown",
   "id": "166e2fb1",
   "metadata": {},
   "source": [
    "# Exercise 8-6"
   ]
  },
  {
   "cell_type": "markdown",
   "id": "d9221ca3",
   "metadata": {},
   "source": [
    "City Names: Write a function called city_country() that takes in the name \n",
    "of a city and its country. The function should return a string formatted like this:\n",
    "\"Santiago, Chile\"\n",
    "Call your function with at least three city-country pairs, and print the values \n",
    "that are returned."
   ]
  },
  {
   "cell_type": "code",
   "execution_count": 5,
   "id": "e5432920",
   "metadata": {},
   "outputs": [
    {
     "name": "stdout",
     "output_type": "stream",
     "text": [
      "Santiago, Chile\n",
      "Kano, Nigeria\n",
      "Niamey, Niger\n"
     ]
    }
   ],
   "source": [
    "def city_country(city, country):\n",
    "    return f\"{city}, {country}\"\n",
    "\n",
    "# Call the function with three city-country pairs and print the returned values\n",
    "print(city_country('Santiago', 'Chile'))\n",
    "print(city_country('Kano', 'Nigeria'))\n",
    "print(city_country('Niamey', 'Niger'))\n"
   ]
  },
  {
   "cell_type": "markdown",
   "id": "97cc03eb",
   "metadata": {},
   "source": [
    "# Exercise 8-7"
   ]
  },
  {
   "cell_type": "markdown",
   "id": "7f18dc33",
   "metadata": {},
   "source": [
    "Album: Write a function called make_album() that builds a dictionary \n",
    "describing a music album. The function should take in an artist name and an \n",
    "album title, and it should return a dictionary containing these two pieces of \n",
    "information. Use the function to make three dictionaries representing different \n",
    "albums. Print each return value to show that the dictionaries are storing the \n",
    "album information correctly.\n",
    "Use None to add an optional parameter to make_album() that allows you to \n",
    "store the number of songs on an album. If the calling line includes a value for \n",
    "the number of songs, add that value to the album’s dictionary. Make at least \n",
    "one new function call that includes the number of songs on an album."
   ]
  },
  {
   "cell_type": "code",
   "execution_count": 6,
   "id": "35d9eb45",
   "metadata": {},
   "outputs": [
    {
     "name": "stdout",
     "output_type": "stream",
     "text": [
      "{'artist': 'Akon', 'title': 'Freedom', 'songs': 13}\n",
      "{'artist': 'Akon', 'title': 'Konvicted', 'songs': 14}\n",
      "{'artist': 'Akon', 'title': 'Trouble', 'songs': 12}\n"
     ]
    }
   ],
   "source": [
    "def make_album(artist, title, songs=None):\n",
    "    album_info = {'artist': artist, 'title': title}\n",
    "    if songs:\n",
    "        album_info['songs'] = songs\n",
    "    return album_info\n",
    "\n",
    "# Make three dictionaries representing different Akon albums\n",
    "album1 = make_album('Akon', 'Freedom', songs=13)\n",
    "album2 = make_album('Akon', 'Konvicted', songs=14)\n",
    "album3 = make_album('Akon', 'Trouble', songs=12)\n",
    "\n",
    "# Print each return value to show that the dictionaries are storing the album information correctly\n",
    "print(album1)\n",
    "print(album2)\n",
    "print(album3)\n"
   ]
  },
  {
   "cell_type": "markdown",
   "id": "2bf16849",
   "metadata": {},
   "source": [
    "# Exercise 8-8"
   ]
  },
  {
   "cell_type": "markdown",
   "id": "75de4b27",
   "metadata": {},
   "source": [
    "User Albums: Start with your program from Exercise 8-7. Write a while \n",
    "loop that allows users to enter an album’s artist and title. Once you have that \n",
    "information, call make_album() with the user’s input and print the dictionary \n",
    "that’s created. Be sure to include a quit value in the while loop."
   ]
  },
  {
   "cell_type": "code",
   "execution_count": null,
   "id": "601213bc",
   "metadata": {},
   "outputs": [
    {
     "name": "stdout",
     "output_type": "stream",
     "text": [
      "Enter the artist's name (or 'quit' to exit): Akon\n",
      "Enter the album title: Trouble\n",
      "{'artist': 'Akon', 'title': 'Trouble'}\n"
     ]
    }
   ],
   "source": [
    "def make_album(artist, title, songs=None):\n",
    "    album_info = {'artist': artist, 'title': title}\n",
    "    if songs:\n",
    "        album_info['songs'] = songs\n",
    "    return album_info\n",
    "\n",
    "while True:\n",
    "    artist_input = input(\"Enter the artist's name (or 'quit' to exit): \")\n",
    "    if artist_input.lower() == 'quit':\n",
    "        break\n",
    "    \n",
    "    title_input = input(\"Enter the album title: \")\n",
    "    \n",
    "    # You can optionally ask for the number of songs here\n",
    "    # songs_input = input(\"Enter the number of songs (optional): \")\n",
    "    \n",
    "    # Call make_album() with the user's input\n",
    "    # If you want to include the number of songs, uncomment the next line and pass the variable\n",
    "    album_info = make_album(artist_input, title_input)\n",
    "    # album_info = make_album(artist_input, title_input, songs=int(songs_input))  # Uncomment if including songs\n",
    "    \n",
    "    # Print the created dictionary\n",
    "    print(album_info)\n"
   ]
  },
  {
   "cell_type": "markdown",
   "id": "cd8aec5f",
   "metadata": {},
   "source": [
    "# Exercise 8-9"
   ]
  },
  {
   "cell_type": "markdown",
   "id": "a078ddf4",
   "metadata": {},
   "source": [
    "Messages: Make a list containing a series of short text messages. Pass the \n",
    "list to a function called show_messages(), which prints each text message."
   ]
  },
  {
   "cell_type": "code",
   "execution_count": 1,
   "id": "3061f20d",
   "metadata": {},
   "outputs": [
    {
     "name": "stdout",
     "output_type": "stream",
     "text": [
      "Thank you, Arewa Data Science Machine Learning Mentors, for the opportunity to learn data science at ease!\n",
      "Your guidance is invaluable. Grateful for the mentorship!\n",
      "Appreciate the support and knowledge-sharing. Learning a lot!\n",
      "Feeling fortunate to be part of this learning community. Thank you!\n"
     ]
    }
   ],
   "source": [
    "def show_messages(messages):\n",
    "    for message in messages:\n",
    "        print(message)\n",
    "\n",
    "# List of short text messages thanking Arewa Data Science Machine Learning Mentors\n",
    "thank_you_messages = [\n",
    "    \"Thank you, Arewa Data Science Machine Learning Mentors, for the opportunity to learn data science at ease!\",\n",
    "    \"Your guidance is invaluable. Grateful for the mentorship!\",\n",
    "    \"Appreciate the support and knowledge-sharing. Learning a lot!\",\n",
    "    \"Feeling fortunate to be part of this learning community. Thank you!\"\n",
    "]\n",
    "\n",
    "# Call the function to show the thank you messages\n",
    "show_messages(thank_you_messages)\n"
   ]
  },
  {
   "cell_type": "markdown",
   "id": "5a392ec5",
   "metadata": {},
   "source": [
    "# Exercise 8-10"
   ]
  },
  {
   "cell_type": "code",
   "execution_count": null,
   "id": "b147c175",
   "metadata": {},
   "outputs": [],
   "source": []
  },
  {
   "cell_type": "markdown",
   "id": "da63b060",
   "metadata": {},
   "source": [
    "Sending Messages: Start with a copy of your program from Exercise 8-9. \n",
    "Write a function called send_messages() that prints each text message and \n",
    "moves each message to a new list called sent_messages as it’s printed. After \n",
    "calling the function, print both of your lists to make sure the messages were \n",
    "moved correctly."
   ]
  },
  {
   "cell_type": "code",
   "execution_count": 2,
   "id": "52d7a37e",
   "metadata": {},
   "outputs": [
    {
     "name": "stdout",
     "output_type": "stream",
     "text": [
      "Sending message: Thank you, Arewa Data Science Machine Learning Mentors, for the opportunity to learn data science at ease!\n",
      "Sending message: Your guidance is invaluable. Grateful for the mentorship!\n",
      "Sending message: Appreciate the support and knowledge-sharing. Learning a lot!\n",
      "Sending message: Feeling fortunate to be part of this learning community. Thank you!\n",
      "\n",
      "Original messages:\n",
      "\n",
      "Sent messages:\n",
      "Thank you, Arewa Data Science Machine Learning Mentors, for the opportunity to learn data science at ease!\n",
      "Your guidance is invaluable. Grateful for the mentorship!\n",
      "Appreciate the support and knowledge-sharing. Learning a lot!\n",
      "Feeling fortunate to be part of this learning community. Thank you!\n"
     ]
    }
   ],
   "source": [
    "def send_messages(messages, sent_messages):\n",
    "    while messages:\n",
    "        current_message = messages.pop(0)\n",
    "        print(f\"Sending message: {current_message}\")\n",
    "        sent_messages.append(current_message)\n",
    "\n",
    "# List of short text messages thanking Arewa Data Science Machine Learning Mentors\n",
    "thank_you_messages = [\n",
    "    \"Thank you, Arewa Data Science Machine Learning Mentors, for the opportunity to learn data science at ease!\",\n",
    "    \"Your guidance is invaluable. Grateful for the mentorship!\",\n",
    "    \"Appreciate the support and knowledge-sharing. Learning a lot!\",\n",
    "    \"Feeling fortunate to be part of this learning community. Thank you!\"\n",
    "]\n",
    "\n",
    "# Create an empty list to store sent messages\n",
    "sent_messages_list = []\n",
    "\n",
    "# Call the function to send messages and move them to the sent_messages list\n",
    "send_messages(thank_you_messages, sent_messages_list)\n",
    "\n",
    "# Print both lists to confirm the messages were moved correctly\n",
    "print(\"\\nOriginal messages:\")\n",
    "show_messages(thank_you_messages)\n",
    "\n",
    "print(\"\\nSent messages:\")\n",
    "show_messages(sent_messages_list)\n"
   ]
  },
  {
   "cell_type": "markdown",
   "id": "4b80a897",
   "metadata": {},
   "source": [
    "# Exercise 8-11"
   ]
  },
  {
   "cell_type": "markdown",
   "id": "09cb48f4",
   "metadata": {},
   "source": [
    "Archived Messages: Start with your work from Exercise 8-10. Call the func- \n",
    "tion send_messages() with a copy of the list of messages. After calling the func- \n",
    "tion, print both of your lists to show that the original list has retained its messages."
   ]
  },
  {
   "cell_type": "code",
   "execution_count": 4,
   "id": "8c7b2462",
   "metadata": {},
   "outputs": [
    {
     "name": "stdout",
     "output_type": "stream",
     "text": [
      "Sending message: Thank you, Arewa Data Science Machine Learning Mentors, for the opportunity to learn data science at ease!\n",
      "Sending message: Your guidance is invaluable. Grateful for the mentorship!\n",
      "Sending message: Appreciate the support and knowledge-sharing. Learning a lot!\n",
      "Sending message: Feeling fortunate to be part of this learning community. Thank you!\n",
      "\n",
      "Original messages:\n",
      "Thank you, Arewa Data Science Machine Learning Mentors, for the opportunity to learn data science at ease!\n",
      "Your guidance is invaluable. Grateful for the mentorship!\n",
      "Appreciate the support and knowledge-sharing. Learning a lot!\n",
      "Feeling fortunate to be part of this learning community. Thank you!\n",
      "\n",
      "Sent messages:\n",
      "Thank you, Arewa Data Science Machine Learning Mentors, for the opportunity to learn data science at ease!\n",
      "Your guidance is invaluable. Grateful for the mentorship!\n",
      "Appreciate the support and knowledge-sharing. Learning a lot!\n",
      "Feeling fortunate to be part of this learning community. Thank you!\n"
     ]
    }
   ],
   "source": [
    "def send_messages(messages, sent_messages):\n",
    "    while messages:\n",
    "        current_message = messages.pop(0)\n",
    "        print(f\"Sending message: {current_message}\")\n",
    "        sent_messages.append(current_message)\n",
    "\n",
    "# List of short text messages thanking Arewa Data Science Machine Learning Mentors\n",
    "thank_you_messages = [\n",
    "    \"Thank you, Arewa Data Science Machine Learning Mentors, for the opportunity to learn data science at ease!\",\n",
    "    \"Your guidance is invaluable. Grateful for the mentorship!\",\n",
    "    \"Appreciate the support and knowledge-sharing. Learning a lot!\",\n",
    "    \"Feeling fortunate to be part of this learning community. Thank you!\"\n",
    "]\n",
    "\n",
    "# Create a copy of the original messages list\n",
    "original_messages = thank_you_messages.copy()\n",
    "\n",
    "# Create an empty list to store sent messages\n",
    "sent_messages_list = []\n",
    "\n",
    "# Call the function to send messages and move them to the sent_messages list\n",
    "send_messages(original_messages.copy(), sent_messages_list)\n",
    "\n",
    "# Print both lists to show that the original list has retained its messages\n",
    "print(\"\\nOriginal messages:\")\n",
    "show_messages(original_messages)\n",
    "\n",
    "print(\"\\nSent messages:\")\n",
    "show_messages(sent_messages_list)\n"
   ]
  },
  {
   "cell_type": "markdown",
   "id": "f5ae1360",
   "metadata": {},
   "source": [
    "# Exercise 8-12"
   ]
  },
  {
   "cell_type": "markdown",
   "id": "b71dab78",
   "metadata": {},
   "source": [
    " Sandwiches: Write a function that accepts a list of items a person wants \n",
    "on a sandwich. The function should have one parameter that collects as many \n",
    "items as the function call provides, and it should print a summary of the sand- \n",
    "wich that’s being ordered. Call the function three times, using a different num- \n",
    "ber of arguments each time"
   ]
  },
  {
   "cell_type": "code",
   "execution_count": 7,
   "id": "b11351c4",
   "metadata": {},
   "outputs": [
    {
     "name": "stdout",
     "output_type": "stream",
     "text": [
      "\n",
      "Making a local food with the following ingredients:\n",
      "- Tuwo Shinkafa\n",
      "- Miyan Taushe\n",
      "\n",
      "Making a local food with the following ingredients:\n",
      "- Fura da Nono\n",
      "- Suya\n",
      "- Dambu Nama\n",
      "\n",
      "Making a local food with the following ingredients:\n",
      "- Masa\n",
      "- Kunun Gyada\n",
      "- Kuka Soup\n",
      "- Dabino Juice\n"
     ]
    }
   ],
   "source": [
    "#Sandwiches change to Kano local food\n",
    "def make_dan_wake(*ingredients):\n",
    "    print(\"\\nMaking a local food with the following ingredients:\")\n",
    "    for ingredient in ingredients:\n",
    "        print(f\"- {ingredient}\")\n",
    "\n",
    "# Call the function three times with a different number of arguments each time\n",
    "make_dan_wake('Tuwo Shinkafa', 'Miyan Taushe')\n",
    "make_dan_wake('Fura da Nono', 'Suya', 'Dambu Nama')\n",
    "make_dan_wake('Masa', 'Kunun Gyada', 'Kuka Soup', 'Dabino Juice')\n"
   ]
  },
  {
   "cell_type": "markdown",
   "id": "90366752",
   "metadata": {},
   "source": [
    "# Exercise 8-13"
   ]
  },
  {
   "cell_type": "markdown",
   "id": "e28d074c",
   "metadata": {},
   "source": [
    "User Profile: Start with a copy of user_profile.py from p a g e 148. Build a \n",
    "profile of yourself by calling build_profile(), using your first and last names \n",
    "and three other key-value pairs that describe you."
   ]
  },
  {
   "cell_type": "code",
   "execution_count": 8,
   "id": "d8f05f9d",
   "metadata": {},
   "outputs": [
    {
     "name": "stdout",
     "output_type": "stream",
     "text": [
      "{'occupation': 'Full Stack Developer', 'expertise': 'AI/ML/DL Enthusiast', 'location': 'Kano, Nigeria', 'first_name': 'Ali', 'last_name': 'Lawal Muazu'}\n"
     ]
    }
   ],
   "source": [
    "def build_profile(first, last, **user_info):\n",
    "    \"\"\"Build a dictionary containing everything we know about a user.\"\"\"\n",
    "    user_info['first_name'] = first\n",
    "    user_info['last_name'] = last\n",
    "    return user_info\n",
    "\n",
    "# Build a profile for yourself with location set to 'Kano, Nigeria'\n",
    "my_profile = build_profile('Ali', 'Lawal Muazu',\n",
    "                           occupation='Full Stack Developer',\n",
    "                           expertise='AI/ML/DL Enthusiast',\n",
    "                           location='Kano, Nigeria')\n",
    "\n",
    "# Print the user profile\n",
    "print(my_profile)\n"
   ]
  },
  {
   "cell_type": "markdown",
   "id": "977f368e",
   "metadata": {},
   "source": [
    "# Exercise 8-14"
   ]
  },
  {
   "cell_type": "markdown",
   "id": "246e4e03",
   "metadata": {},
   "source": [
    "Cars: Write a function that stores information about a car in a diction- \n",
    "ary. The function should always receive a manufacturer and a model name. It \n",
    "should then accept an arbitrary number of keyword arguments. Call the func- \n",
    "tion with the required information and two other name-value pairs, such as a \n",
    "color or an optional feature. Your function should work for a call like this one:\n",
    "One advantage of functions is the way they separate blocks of code from \n",
    "your main program. When you use descriptive names for your functions, \n",
    "your programs become much easier to follow. You can go a step further by \n",
    "storing your functions in a separate file called a module and then importing \n",
    "that module into your main program. An import statement tells Python to \n",
    "make the code in a module available in the currently running program file.\n",
    "Storing your functions in a separate file allows you to hide the details of \n",
    "your program’s code and focus on its higher-level logic. It also allows you to \n",
    "reuse functions in many different programs. When you store your functions \n",
    "in separate files, you can share those files with other programmers without \n",
    "Functions   149\n",
    "Print the dictionary that’s returned to make sure all the information was \n",
    "stored correctly."
   ]
  },
  {
   "cell_type": "code",
   "execution_count": 9,
   "id": "67041010",
   "metadata": {},
   "outputs": [
    {
     "name": "stdout",
     "output_type": "stream",
     "text": [
      "{'manufacturer': 'Toyota', 'model': 'Camry', 'color': 'Blue', 'year': 2022}\n"
     ]
    }
   ],
   "source": [
    "def car_info(manufacturer, model, **additional_info):\n",
    "    car_dict = {\n",
    "        'manufacturer': manufacturer,\n",
    "        'model': model,\n",
    "    }\n",
    "    car_dict.update(additional_info)\n",
    "    return car_dict\n",
    "\n",
    "# Call the function with required information and two other name-value pairs\n",
    "car_information = car_info('Toyota', 'Camry', color='Blue', year=2022)\n",
    "\n",
    "# Print the dictionary to make sure all the information was stored correctly\n",
    "print(car_information)\n"
   ]
  },
  {
   "cell_type": "markdown",
   "id": "88193f06",
   "metadata": {},
   "source": [
    "# Exercise 8-15"
   ]
  },
  {
   "cell_type": "markdown",
   "id": "05e64136",
   "metadata": {},
   "source": [
    " Printing Models: Put the functions for the example printing_models.py in a \n",
    "separate file called printing_functions.py. Write an import statement at the top \n",
    "of printing_models.py, and modify the file to use the imported functions."
   ]
  },
  {
   "cell_type": "code",
   "execution_count": 11,
   "id": "ebd5e5ae",
   "metadata": {},
   "outputs": [
    {
     "name": "stdout",
     "output_type": "stream",
     "text": [
      "Printing model: Nigerian Drum\n",
      "Printing model: Chin Chin\n",
      "Printing model: Adire Fabric\n",
      "Printing model: Aso Oke\n",
      "\n",
      "Completed models:\n",
      "Nigerian Drum\n",
      "Chin Chin\n",
      "Adire Fabric\n",
      "Aso Oke\n"
     ]
    }
   ],
   "source": [
    "# printing_models.py\n",
    "from printing_functions import print_models, show_completed_models\n",
    "\n",
    "# Sample data of Nigerian products\n",
    "nigerian_products = ['Aso Oke', 'Adire Fabric', 'Chin Chin', 'Nigerian Drum']\n",
    "\n",
    "completed_models = []\n",
    "\n",
    "# Use the imported functions\n",
    "print_models(nigerian_products, completed_models)\n",
    "show_completed_models(completed_models)\n",
    "\n"
   ]
  },
  {
   "cell_type": "markdown",
   "id": "815a9d2a",
   "metadata": {},
   "source": [
    "# Exercise 8-16"
   ]
  },
  {
   "cell_type": "markdown",
   "id": "688e4f36",
   "metadata": {},
   "source": [
    "Imports: Using a program you wrote that has one function in it, store that \n",
    "function in a separate file. Import the function into your main program file, and \n",
    "call the function using each of these approaches:\n",
    "import module_name\n",
    "from module_name import function_name\n",
    "from module_name import function_name as fn \n",
    "import module_name as mn\n",
    "from module_name import *"
   ]
  },
  {
   "cell_type": "code",
   "execution_count": 36,
   "id": "919c0eb1",
   "metadata": {
    "scrolled": true
   },
   "outputs": [],
   "source": [
    "# main.py\n",
    "\n",
    "import my\n"
   ]
  },
  {
   "cell_type": "code",
   "execution_count": 37,
   "id": "a68b22c3",
   "metadata": {},
   "outputs": [
    {
     "name": "stdout",
     "output_type": "stream",
     "text": [
      "Hello\n",
      "Hello\n",
      "Hello\n",
      "Hello\n",
      "Hello\n"
     ]
    }
   ],
   "source": [
    "# main_program.py\n",
    "\n",
    "# Approach 1: import module_name\n",
    "import my\n",
    "\n",
    "# Call the function using the imported module\n",
    "my.greet(\"Aliyu\")\n",
    "\n",
    "# Approach 2: from module_name import function_name\n",
    "from my import greet\n",
    "\n",
    "# Call the function directly\n",
    "greet(\"Fatima\")\n",
    "\n",
    "# Approach 3: from module_name import function_name as fn\n",
    "from my import greet as greeting\n",
    "\n",
    "# Call the function using the imported function with an alias\n",
    "greeting(\"Abdul\")\n",
    "\n",
    "# Approach 4: import module_name as mn\n",
    "import my as my_mod\n",
    "\n",
    "# Call the function using the imported module with an alias\n",
    "my.greet(\"Zainab\")\n",
    "\n",
    "# Approach 5: from module_name import *\n",
    "from my import *\n",
    "\n",
    "# Call the function directly (not recommended for larger projects)\n",
    "greet(\"Umar\")\n"
   ]
  },
  {
   "cell_type": "markdown",
   "id": "df879ffd",
   "metadata": {},
   "source": [
    "# Exercise 8-17"
   ]
  },
  {
   "cell_type": "markdown",
   "id": "47a790d0",
   "metadata": {},
   "source": [
    " Styling Functions: Choose any three programs you wrote for this chapter, \n",
    "and make sure they follow the styling guidelines described in this section."
   ]
  },
  {
   "cell_type": "code",
   "execution_count": null,
   "id": "82dab544",
   "metadata": {},
   "outputs": [],
   "source": [
    "#Example 1: make_shirt Function"
   ]
  },
  {
   "cell_type": "code",
   "execution_count": 38,
   "id": "05ec1dc9",
   "metadata": {},
   "outputs": [
    {
     "name": "stdout",
     "output_type": "stream",
     "text": [
      "Shirt order: Size - Large, Message - 'I love Python'\n",
      "Shirt order: Size - Medium, Message - 'I love Python'\n",
      "Shirt order: Size - Small, Message - 'Custom message'\n"
     ]
    }
   ],
   "source": [
    "def make_shirt(size='large', message='I love Python'):\n",
    "    \"\"\"Prints a shirt order summary.\"\"\"\n",
    "    print(f\"Shirt order: Size - {size.title()}, Message - '{message}'\")\n",
    "\n",
    "# Example usage\n",
    "make_shirt()  # Large shirt with default message\n",
    "make_shirt(size='medium')  # Medium shirt with default message\n",
    "make_shirt(size='small', message='Custom message')  # Small shirt with custom message\n"
   ]
  },
  {
   "cell_type": "code",
   "execution_count": null,
   "id": "1c22a416",
   "metadata": {},
   "outputs": [],
   "source": [
    "#Example 2: describe_city Function"
   ]
  },
  {
   "cell_type": "code",
   "execution_count": 40,
   "id": "73177485",
   "metadata": {},
   "outputs": [
    {
     "name": "stdout",
     "output_type": "stream",
     "text": [
      "Reykjavik is in Iceland.\n",
      "Kano is in Nigeria.\n",
      "Lagos is in Unknown.\n"
     ]
    }
   ],
   "source": [
    "def describe_city(city, country='Unknown'):\n",
    "    \"\"\"Prints a sentence describing the city and its country.\"\"\"\n",
    "    print(f\"{city.title()} is in {country.title()}.\")\n",
    "\n",
    "# Example usage\n",
    "describe_city('Reykjavik', 'Iceland')\n",
    "describe_city('Kano', 'Nigeria')\n",
    "describe_city('Lagos')  # Assumes default country 'Unknown'\n"
   ]
  },
  {
   "cell_type": "code",
   "execution_count": null,
   "id": "908e991d",
   "metadata": {},
   "outputs": [],
   "source": [
    "#Example 3: make_album Function with Optional Parameter"
   ]
  },
  {
   "cell_type": "code",
   "execution_count": 41,
   "id": "0e137295",
   "metadata": {},
   "outputs": [
    {
     "name": "stdout",
     "output_type": "stream",
     "text": [
      "{'artist': 'Akon', 'title': 'Freedom', 'songs': 12}\n",
      "{'artist': 'Akon', 'title': 'Konvicted'}\n",
      "{'artist': 'Taylor Swift', 'title': '1989', 'songs': 16}\n"
     ]
    }
   ],
   "source": [
    "def make_album(artist, title, songs=None):\n",
    "    \"\"\"Builds a dictionary describing a music album.\"\"\"\n",
    "    album_info = {'artist': artist, 'title': title}\n",
    "    if songs is not None:\n",
    "        album_info['songs'] = songs\n",
    "    return album_info\n",
    "\n",
    "# Example usage\n",
    "album1 = make_album('Akon', 'Freedom', 12)\n",
    "album2 = make_album('Akon', 'Konvicted')\n",
    "album3 = make_album('Taylor Swift', '1989', 16)\n",
    "\n",
    "print(album1)\n",
    "print(album2)\n",
    "print(album3)\n"
   ]
  },
  {
   "cell_type": "code",
   "execution_count": null,
   "id": "caea78ef",
   "metadata": {},
   "outputs": [],
   "source": []
  }
 ],
 "metadata": {
  "kernelspec": {
   "display_name": "Python 3 (ipykernel)",
   "language": "python",
   "name": "python3"
  },
  "language_info": {
   "codemirror_mode": {
    "name": "ipython",
    "version": 3
   },
   "file_extension": ".py",
   "mimetype": "text/x-python",
   "name": "python",
   "nbconvert_exporter": "python",
   "pygments_lexer": "ipython3",
   "version": "3.11.4"
  }
 },
 "nbformat": 4,
 "nbformat_minor": 5
}
