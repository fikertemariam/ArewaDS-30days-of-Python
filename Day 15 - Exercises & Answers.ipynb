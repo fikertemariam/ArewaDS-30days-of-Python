{
 "cells": [
  {
   "cell_type": "markdown",
   "id": "ce2fdb6c",
   "metadata": {},
   "source": [
    "# Exercises: Day 15"
   ]
  },
  {
   "cell_type": "code",
   "execution_count": null,
   "id": "3bbddfe4",
   "metadata": {},
   "outputs": [],
   "source": [
    "#SyntaxError"
   ]
  },
  {
   "cell_type": "code",
   "execution_count": 1,
   "id": "b9aef6cc",
   "metadata": {
    "scrolled": true
   },
   "outputs": [
    {
     "ename": "SyntaxError",
     "evalue": "invalid syntax (942418113.py, line 2)",
     "output_type": "error",
     "traceback": [
      "\u001b[1;36m  Cell \u001b[1;32mIn[1], line 2\u001b[1;36m\u001b[0m\n\u001b[1;33m    asabeneh@Asabeneh:~$ python\u001b[0m\n\u001b[1;37m                     ^\u001b[0m\n\u001b[1;31mSyntaxError\u001b[0m\u001b[1;31m:\u001b[0m invalid syntax\n"
     ]
    }
   ],
   "source": [
    "#Example 1: SyntaxError\n",
    "asabeneh@Asabeneh:~$ python\n",
    "Python 3.9.6 (default, Jun 28 2021, 15:26:21)\n",
    "[Clang 11.0.0 (clang-1100.0.33.8)] on darwin\n",
    "Type \"help\", \"copyright\", \"credits\" or \"license\" for more information.\n",
    ">>> print 'hello world'\n",
    "  File \"<stdin>\", line 1\n",
    "    print 'hello world'\n",
    "                      ^\n",
    "SyntaxError: Missing parentheses in call to 'print'. Did you mean print('hello world')?\n",
    ">>>"
   ]
  },
  {
   "cell_type": "code",
   "execution_count": 3,
   "id": "cd09da6b",
   "metadata": {},
   "outputs": [
    {
     "name": "stdout",
     "output_type": "stream",
     "text": [
      "hello world\n"
     ]
    }
   ],
   "source": [
    "#Solution\n",
    "print('hello world')\n"
   ]
  },
  {
   "cell_type": "code",
   "execution_count": null,
   "id": "d187cd89",
   "metadata": {},
   "outputs": [],
   "source": [
    "#NameError\n",
    "\n",
    "#Example 1: NameError\n",
    "print(age)"
   ]
  },
  {
   "cell_type": "code",
   "execution_count": 5,
   "id": "7776f922",
   "metadata": {},
   "outputs": [
    {
     "name": "stdout",
     "output_type": "stream",
     "text": [
      "25\n"
     ]
    }
   ],
   "source": [
    "#Solution\n",
    ">>> age = 25\n",
    ">>> print(age)"
   ]
  },
  {
   "cell_type": "code",
   "execution_count": 6,
   "id": "61fa4ef3",
   "metadata": {},
   "outputs": [
    {
     "ename": "SyntaxError",
     "evalue": "invalid syntax (753677501.py, line 4)",
     "output_type": "error",
     "traceback": [
      "\u001b[1;36m  Cell \u001b[1;32mIn[6], line 4\u001b[1;36m\u001b[0m\n\u001b[1;33m    >>> numbers = [1, 2, 3, 4, 5]\u001b[0m\n\u001b[1;37m    ^\u001b[0m\n\u001b[1;31mSyntaxError\u001b[0m\u001b[1;31m:\u001b[0m invalid syntax\n"
     ]
    }
   ],
   "source": [
    "#IndexError\n",
    "\n",
    "#Example 1: IndexError\n",
    ">>> numbers = [1, 2, 3, 4, 5]\n",
    ">>> numbers[5]"
   ]
  },
  {
   "cell_type": "code",
   "execution_count": 7,
   "id": "a7993d7a",
   "metadata": {},
   "outputs": [
    {
     "data": {
      "text/plain": [
       "5"
      ]
     },
     "execution_count": 7,
     "metadata": {},
     "output_type": "execute_result"
    }
   ],
   "source": [
    "#Solution\n",
    ">>> numbers = [1, 2, 3, 4, 5]\n",
    ">>> numbers[4]"
   ]
  },
  {
   "cell_type": "code",
   "execution_count": 8,
   "id": "4ff5ebeb",
   "metadata": {},
   "outputs": [
    {
     "ename": "SyntaxError",
     "evalue": "invalid syntax (1712548411.py, line 4)",
     "output_type": "error",
     "traceback": [
      "\u001b[1;36m  Cell \u001b[1;32mIn[8], line 4\u001b[1;36m\u001b[0m\n\u001b[1;33m    >>> import maths\u001b[0m\n\u001b[1;37m    ^\u001b[0m\n\u001b[1;31mSyntaxError\u001b[0m\u001b[1;31m:\u001b[0m invalid syntax\n"
     ]
    }
   ],
   "source": [
    "#ModuleNotFoundError\n",
    "\n",
    "#Example 1: ModuleNotFoundError\n",
    ">>> import maths"
   ]
  },
  {
   "cell_type": "code",
   "execution_count": 9,
   "id": "86bdea46",
   "metadata": {},
   "outputs": [],
   "source": [
    "#Solutions\n",
    "import math"
   ]
  },
  {
   "cell_type": "code",
   "execution_count": 10,
   "id": "18d9284f",
   "metadata": {},
   "outputs": [
    {
     "ename": "SyntaxError",
     "evalue": "invalid syntax (3502925348.py, line 4)",
     "output_type": "error",
     "traceback": [
      "\u001b[1;36m  Cell \u001b[1;32mIn[10], line 4\u001b[1;36m\u001b[0m\n\u001b[1;33m    >>> import math\u001b[0m\n\u001b[1;37m    ^\u001b[0m\n\u001b[1;31mSyntaxError\u001b[0m\u001b[1;31m:\u001b[0m invalid syntax\n"
     ]
    }
   ],
   "source": [
    "#AttributeError\n",
    "\n",
    "#Example 1: AttributeError\n",
    ">>> import math\n",
    ">>> math.PI"
   ]
  },
  {
   "cell_type": "code",
   "execution_count": 11,
   "id": "71ba2403",
   "metadata": {},
   "outputs": [
    {
     "data": {
      "text/plain": [
       "3.141592653589793"
      ]
     },
     "execution_count": 11,
     "metadata": {},
     "output_type": "execute_result"
    }
   ],
   "source": [
    "#Solution\n",
    ">>> import math\n",
    ">>> math.pi"
   ]
  },
  {
   "cell_type": "code",
   "execution_count": 12,
   "id": "fab468d2",
   "metadata": {},
   "outputs": [
    {
     "ename": "SyntaxError",
     "evalue": "invalid syntax (3164912903.py, line 4)",
     "output_type": "error",
     "traceback": [
      "\u001b[1;36m  Cell \u001b[1;32mIn[12], line 4\u001b[1;36m\u001b[0m\n\u001b[1;33m    >>> users = {'name':'Asab', 'age':250, 'country':'Finland'}\u001b[0m\n\u001b[1;37m    ^\u001b[0m\n\u001b[1;31mSyntaxError\u001b[0m\u001b[1;31m:\u001b[0m invalid syntax\n"
     ]
    }
   ],
   "source": [
    "#KeyError\n",
    "\n",
    "#Example 1: KeyError\n",
    ">>> users = {'name':'Asab', 'age':250, 'country':'Finland'}\n",
    ">>> users['name']"
   ]
  },
  {
   "cell_type": "code",
   "execution_count": 14,
   "id": "6d0be186",
   "metadata": {},
   "outputs": [
    {
     "data": {
      "text/plain": [
       "'Finland'"
      ]
     },
     "execution_count": 14,
     "metadata": {},
     "output_type": "execute_result"
    }
   ],
   "source": [
    "#Solution\n",
    ">>> user = {'name':'Asab', 'age':250, 'country':'Finland'}\n",
    "\n",
    ">>> user['country']"
   ]
  },
  {
   "cell_type": "code",
   "execution_count": 15,
   "id": "d29a94c8",
   "metadata": {},
   "outputs": [
    {
     "ename": "SyntaxError",
     "evalue": "invalid syntax (3824644381.py, line 4)",
     "output_type": "error",
     "traceback": [
      "\u001b[1;36m  Cell \u001b[1;32mIn[15], line 4\u001b[1;36m\u001b[0m\n\u001b[1;33m    >>> 4 + '3'\u001b[0m\n\u001b[1;37m    ^\u001b[0m\n\u001b[1;31mSyntaxError\u001b[0m\u001b[1;31m:\u001b[0m invalid syntax\n"
     ]
    }
   ],
   "source": [
    "#TypeError\n",
    "\n",
    "#Example 1: TypeError\n",
    ">>> 4 + '3'"
   ]
  },
  {
   "cell_type": "code",
   "execution_count": 17,
   "id": "2f6e6484",
   "metadata": {},
   "outputs": [
    {
     "data": {
      "text/plain": [
       "7.0"
      ]
     },
     "execution_count": 17,
     "metadata": {},
     "output_type": "execute_result"
    }
   ],
   "source": [
    "#Solution\n",
    ">>> 4 + int('3')\n",
    "\n",
    ">>> 4 + float('3')\n"
   ]
  },
  {
   "cell_type": "code",
   "execution_count": 18,
   "id": "d0135446",
   "metadata": {},
   "outputs": [
    {
     "data": {
      "text/plain": [
       "7"
      ]
     },
     "execution_count": 18,
     "metadata": {},
     "output_type": "execute_result"
    }
   ],
   "source": [
    "#Solution\n",
    ">>> 4 + int('3')\n"
   ]
  },
  {
   "cell_type": "code",
   "execution_count": 19,
   "id": "3d57b6e2",
   "metadata": {},
   "outputs": [
    {
     "ename": "SyntaxError",
     "evalue": "invalid syntax (3754447758.py, line 4)",
     "output_type": "error",
     "traceback": [
      "\u001b[1;36m  Cell \u001b[1;32mIn[19], line 4\u001b[1;36m\u001b[0m\n\u001b[1;33m    >>> from math import power\u001b[0m\n\u001b[1;37m    ^\u001b[0m\n\u001b[1;31mSyntaxError\u001b[0m\u001b[1;31m:\u001b[0m invalid syntax\n"
     ]
    }
   ],
   "source": [
    "#ImportError\n",
    "\n",
    "#Example 1: TypeError\n",
    ">>> from math import power"
   ]
  },
  {
   "cell_type": "code",
   "execution_count": 20,
   "id": "2c535a4d",
   "metadata": {},
   "outputs": [
    {
     "data": {
      "text/plain": [
       "8.0"
      ]
     },
     "execution_count": 20,
     "metadata": {},
     "output_type": "execute_result"
    }
   ],
   "source": [
    "#Solution\n",
    ">>> from math import pow\n",
    ">>> pow(2,3)"
   ]
  },
  {
   "cell_type": "code",
   "execution_count": null,
   "id": "a6f8b807",
   "metadata": {},
   "outputs": [],
   "source": [
    "#ValueError"
   ]
  },
  {
   "cell_type": "code",
   "execution_count": 21,
   "id": "1063c07f",
   "metadata": {},
   "outputs": [
    {
     "ename": "ValueError",
     "evalue": "invalid literal for int() with base 10: '12a'",
     "output_type": "error",
     "traceback": [
      "\u001b[1;31m---------------------------------------------------------------------------\u001b[0m",
      "\u001b[1;31mValueError\u001b[0m                                Traceback (most recent call last)",
      "Cell \u001b[1;32mIn[21], line 1\u001b[0m\n\u001b[1;32m----> 1\u001b[0m \u001b[38;5;28mint\u001b[39m(\u001b[38;5;124m'\u001b[39m\u001b[38;5;124m12a\u001b[39m\u001b[38;5;124m'\u001b[39m)\n",
      "\u001b[1;31mValueError\u001b[0m: invalid literal for int() with base 10: '12a'"
     ]
    }
   ],
   "source": [
    ">>> int('12a')"
   ]
  },
  {
   "cell_type": "code",
   "execution_count": 26,
   "id": "55695524",
   "metadata": {},
   "outputs": [
    {
     "name": "stdout",
     "output_type": "stream",
     "text": [
      "12 a\n"
     ]
    }
   ],
   "source": [
    "#Solution\n",
    ">>> A = int('12')\n",
    ">>> B = str('a')\n",
    "print(A,B)"
   ]
  },
  {
   "cell_type": "code",
   "execution_count": null,
   "id": "12ddb748",
   "metadata": {},
   "outputs": [],
   "source": [
    "#ZeroDivisionError"
   ]
  },
  {
   "cell_type": "code",
   "execution_count": 27,
   "id": "dc07d7ff",
   "metadata": {},
   "outputs": [
    {
     "ename": "ZeroDivisionError",
     "evalue": "division by zero",
     "output_type": "error",
     "traceback": [
      "\u001b[1;31m---------------------------------------------------------------------------\u001b[0m",
      "\u001b[1;31mZeroDivisionError\u001b[0m                         Traceback (most recent call last)",
      "Cell \u001b[1;32mIn[27], line 1\u001b[0m\n\u001b[1;32m----> 1\u001b[0m \u001b[38;5;241m1\u001b[39m\u001b[38;5;241m/\u001b[39m\u001b[38;5;241m0\u001b[39m\n",
      "\u001b[1;31mZeroDivisionError\u001b[0m: division by zero"
     ]
    }
   ],
   "source": [
    ">>> 1/0"
   ]
  },
  {
   "cell_type": "code",
   "execution_count": 28,
   "id": "4b4efeb1",
   "metadata": {},
   "outputs": [
    {
     "name": "stdout",
     "output_type": "stream",
     "text": [
      "Error: Division by zero\n"
     ]
    }
   ],
   "source": [
    "#Solution\n",
    "try:\n",
    "    result = 1 / 0\n",
    "except ZeroDivisionError:\n",
    "    print(\"Error: Division by zero\")\n"
   ]
  },
  {
   "cell_type": "code",
   "execution_count": null,
   "id": "de588d74",
   "metadata": {},
   "outputs": [],
   "source": []
  }
 ],
 "metadata": {
  "kernelspec": {
   "display_name": "Python 3 (ipykernel)",
   "language": "python",
   "name": "python3"
  },
  "language_info": {
   "codemirror_mode": {
    "name": "ipython",
    "version": 3
   },
   "file_extension": ".py",
   "mimetype": "text/x-python",
   "name": "python",
   "nbconvert_exporter": "python",
   "pygments_lexer": "ipython3",
   "version": "3.11.4"
  }
 },
 "nbformat": 4,
 "nbformat_minor": 5
}
