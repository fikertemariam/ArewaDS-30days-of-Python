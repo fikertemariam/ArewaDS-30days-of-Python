{
 "cells": [
  {
   "cell_type": "markdown",
   "id": "2dd6cbee",
   "metadata": {},
   "source": [
    "# Exercises - Day 13"
   ]
  },
  {
   "cell_type": "code",
   "execution_count": null,
   "id": "9b48103f",
   "metadata": {},
   "outputs": [],
   "source": [
    "#1.Filter only negative and zero in the list using list comprehension"
   ]
  },
  {
   "cell_type": "code",
   "execution_count": 1,
   "id": "a3890afa",
   "metadata": {},
   "outputs": [
    {
     "name": "stdout",
     "output_type": "stream",
     "text": [
      "[-4, -3, -2, -1, 0]\n"
     ]
    }
   ],
   "source": [
    "numbers = [-4, -3, -2, -1, 0, 2, 4, 6]\n",
    "\n",
    "filtered_numbers = [num for num in numbers if num <= 0]\n",
    "print(filtered_numbers)\n"
   ]
  },
  {
   "cell_type": "code",
   "execution_count": null,
   "id": "6534fd75",
   "metadata": {},
   "outputs": [],
   "source": [
    "#2.Flatten the following list of lists of lists to a one dimensional list :\n",
    "\"\"\"[(0, 1, 0, 0, 0, 0, 0),\n",
    "(1, 1, 1, 1, 1, 1, 1),\n",
    "(2, 1, 2, 4, 8, 16, 32),\n",
    "(3, 1, 3, 9, 27, 81, 243),\n",
    "(4, 1, 4, 16, 64, 256, 1024),\n",
    "(5, 1, 5, 25, 125, 625, 3125),\n",
    "(6, 1, 6, 36, 216, 1296, 7776),\n",
    "(7, 1, 7, 49, 343, 2401, 16807),\n",
    "(8, 1, 8, 64, 512, 4096, 32768),\n",
    "(9, 1, 9, 81, 729, 6561, 59049),\n",
    "(10, 1, 10, 100, 1000, 10000, 100000)]\"\"\""
   ]
  },
  {
   "cell_type": "code",
   "execution_count": 2,
   "id": "b4312012",
   "metadata": {},
   "outputs": [
    {
     "name": "stdout",
     "output_type": "stream",
     "text": [
      "[1, 2, 3, 4, 5, 6, 7, 8, 9]\n"
     ]
    }
   ],
   "source": [
    "list_of_lists = [[[1, 2, 3]], [[4, 5, 6]], [[7, 8, 9]]]\n",
    "\n",
    "flattened_list = [num for sublist in list_of_lists for inner_list in sublist for num in inner_list]\n",
    "print(flattened_list)\n"
   ]
  },
  {
   "cell_type": "code",
   "execution_count": null,
   "id": "41ee1143",
   "metadata": {},
   "outputs": [],
   "source": [
    "#3.Using list comprehension create the following list of tuples:\n",
    "\"\"\"n', 'Stockholm')], [('Norway', 'Oslo')]]\n",
    "output:\n",
    "[['FINLAND','FIN', 'HELSINKI'], ['SWEDEN', 'SWE', 'STOCKHOLM'], ['NORWAY', 'NOR', 'OSLO']]\n",
    "\n",
    "\"\"\""
   ]
  },
  {
   "cell_type": "code",
   "execution_count": 3,
   "id": "b53a771f",
   "metadata": {},
   "outputs": [
    {
     "name": "stdout",
     "output_type": "stream",
     "text": [
      "[(0, 1, 0, 0, 0, 0, 0), (1, 1, 1, 1, 1, 1, 1), (2, 1, 2, 4, 8, 16, 32), (3, 1, 3, 9, 27, 81, 243), (4, 1, 4, 16, 64, 256, 1024), (5, 1, 5, 25, 125, 625, 3125), (6, 1, 6, 36, 216, 1296, 7776), (7, 1, 7, 49, 343, 2401, 16807), (8, 1, 8, 64, 512, 4096, 32768), (9, 1, 9, 81, 729, 6561, 59049), (10, 1, 10, 100, 1000, 10000, 100000)]\n"
     ]
    }
   ],
   "source": [
    "result = [(i, 1, i, i**2, i**3, i**4, i**5) for i in range(11)]\n",
    "print(result)\n"
   ]
  },
  {
   "cell_type": "code",
   "execution_count": null,
   "id": "d850a3f8",
   "metadata": {},
   "outputs": [],
   "source": [
    "#4.Flatten the following list to a new list:"
   ]
  },
  {
   "cell_type": "code",
   "execution_count": 4,
   "id": "297d4b6f",
   "metadata": {},
   "outputs": [
    {
     "name": "stdout",
     "output_type": "stream",
     "text": [
      "[['FINLAND', 'FIN', 'HELSINKI'], ['SWEDEN', 'SWE', 'STOCKHOLM'], ['NORWAY', 'NOR', 'OSLO']]\n"
     ]
    }
   ],
   "source": [
    "\n",
    "countries = [[('Finland', 'Helsinki')], [('Sweden', 'Stockholm')], [('Norway', 'Oslo')]]\n",
    "\n",
    "flattened_countries = [[country[0].upper(), country[0][:3].upper(), country[1].upper()] for sublist in countries for country in sublist]\n",
    "print(flattened_countries)\n"
   ]
  },
  {
   "cell_type": "code",
   "execution_count": null,
   "id": "5f3af7d6",
   "metadata": {},
   "outputs": [],
   "source": [
    "#5.Change the following list to a list of dictionaries:\n",
    "\"\"\"\"countries = [[('Finland', 'Helsinki')], [('Sweden', 'Stockholm')], [('Norway', 'Oslo')]]\n",
    "output:\n",
    "[{'country': 'FINLAND', 'city': 'HELSINKI'},\n",
    "{'country': 'SWEDEN', 'city': 'STOCKHOLM'},\n",
    "{'country': 'NORWAY', 'city': 'OSLO'}]\"\"\""
   ]
  },
  {
   "cell_type": "code",
   "execution_count": null,
   "id": "377b70fb",
   "metadata": {},
   "outputs": [],
   "source": [
    "#6.Change the following list of lists to a list of concatenated strings:\n",
    "\"\"\"names = [[('Asabeneh', 'Yetayeh')], [('David', 'Smith')], [('Donald', 'Trump')], [('Bill', 'Gates')]]\n",
    "output\n",
    "['Asabeneh Yetaeyeh', 'David Smith', 'Donald Trump', 'Bill Gates']\"\"\""
   ]
  },
  {
   "cell_type": "code",
   "execution_count": 5,
   "id": "b6ffd8da",
   "metadata": {},
   "outputs": [
    {
     "name": "stdout",
     "output_type": "stream",
     "text": [
      "['Asabeneh Yetayeh', 'David Smith', 'Donald Trump', 'Bill Gates']\n"
     ]
    }
   ],
   "source": [
    "names = [[('Asabeneh', 'Yetayeh')], [('David', 'Smith')], [('Donald', 'Trump')], [('Bill', 'Gates')]]\n",
    "\n",
    "concatenated_names = [f\"{name[0]} {name[1]}\" for sublist in names for name in sublist]\n",
    "print(concatenated_names)\n"
   ]
  },
  {
   "cell_type": "code",
   "execution_count": null,
   "id": "b7ec75b5",
   "metadata": {},
   "outputs": [],
   "source": [
    "#7.Write a lambda function which can solve a slope or y-intercept of linear functions."
   ]
  },
  {
   "cell_type": "code",
   "execution_count": 6,
   "id": "057f44e2",
   "metadata": {},
   "outputs": [
    {
     "name": "stdout",
     "output_type": "stream",
     "text": [
      "Slope: 1.0\n",
      "Y-intercept: 1.0\n"
     ]
    }
   ],
   "source": [
    "linear_function_solver = lambda x1, y1, x2, y2, option: (y2 - y1) / (x2 - x1) if option == 'slope' else y1 - ((y2 - y1) / (x2 - x1)) * x1\n",
    "\n",
    "# Example usage:\n",
    "# Solve for slope: m = (y2 - y1) / (x2 - x1)\n",
    "slope = linear_function_solver(1, 2, 3, 4, 'slope')\n",
    "print(f\"Slope: {slope}\")\n",
    "\n",
    "# Solve for y-intercept: b = y1 - m * x1\n",
    "y_intercept = linear_function_solver(1, 2, 3, 4, 'y-intercept')\n",
    "print(f\"Y-intercept: {y_intercept}\")\n"
   ]
  },
  {
   "cell_type": "code",
   "execution_count": null,
   "id": "cb2ef5f6",
   "metadata": {},
   "outputs": [],
   "source": []
  }
 ],
 "metadata": {
  "kernelspec": {
   "display_name": "Python 3 (ipykernel)",
   "language": "python",
   "name": "python3"
  },
  "language_info": {
   "codemirror_mode": {
    "name": "ipython",
    "version": 3
   },
   "file_extension": ".py",
   "mimetype": "text/x-python",
   "name": "python",
   "nbconvert_exporter": "python",
   "pygments_lexer": "ipython3",
   "version": "3.11.4"
  }
 },
 "nbformat": 4,
 "nbformat_minor": 5
}
