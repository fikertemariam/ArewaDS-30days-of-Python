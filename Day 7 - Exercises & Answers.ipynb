{
 "cells": [
  {
   "cell_type": "markdown",
   "id": "5d65c757",
   "metadata": {},
   "source": [
    "# Exercises - Day 7"
   ]
  },
  {
   "cell_type": "code",
   "execution_count": null,
   "id": "bfdc1037",
   "metadata": {},
   "outputs": [],
   "source": [
    "#Exercises: Level 1"
   ]
  },
  {
   "cell_type": "code",
   "execution_count": 2,
   "id": "99079dfe",
   "metadata": {},
   "outputs": [],
   "source": [
    "# sets\n",
    "it_companies = {'Facebook', 'Google', 'Microsoft', 'Apple', 'IBM', 'Oracle', 'Amazon'}\n",
    "A = {19, 22, 24, 20, 25, 26}\n",
    "B = {19, 22, 20, 25, 26, 24, 28, 27}\n",
    "age = [22, 19, 24, 25, 26, 24, 25, 24]"
   ]
  },
  {
   "cell_type": "code",
   "execution_count": null,
   "id": "034e02df",
   "metadata": {},
   "outputs": [],
   "source": [
    "#Find the length of the set it_companies"
   ]
  },
  {
   "cell_type": "code",
   "execution_count": 3,
   "id": "d2285315",
   "metadata": {},
   "outputs": [
    {
     "name": "stdout",
     "output_type": "stream",
     "text": [
      "Length of it_companies: 7\n"
     ]
    }
   ],
   "source": [
    "it_companies = {'Facebook', 'Google', 'Microsoft', 'Apple', 'IBM', 'Oracle', 'Amazon'}\n",
    "length_of_it_companies = len(it_companies)\n",
    "\n",
    "print(\"Length of it_companies:\", length_of_it_companies)\n"
   ]
  },
  {
   "cell_type": "code",
   "execution_count": null,
   "id": "9a032b38",
   "metadata": {},
   "outputs": [],
   "source": [
    "#Add 'Twitter' to it_companies"
   ]
  },
  {
   "cell_type": "code",
   "execution_count": 4,
   "id": "96cea94e",
   "metadata": {},
   "outputs": [
    {
     "name": "stdout",
     "output_type": "stream",
     "text": [
      "Updated it_companies: {'Oracle', 'IBM', 'Twitter', 'Facebook', 'Amazon', 'Microsoft', 'Google', 'Apple'}\n"
     ]
    }
   ],
   "source": [
    "it_companies = {'Facebook', 'Google', 'Microsoft', 'Apple', 'IBM', 'Oracle', 'Amazon'}\n",
    "it_companies.add('Twitter')\n",
    "\n",
    "print(\"Updated it_companies:\", it_companies)\n"
   ]
  },
  {
   "cell_type": "code",
   "execution_count": null,
   "id": "6ba2c755",
   "metadata": {},
   "outputs": [],
   "source": [
    "#Insert multiple IT companies at once to the set it_companies"
   ]
  },
  {
   "cell_type": "code",
   "execution_count": 5,
   "id": "0b6865db",
   "metadata": {},
   "outputs": [
    {
     "name": "stdout",
     "output_type": "stream",
     "text": [
      "Updated it_companies: {'Oracle', 'Dell', 'Apple', 'IBM', 'Google', 'HP', 'Twitter', 'Facebook', 'Amazon', 'LinkedIn', 'Intel', 'Microsoft'}\n"
     ]
    }
   ],
   "source": [
    "it_companies = {'Facebook', 'Google', 'Microsoft', 'Apple', 'IBM', 'Oracle', 'Amazon'}\n",
    "\n",
    "# List of IT companies to add\n",
    "new_companies = ['Twitter', 'LinkedIn', 'Intel', 'Dell', 'HP']\n",
    "\n",
    "# Using the update() method to add multiple elements\n",
    "it_companies.update(new_companies)\n",
    "\n",
    "print(\"Updated it_companies:\", it_companies)\n"
   ]
  },
  {
   "cell_type": "code",
   "execution_count": null,
   "id": "594f77a0",
   "metadata": {},
   "outputs": [],
   "source": [
    "#Remove one of the companies from the set it_companies"
   ]
  },
  {
   "cell_type": "code",
   "execution_count": 6,
   "id": "233cbaf9",
   "metadata": {},
   "outputs": [
    {
     "name": "stdout",
     "output_type": "stream",
     "text": [
      "Updated it_companies: {'Oracle', 'HP', 'Facebook', 'Dell', 'Amazon', 'LinkedIn', 'Apple', 'IBM', 'Intel', 'Microsoft', 'Google'}\n"
     ]
    }
   ],
   "source": [
    "it_companies = {'Facebook', 'Google', 'Microsoft', 'Apple', 'IBM', 'Oracle', 'Amazon', 'Twitter', 'LinkedIn', 'Intel', 'Dell', 'HP'}\n",
    "\n",
    "# Removing a specific company, for example, 'Twitter'\n",
    "it_companies.remove('Twitter')\n",
    "\n",
    "print(\"Updated it_companies:\", it_companies)\n"
   ]
  },
  {
   "cell_type": "code",
   "execution_count": null,
   "id": "01dd9f16",
   "metadata": {},
   "outputs": [],
   "source": [
    "#What is the difference between remove and discard"
   ]
  },
  {
   "cell_type": "code",
   "execution_count": 13,
   "id": "69591a3d",
   "metadata": {},
   "outputs": [
    {
     "data": {
      "text/plain": [
       "{'Amazon', 'Facebook', 'Google', 'IBM', 'Microsoft', 'Oracle'}"
      ]
     },
     "execution_count": 13,
     "metadata": {},
     "output_type": "execute_result"
    }
   ],
   "source": [
    "#Remove\n",
    "it_companies = {'Facebook', 'Google', 'Microsoft', 'Apple', 'IBM', 'Oracle', 'Amazon'}\n",
    "it_companies.remove('Apple')  # Raises KeyError if 'Twitter' is not present\n",
    "it_companies"
   ]
  },
  {
   "cell_type": "code",
   "execution_count": 14,
   "id": "ccb5b9fd",
   "metadata": {},
   "outputs": [
    {
     "data": {
      "text/plain": [
       "{'Amazon', 'Apple', 'Facebook', 'IBM', 'Microsoft', 'Oracle'}"
      ]
     },
     "execution_count": 14,
     "metadata": {},
     "output_type": "execute_result"
    }
   ],
   "source": [
    "#Discard\n",
    "it_companies = {'Facebook', 'Google', 'Microsoft', 'Apple', 'IBM', 'Oracle', 'Amazon'}\n",
    "it_companies.remove('Google')  # Raises KeyError if 'Twitter' is not present\n",
    "it_companies"
   ]
  },
  {
   "cell_type": "code",
   "execution_count": null,
   "id": "cee2ae46",
   "metadata": {},
   "outputs": [],
   "source": [
    "#Exercises: Level 2"
   ]
  },
  {
   "cell_type": "code",
   "execution_count": null,
   "id": "6cfe7670",
   "metadata": {},
   "outputs": [],
   "source": [
    "#Join A and B"
   ]
  },
  {
   "cell_type": "code",
   "execution_count": 15,
   "id": "f7d82fe8",
   "metadata": {},
   "outputs": [
    {
     "name": "stdout",
     "output_type": "stream",
     "text": [
      "Result using union(): {19, 20, 22, 24, 25, 26, 27, 28}\n"
     ]
    }
   ],
   "source": [
    "A = {19, 22, 24, 20, 25, 26}\n",
    "B = {19, 22, 20, 25, 26, 24, 28, 27}\n",
    "\n",
    "# Join sets A and B using union()\n",
    "result_union = A.union(B)\n",
    "\n",
    "print(\"Result using union():\", result_union)\n"
   ]
  },
  {
   "cell_type": "code",
   "execution_count": null,
   "id": "ef565ea7",
   "metadata": {},
   "outputs": [],
   "source": [
    "#Find A intersection B"
   ]
  },
  {
   "cell_type": "code",
   "execution_count": 16,
   "id": "7fec9d05",
   "metadata": {},
   "outputs": [
    {
     "name": "stdout",
     "output_type": "stream",
     "text": [
      "Result using intersection(): {19, 20, 22, 24, 25, 26}\n"
     ]
    }
   ],
   "source": [
    "A = {19, 22, 24, 20, 25, 26}\n",
    "B = {19, 22, 20, 25, 26, 24, 28, 27}\n",
    "\n",
    "# Find the intersection of sets A and B using intersection()\n",
    "result_intersection = A.intersection(B)\n",
    "\n",
    "print(\"Result using intersection():\", result_intersection)\n"
   ]
  },
  {
   "cell_type": "code",
   "execution_count": 17,
   "id": "ef92f61e",
   "metadata": {},
   "outputs": [],
   "source": [
    "#Is A subset of B"
   ]
  },
  {
   "cell_type": "code",
   "execution_count": 18,
   "id": "cfd5cd67",
   "metadata": {},
   "outputs": [
    {
     "name": "stdout",
     "output_type": "stream",
     "text": [
      "Is A a subset of B: True\n"
     ]
    }
   ],
   "source": [
    "A = {19, 22, 24, 20, 25, 26}\n",
    "B = {19, 22, 20, 25, 26, 24, 28, 27}\n",
    "\n",
    "# Check if A is a subset of B using issubset()\n",
    "is_subset = A.issubset(B)\n",
    "\n",
    "print(\"Is A a subset of B:\", is_subset)\n"
   ]
  },
  {
   "cell_type": "code",
   "execution_count": null,
   "id": "5ccc2f7f",
   "metadata": {},
   "outputs": [],
   "source": [
    "#Are A and B disjoint sets"
   ]
  },
  {
   "cell_type": "code",
   "execution_count": 19,
   "id": "b575ea49",
   "metadata": {},
   "outputs": [
    {
     "name": "stdout",
     "output_type": "stream",
     "text": [
      "Are A and B disjoint: False\n"
     ]
    }
   ],
   "source": [
    "A = {19, 22, 24, 20, 25, 26}\n",
    "B = {19, 22, 20, 25, 26, 24, 28, 27}\n",
    "\n",
    "# Check if A and B are disjoint using isdisjoint()\n",
    "are_disjoint = A.isdisjoint(B)\n",
    "\n",
    "print(\"Are A and B disjoint:\", are_disjoint)\n"
   ]
  },
  {
   "cell_type": "code",
   "execution_count": null,
   "id": "5d1426b7",
   "metadata": {},
   "outputs": [],
   "source": [
    "#Join A with B and B with A"
   ]
  },
  {
   "cell_type": "code",
   "execution_count": 20,
   "id": "5f4ee6a9",
   "metadata": {},
   "outputs": [
    {
     "name": "stdout",
     "output_type": "stream",
     "text": [
      "Result of joining A with B: {19, 20, 22, 24, 25, 26, 27, 28}\n",
      "Result of joining B with A: {19, 20, 22, 24, 25, 26, 27, 28}\n"
     ]
    }
   ],
   "source": [
    "A = {19, 22, 24, 20, 25, 26}\n",
    "B = {19, 22, 20, 25, 26, 24, 28, 27}\n",
    "\n",
    "# Join A with B\n",
    "result1 = A.union(B)\n",
    "# Alternatively, you can use the | operator\n",
    "# result1 = A | B\n",
    "\n",
    "# Join B with A\n",
    "result2 = B.union(A)\n",
    "# Alternatively, you can use the | operator\n",
    "# result2 = B | A\n",
    "\n",
    "print(\"Result of joining A with B:\", result1)\n",
    "print(\"Result of joining B with A:\", result2)\n"
   ]
  },
  {
   "cell_type": "code",
   "execution_count": null,
   "id": "46f02536",
   "metadata": {},
   "outputs": [],
   "source": [
    "#What is the symmetric difference between A and B"
   ]
  },
  {
   "cell_type": "code",
   "execution_count": 21,
   "id": "d94e775f",
   "metadata": {},
   "outputs": [
    {
     "name": "stdout",
     "output_type": "stream",
     "text": [
      "Symmetric difference between A and B: {27, 28}\n"
     ]
    }
   ],
   "source": [
    "A = {19, 22, 24, 20, 25, 26}\n",
    "B = {19, 22, 20, 25, 26, 24, 28, 27}\n",
    "\n",
    "# Find the symmetric difference using symmetric_difference() method\n",
    "result_symmetric_difference = A.symmetric_difference(B)\n",
    "# Alternatively, you can use the ^ operator\n",
    "# result_symmetric_difference = A ^ B\n",
    "\n",
    "print(\"Symmetric difference between A and B:\", result_symmetric_difference)\n"
   ]
  },
  {
   "cell_type": "code",
   "execution_count": null,
   "id": "1b49e144",
   "metadata": {},
   "outputs": [],
   "source": [
    "#Exercises: Level 3"
   ]
  },
  {
   "cell_type": "code",
   "execution_count": null,
   "id": "17b2b41a",
   "metadata": {},
   "outputs": [],
   "source": [
    "#Convert the ages to a set and compare the length of the list and the set, which one is bigger?"
   ]
  },
  {
   "cell_type": "code",
   "execution_count": 22,
   "id": "2a01811d",
   "metadata": {},
   "outputs": [
    {
     "name": "stdout",
     "output_type": "stream",
     "text": [
      "Length of the age list: 8\n",
      "Length of the age set: 5\n",
      "The list has more elements than the set.\n"
     ]
    }
   ],
   "source": [
    "age = [22, 19, 24, 25, 26, 24, 25, 24]\n",
    "\n",
    "# Convert the list 'age' to a set\n",
    "age_set = set(age)\n",
    "\n",
    "# Compare the lengths of the list and the set\n",
    "length_of_age_list = len(age)\n",
    "length_of_age_set = len(age_set)\n",
    "\n",
    "# Output the results\n",
    "print(\"Length of the age list:\", length_of_age_list)\n",
    "print(\"Length of the age set:\", length_of_age_set)\n",
    "\n",
    "# Compare and output the result\n",
    "if length_of_age_set > length_of_age_list:\n",
    "    print(\"The set has more unique elements than the list.\")\n",
    "elif length_of_age_set < length_of_age_list:\n",
    "    print(\"The list has more elements than the set.\")\n",
    "else:\n",
    "    print(\"The list and the set have the same number of elements.\")\n"
   ]
  },
  {
   "cell_type": "code",
   "execution_count": null,
   "id": "4a62eaa7",
   "metadata": {},
   "outputs": [],
   "source": [
    "#Explain the difference between the following data types: string, list, tuple and set"
   ]
  },
  {
   "cell_type": "code",
   "execution_count": null,
   "id": "b7b283b1",
   "metadata": {},
   "outputs": [],
   "source": [
    "#String:\n"
   ]
  },
  {
   "cell_type": "markdown",
   "id": "32454951",
   "metadata": {},
   "source": [
    "A string is a sequence of characters enclosed within single (' '), double (\" \"), or triple (''' ''' or \"\"\" \"\"\") quotes.\n",
    "    Strings are immutable, meaning their values cannot be changed once they are created. You can create a new string with modified content, but the original string remains unchanged.\n",
    "    Operations on strings include concatenation, slicing, and various string methods for manipulation."
   ]
  },
  {
   "cell_type": "code",
   "execution_count": 24,
   "id": "9fda4f76",
   "metadata": {},
   "outputs": [
    {
     "data": {
      "text/plain": [
       "'Hello, World!'"
      ]
     },
     "execution_count": 24,
     "metadata": {},
     "output_type": "execute_result"
    }
   ],
   "source": [
    "#Example:\n",
    "my_string = \"Hello, World!\"\n",
    "my_string"
   ]
  },
  {
   "cell_type": "code",
   "execution_count": null,
   "id": "d8a9a03c",
   "metadata": {},
   "outputs": [],
   "source": [
    "#List:"
   ]
  },
  {
   "cell_type": "markdown",
   "id": "02249fc9",
   "metadata": {},
   "source": [
    "    A list is an ordered, mutable collection of elements. Elements in a list can be of different data types.\n",
    "    Lists are defined using square brackets [].\n",
    "    You can modify the content of a list by adding, removing, or changing elements.\n",
    "    Operations on lists include indexing, slicing, appending, extending, and more."
   ]
  },
  {
   "cell_type": "code",
   "execution_count": 25,
   "id": "b0335f8a",
   "metadata": {},
   "outputs": [
    {
     "data": {
      "text/plain": [
       "[1, 2, 'three', 4.0]"
      ]
     },
     "execution_count": 25,
     "metadata": {},
     "output_type": "execute_result"
    }
   ],
   "source": [
    "#Example:\n",
    "my_list = [1, 2, 'three', 4.0]\n",
    "my_list"
   ]
  },
  {
   "cell_type": "code",
   "execution_count": null,
   "id": "51f1d5a8",
   "metadata": {},
   "outputs": [],
   "source": [
    "#Tuple:"
   ]
  },
  {
   "cell_type": "markdown",
   "id": "c718a75a",
   "metadata": {},
   "source": [
    "    A tuple is an ordered, immutable collection of elements. Once a tuple is created, you cannot change its values.\n",
    "    Tuples are defined using parentheses ().\n",
    "    They are often used for fixed collections of related elements and for scenarios where immutability is desired.\n",
    "    Operations on tuples include indexing and slicing."
   ]
  },
  {
   "cell_type": "code",
   "execution_count": 26,
   "id": "80854def",
   "metadata": {},
   "outputs": [
    {
     "data": {
      "text/plain": [
       "(1, 2, 'three', 4.0)"
      ]
     },
     "execution_count": 26,
     "metadata": {},
     "output_type": "execute_result"
    }
   ],
   "source": [
    "#Example:\n",
    "my_tuple = (1, 2, 'three', 4.0)\n",
    "my_tuple"
   ]
  },
  {
   "cell_type": "code",
   "execution_count": null,
   "id": "6b260ef0",
   "metadata": {},
   "outputs": [],
   "source": [
    "#Set:"
   ]
  },
  {
   "cell_type": "markdown",
   "id": "a1e73684",
   "metadata": {},
   "source": [
    "    A set is an unordered collection of unique elements. Duplicate elements are not allowed in a set.\n",
    "    Sets are defined using curly braces {} or the set() constructor.\n",
    "    Sets support mathematical set operations like union, intersection, and difference.\n",
    "    Elements in a set are not indexed, and the order is not guaranteed."
   ]
  },
  {
   "cell_type": "code",
   "execution_count": 27,
   "id": "02361739",
   "metadata": {},
   "outputs": [
    {
     "data": {
      "text/plain": [
       "{1, 2, 3, 4, 5}"
      ]
     },
     "execution_count": 27,
     "metadata": {},
     "output_type": "execute_result"
    }
   ],
   "source": [
    "#Example:\n",
    "my_set = {1, 2, 3, 4, 5}\n",
    "my_set "
   ]
  },
  {
   "cell_type": "markdown",
   "id": "5150f780",
   "metadata": {},
   "source": [
    "In summary:\n",
    "\n",
    "    Strings are for handling text data and are immutable.\n",
    "    Lists are mutable ordered collections of elements.\n",
    "    Tuples are immutable ordered collections of elements.\n",
    "    Sets are unordered collections of unique elements with no duplicates."
   ]
  },
  {
   "cell_type": "markdown",
   "id": "ac4244c0",
   "metadata": {},
   "source": [
    "I am a teacher and I love to inspire and teach people. How many unique words have been used in the sentence? Use the split methods and set to get the unique words."
   ]
  },
  {
   "cell_type": "code",
   "execution_count": 28,
   "id": "d4ce7094",
   "metadata": {},
   "outputs": [
    {
     "name": "stdout",
     "output_type": "stream",
     "text": [
      "Number of unique words: 10\n"
     ]
    }
   ],
   "source": [
    "# The sentence\n",
    "sentence = \"I am a teacher and I love to inspire and teach people.\"\n",
    "\n",
    "# Splitting  the sentence into words using split method\n",
    "words = sentence.split()\n",
    "\n",
    "# Converting the list of words to a set to get unique words\n",
    "unique_words = set(words)\n",
    "\n",
    "# Finding the number of unique words\n",
    "num_unique_words = len(unique_words)\n",
    "\n",
    "# Output the result\n",
    "print(\"Number of unique words:\", num_unique_words)\n"
   ]
  },
  {
   "cell_type": "code",
   "execution_count": null,
   "id": "d152b743",
   "metadata": {},
   "outputs": [],
   "source": []
  }
 ],
 "metadata": {
  "kernelspec": {
   "display_name": "Python 3 (ipykernel)",
   "language": "python",
   "name": "python3"
  },
  "language_info": {
   "codemirror_mode": {
    "name": "ipython",
    "version": 3
   },
   "file_extension": ".py",
   "mimetype": "text/x-python",
   "name": "python",
   "nbconvert_exporter": "python",
   "pygments_lexer": "ipython3",
   "version": "3.11.4"
  }
 },
 "nbformat": 4,
 "nbformat_minor": 5
}
