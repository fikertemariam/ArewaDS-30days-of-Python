{
 "cells": [
  {
   "cell_type": "markdown",
   "id": "7db91bdf",
   "metadata": {},
   "source": [
    "# Exercises - Day 6"
   ]
  },
  {
   "cell_type": "code",
   "execution_count": null,
   "id": "86978eb6",
   "metadata": {},
   "outputs": [],
   "source": [
    "#Exercises: Level 1"
   ]
  },
  {
   "cell_type": "code",
   "execution_count": 1,
   "id": "78026e88",
   "metadata": {},
   "outputs": [
    {
     "data": {
      "text/plain": [
       "()"
      ]
     },
     "execution_count": 1,
     "metadata": {},
     "output_type": "execute_result"
    }
   ],
   "source": [
    "#1. Create an empty tuple\n",
    "empty_tuple = ()\n",
    "empty_tuple"
   ]
  },
  {
   "cell_type": "code",
   "execution_count": 2,
   "id": "048b323b",
   "metadata": {},
   "outputs": [
    {
     "data": {
      "text/plain": [
       "('Aisha', 'Fatima', 'Ibrahim', 'Isa', 'Khadija')"
      ]
     },
     "execution_count": 2,
     "metadata": {},
     "output_type": "execute_result"
    }
   ],
   "source": [
    "#2.Create a tuple containing names of your sisters and your brothers (imaginary siblings are fine)\n",
    "siblings = ('Aisha', 'Fatima', 'Ibrahim', 'Isa', 'Khadija')\n",
    "siblings"
   ]
  },
  {
   "cell_type": "code",
   "execution_count": 3,
   "id": "2520549f",
   "metadata": {},
   "outputs": [
    {
     "name": "stdout",
     "output_type": "stream",
     "text": [
      "Combined siblings tuple: ('Ibrahim', 'Isa', 'Aisha', 'Fatima', 'Khadija')\n"
     ]
    }
   ],
   "source": [
    "#3.Join brothers and sisters tuples and assign it to siblings\n",
    "# Brothers tuple\n",
    "brothers = ('Ibrahim', 'Isa')\n",
    "\n",
    "# Sisters tuple\n",
    "sisters = ('Aisha', 'Fatima', 'Khadija')\n",
    "\n",
    "# Join brothers and sisters tuples\n",
    "siblings = brothers + sisters\n",
    "\n",
    "# Print the combined siblings tuple\n",
    "print(\"Combined siblings tuple:\", siblings)\n"
   ]
  },
  {
   "cell_type": "code",
   "execution_count": 4,
   "id": "dae4f0c3",
   "metadata": {},
   "outputs": [
    {
     "name": "stdout",
     "output_type": "stream",
     "text": [
      "Total number of siblings: 5\n"
     ]
    }
   ],
   "source": [
    "#4.How many siblings do you have?\n",
    "# Tuple of siblings\n",
    "siblings = ('Ibrahim', 'Isa', 'Aisha', 'Fatima', 'Khadija')\n",
    "\n",
    "# Find the total number of siblings\n",
    "num_siblings = len(siblings)\n",
    "\n",
    "# Print the result\n",
    "print(\"Total number of siblings:\", num_siblings)\n"
   ]
  },
  {
   "cell_type": "code",
   "execution_count": 5,
   "id": "a12520f0",
   "metadata": {},
   "outputs": [
    {
     "name": "stdout",
     "output_type": "stream",
     "text": [
      "Updated family members tuple: ('Ali', 'Rakiya', 'Ibrahim', 'Isa', 'Aisha', 'Fatima', 'Khadija')\n"
     ]
    }
   ],
   "source": [
    "#5.Modify the siblings tuple and add the name of your father and mother and assign it to family_members\n",
    "# Original tuple of siblings\n",
    "siblings = ('Ibrahim', 'Isa', 'Aisha', 'Fatima', 'Khadija')\n",
    "\n",
    "# Names of father and mother\n",
    "father = 'Ali'\n",
    "mother = 'Rakiya'\n",
    "\n",
    "# Create a new tuple with siblings, father, and mother\n",
    "family_members = (father, mother) + siblings\n",
    "\n",
    "# Print the updated tuple\n",
    "print(\"Updated family members tuple:\", family_members)\n"
   ]
  },
  {
   "cell_type": "code",
   "execution_count": null,
   "id": "d857e0b1",
   "metadata": {},
   "outputs": [],
   "source": [
    "#Exercises: Level 2"
   ]
  },
  {
   "cell_type": "code",
   "execution_count": 6,
   "id": "26204b11",
   "metadata": {},
   "outputs": [
    {
     "name": "stdout",
     "output_type": "stream",
     "text": [
      "Father: Ali\n",
      "Mother: Rakiya\n",
      "Siblings: ['Ibrahim', 'Isa', 'Aisha', 'Fatima', 'Khadija']\n"
     ]
    }
   ],
   "source": [
    "#1.Unpack siblings and parents from family_members\n",
    "# Tuple of family members\n",
    "family_members = ('Ali', 'Rakiya', 'Ibrahim', 'Isa', 'Aisha', 'Fatima', 'Khadija')\n",
    "\n",
    "# Unpack siblings and parents\n",
    "father, mother, *siblings = family_members\n",
    "\n",
    "# Print the unpacked values\n",
    "print(\"Father:\", father)\n",
    "print(\"Mother:\", mother)\n",
    "print(\"Siblings:\", siblings)\n"
   ]
  },
  {
   "cell_type": "code",
   "execution_count": 7,
   "id": "0a53a182",
   "metadata": {},
   "outputs": [
    {
     "name": "stdout",
     "output_type": "stream",
     "text": [
      "Combined food_stuff_tp tuple: ('Apple', 'Banana', 'Orange', 'Grapes', 'Carrot', 'Broccoli', 'Spinach', 'Tomato', 'Beef', 'Chicken', 'Eggs', 'Milk')\n"
     ]
    }
   ],
   "source": [
    "#2.Create fruits, vegetables and animal products tuples. Join the three tuples and assign it to a variable called food_stuff_tp.\n",
    "# Tuples for fruits, vegetables, and animal products\n",
    "fruits = ('Apple', 'Banana', 'Orange', 'Grapes')\n",
    "vegetables = ('Carrot', 'Broccoli', 'Spinach', 'Tomato')\n",
    "animal_products = ('Beef', 'Chicken', 'Eggs', 'Milk')\n",
    "\n",
    "# Join the three tuples\n",
    "food_stuff_tp = fruits + vegetables + animal_products\n",
    "\n",
    "# Print the combined tuple\n",
    "print(\"Combined food_stuff_tp tuple:\", food_stuff_tp)\n"
   ]
  },
  {
   "cell_type": "code",
   "execution_count": 8,
   "id": "8b3ccb2b",
   "metadata": {},
   "outputs": [
    {
     "name": "stdout",
     "output_type": "stream",
     "text": [
      "Converted food_stuff_lt list: ['Apple', 'Banana', 'Orange', 'Grapes', 'Carrot', 'Broccoli', 'Spinach', 'Tomato', 'Beef', 'Chicken', 'Eggs', 'Milk']\n"
     ]
    }
   ],
   "source": [
    "#3.Change the about food_stuff_tp tuple to a food_stuff_lt list\n",
    "# Tuples for fruits, vegetables, and animal products\n",
    "fruits = ('Apple', 'Banana', 'Orange', 'Grapes')\n",
    "vegetables = ('Carrot', 'Broccoli', 'Spinach', 'Tomato')\n",
    "animal_products = ('Beef', 'Chicken', 'Eggs', 'Milk')\n",
    "\n",
    "# Join the three tuples\n",
    "food_stuff_tp = fruits + vegetables + animal_products\n",
    "\n",
    "# Convert the tuple to a list\n",
    "food_stuff_lt = list(food_stuff_tp)\n",
    "\n",
    "# Print the converted list\n",
    "print(\"Converted food_stuff_lt list:\", food_stuff_lt)\n"
   ]
  },
  {
   "cell_type": "code",
   "execution_count": 9,
   "id": "4e067dfe",
   "metadata": {},
   "outputs": [
    {
     "name": "stdout",
     "output_type": "stream",
     "text": [
      "Sliced food_stuff_tp tuple: ('Apple', 'Banana', 'Orange', 'Grapes', 'Carrot', 'Broccoli', 'Tomato', 'Beef', 'Chicken', 'Eggs', 'Milk')\n"
     ]
    }
   ],
   "source": [
    "#4. Slice out the middle item or items from the food_stuff_tp tuple or food_stuff_lt list.\n",
    "# Original food_stuff_tp tuple\n",
    "food_stuff_tp = ('Apple', 'Banana', 'Orange', 'Grapes', 'Carrot', 'Broccoli', 'Spinach', 'Tomato', 'Beef', 'Chicken', 'Eggs', 'Milk')\n",
    "\n",
    "# Find the index of the middle item\n",
    "middle_index = len(food_stuff_tp) // 2\n",
    "\n",
    "# Slice out the middle item or items\n",
    "sliced_food_tp = food_stuff_tp[:middle_index] + food_stuff_tp[middle_index+1:]\n",
    "\n",
    "# Print the sliced tuple\n",
    "print(\"Sliced food_stuff_tp tuple:\", sliced_food_tp)\n"
   ]
  },
  {
   "cell_type": "code",
   "execution_count": 10,
   "id": "96155988",
   "metadata": {},
   "outputs": [
    {
     "name": "stdout",
     "output_type": "stream",
     "text": [
      "Sliced food_stuff_lt list: ['Apple', 'Banana', 'Orange', 'Grapes', 'Carrot', 'Broccoli', 'Tomato', 'Beef', 'Chicken', 'Eggs', 'Milk']\n"
     ]
    }
   ],
   "source": [
    "# Original food_stuff_lt list\n",
    "food_stuff_lt = ['Apple', 'Banana', 'Orange', 'Grapes', 'Carrot', 'Broccoli', 'Spinach', 'Tomato', 'Beef', 'Chicken', 'Eggs', 'Milk']\n",
    "\n",
    "# Find the index of the middle item\n",
    "middle_index = len(food_stuff_lt) // 2\n",
    "\n",
    "# Slice out the middle item or items\n",
    "sliced_food_lt = food_stuff_lt[:middle_index] + food_stuff_lt[middle_index+1:]\n",
    "\n",
    "# Print the sliced list\n",
    "print(\"Sliced food_stuff_lt list:\", sliced_food_lt)\n"
   ]
  },
  {
   "cell_type": "code",
   "execution_count": 11,
   "id": "bdbc0946",
   "metadata": {},
   "outputs": [
    {
     "name": "stdout",
     "output_type": "stream",
     "text": [
      "Sliced first three items: ['Apple', 'Banana', 'Orange']\n",
      "Sliced last three items: ['Chicken', 'Eggs', 'Milk']\n"
     ]
    }
   ],
   "source": [
    "#5.Slice out the first three items and the last three items from food_staff_lt list\n",
    "# Original food_stuff_lt list\n",
    "food_stuff_lt = ['Apple', 'Banana', 'Orange', 'Grapes', 'Carrot', 'Broccoli', 'Spinach', 'Tomato', 'Beef', 'Chicken', 'Eggs', 'Milk']\n",
    "\n",
    "# Slice out the first three items\n",
    "first_three_items = food_stuff_lt[:3]\n",
    "\n",
    "# Slice out the last three items\n",
    "last_three_items = food_stuff_lt[-3:]\n",
    "\n",
    "# Print the sliced lists\n",
    "print(\"Sliced first three items:\", first_three_items)\n",
    "print(\"Sliced last three items:\", last_three_items)\n"
   ]
  },
  {
   "cell_type": "code",
   "execution_count": 13,
   "id": "73fc766d",
   "metadata": {},
   "outputs": [
    {
     "ename": "IndentationError",
     "evalue": "unexpected indent (846975348.py, line 9)",
     "output_type": "error",
     "traceback": [
      "\u001b[1;36m  Cell \u001b[1;32mIn[13], line 9\u001b[1;36m\u001b[0m\n\u001b[1;33m    print(food_stuff_tp)\u001b[0m\n\u001b[1;37m    ^\u001b[0m\n\u001b[1;31mIndentationError\u001b[0m\u001b[1;31m:\u001b[0m unexpected indent\n"
     ]
    }
   ],
   "source": [
    "#6.Delete the food_staff_tp tuple completely\n",
    "# Original food_stuff_tp tuple\n",
    "food_stuff_tp = ('Apple', 'Banana', 'Orange', 'Grapes', 'Carrot', 'Broccoli', 'Spinach', 'Tomato', 'Beef', 'Chicken', 'Eggs', 'Milk')\n",
    "\n",
    "# Delete the food_stuff_tp tuple\n",
    "del food_stuff_tp\n",
    "\n",
    "\n",
    " print(food_stuff_tp)\n"
   ]
  },
  {
   "cell_type": "code",
   "execution_count": null,
   "id": "7aaba605",
   "metadata": {},
   "outputs": [],
   "source": [
    "#7.Check if an item exists in tuple:"
   ]
  },
  {
   "cell_type": "code",
   "execution_count": 15,
   "id": "ca2e427e",
   "metadata": {},
   "outputs": [
    {
     "name": "stdout",
     "output_type": "stream",
     "text": [
      "No, 'Estonia' is not a Nordic country.\n"
     ]
    }
   ],
   "source": [
    "#1.Check if 'Estonia' is a nordic country\n",
    "# Nordic countries tuple\n",
    "nordic_countries = ('Denmark', 'Finland', 'Iceland', 'Norway', 'Sweden')\n",
    "\n",
    "# Check if 'Estonia' exists in the tuple\n",
    "if 'Estonia' in nordic_countries:\n",
    "    print(\"Yes, 'Estonia' is a Nordic country.\")\n",
    "else:\n",
    "    print(\"No, 'Estonia' is not a Nordic country.\")"
   ]
  },
  {
   "cell_type": "code",
   "execution_count": 17,
   "id": "cc75cbab",
   "metadata": {},
   "outputs": [
    {
     "name": "stdout",
     "output_type": "stream",
     "text": [
      "Yes, 'Iceland' is a Nordic country.\n"
     ]
    }
   ],
   "source": [
    "#2.Check if 'Iceland' is a nordic country\n",
    "\n",
    "# Nordic countries tuple\n",
    "nordic_countries = ('Denmark', 'Finland', 'Iceland', 'Norway', 'Sweden')\n",
    "\n",
    "# Check if 'Iceland' exists in the tuple\n",
    "if 'Iceland' in nordic_countries:\n",
    "    print(\"Yes, 'Iceland' is a Nordic country.\")\n",
    "else:\n",
    "    print(\"No, 'Iceland' is not a Nordic country.\")\n"
   ]
  }
 ],
 "metadata": {
  "kernelspec": {
   "display_name": "Python 3 (ipykernel)",
   "language": "python",
   "name": "python3"
  },
  "language_info": {
   "codemirror_mode": {
    "name": "ipython",
    "version": 3
   },
   "file_extension": ".py",
   "mimetype": "text/x-python",
   "name": "python",
   "nbconvert_exporter": "python",
   "pygments_lexer": "ipython3",
   "version": "3.11.4"
  }
 },
 "nbformat": 4,
 "nbformat_minor": 5
}
