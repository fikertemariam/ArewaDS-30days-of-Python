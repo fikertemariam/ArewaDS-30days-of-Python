{
 "cells": [
  {
   "cell_type": "markdown",
   "id": "08858091",
   "metadata": {},
   "source": [
    "## Exercises - Day 8"
   ]
  },
  {
   "cell_type": "code",
   "execution_count": null,
   "id": "80743686",
   "metadata": {},
   "outputs": [],
   "source": [
    "#1.Create an empty dictionary called dog"
   ]
  },
  {
   "cell_type": "code",
   "execution_count": 1,
   "id": "e39d923f",
   "metadata": {},
   "outputs": [
    {
     "name": "stdout",
     "output_type": "stream",
     "text": [
      "Empty dictionary 'dog': {}\n"
     ]
    }
   ],
   "source": [
    "dog = {}\n",
    "\n",
    "\n",
    "# Printing the empty dictionary\n",
    "print(\"Empty dictionary 'dog':\", dog)\n"
   ]
  },
  {
   "cell_type": "code",
   "execution_count": null,
   "id": "6f3772f5",
   "metadata": {},
   "outputs": [],
   "source": [
    "#Add name, color, breed, legs, age to the dog dictionary\n"
   ]
  },
  {
   "cell_type": "code",
   "execution_count": 2,
   "id": "b41aed99",
   "metadata": {},
   "outputs": [
    {
     "name": "stdout",
     "output_type": "stream",
     "text": [
      "Updated 'dog' dictionary: {'name': 'Buddy', 'color': 'Brown', 'breed': 'Labrador', 'legs': 4, 'age': 3}\n"
     ]
    }
   ],
   "source": [
    "# Create an empty dictionary called 'dog'\n",
    "dog = {}\n",
    "\n",
    "# Adding key-value pairs to the 'dog' dictionary\n",
    "dog['name'] = 'Buddy'\n",
    "dog['color'] = 'Brown'\n",
    "dog['breed'] = 'Labrador'\n",
    "dog['legs'] = 4\n",
    "dog['age'] = 3\n",
    "\n",
    "# Printing the updated 'dog' dictionary\n",
    "print(\"Updated 'dog' dictionary:\", dog)\n"
   ]
  },
  {
   "cell_type": "code",
   "execution_count": null,
   "id": "1fb84f8d",
   "metadata": {},
   "outputs": [],
   "source": [
    "#Create a student dictionary and add first_name, last_name, gender, age, marital status, skills, country, city and address as keys for the dictionary"
   ]
  },
  {
   "cell_type": "code",
   "execution_count": 3,
   "id": "834f4b2d",
   "metadata": {},
   "outputs": [
    {
     "name": "stdout",
     "output_type": "stream",
     "text": [
      "Updated 'student' dictionary: {'first_name': 'Ali', 'last_name': 'Lawal Muazu', 'age': 37, 'marital_status': 'Married', 'skills': ['Programming', 'Mathematics', 'Coding', 'A.I/ML/DL'], 'country': 'Nigeria', 'city': 'Kano', 'address': 'Bichi, Opp Dan Maliki old Mosque'}\n"
     ]
    }
   ],
   "source": [
    "# Create an empty dictionary called 'student'\n",
    "student = {}\n",
    "\n",
    "# Add key-value pairs to the 'student' dictionary\n",
    "student['first_name'] = 'Ali'\n",
    "student['last_name'] = 'Lawal Muazu'\n",
    "student['age'] = 37\n",
    "student['marital_status'] = 'Married'\n",
    "student['skills'] = ['Programming', 'Mathematics', 'Coding', 'A.I/ML/DL']\n",
    "student['country'] = 'Nigeria'\n",
    "student['city'] = 'Kano'\n",
    "student['address'] = 'Bichi, Opp Dan Maliki old Mosque'\n",
    "\n",
    "# Printing the updated 'student' dictionary\n",
    "print(\"Updated 'student' dictionary:\", student)\n"
   ]
  },
  {
   "cell_type": "code",
   "execution_count": null,
   "id": "7a0aee6b",
   "metadata": {},
   "outputs": [],
   "source": [
    "#Get the length of the student dictionary"
   ]
  },
  {
   "cell_type": "code",
   "execution_count": 4,
   "id": "2c429568",
   "metadata": {},
   "outputs": [
    {
     "name": "stdout",
     "output_type": "stream",
     "text": [
      "Length of the 'student' dictionary: 8\n"
     ]
    }
   ],
   "source": [
    "# Assuming 'student' dictionary has been defined and updated with information\n",
    "student_length = len(student)\n",
    "\n",
    "# Printing the length of the 'student' dictionary\n",
    "print(\"Length of the 'student' dictionary:\", student_length)\n"
   ]
  },
  {
   "cell_type": "code",
   "execution_count": null,
   "id": "ce54d5ad",
   "metadata": {},
   "outputs": [],
   "source": [
    "#Get the value of skills and check the data type, it should be a list"
   ]
  },
  {
   "cell_type": "code",
   "execution_count": 5,
   "id": "b6e34197",
   "metadata": {},
   "outputs": [
    {
     "name": "stdout",
     "output_type": "stream",
     "text": [
      "Skills: ['Programming', 'Mathematics', 'Coding', 'A.I/ML/DL']\n",
      "Data type of 'skills': <class 'list'>\n"
     ]
    }
   ],
   "source": [
    "# Assuming 'student' dictionary has been defined and updated with information\n",
    "skills_value = student.get('skills', None)\n",
    "\n",
    "# Checking the value and its data type\n",
    "if skills_value is not None:\n",
    "    print(\"Skills:\", skills_value)\n",
    "    print(\"Data type of 'skills':\", type(skills_value))\n",
    "else:\n",
    "    print(\"Key 'skills' not found in the dictionary.\")\n"
   ]
  },
  {
   "cell_type": "code",
   "execution_count": null,
   "id": "0fede114",
   "metadata": {},
   "outputs": [],
   "source": [
    "#Modify the skills values by adding one or two skills"
   ]
  },
  {
   "cell_type": "code",
   "execution_count": 6,
   "id": "d67525a5",
   "metadata": {},
   "outputs": [
    {
     "name": "stdout",
     "output_type": "stream",
     "text": [
      "Updated 'student' dictionary with new skills: {'first_name': 'Ali', 'last_name': 'Lawal Muazu', 'age': 37, 'marital_status': 'Married', 'skills': ['Programming', 'Mathematics', 'Coding', 'A.I/ML/DL', 'Data Analysis', 'Problem Solving'], 'country': 'Nigeria', 'city': 'Kano', 'address': 'Bichi, Opp Dan Maliki old Mosque'}\n"
     ]
    }
   ],
   "source": [
    "# Assuming 'student' dictionary has been defined and updated with information\n",
    "new_skills = ['Data Analysis', 'Problem Solving']\n",
    "\n",
    "# Adding new skills to the existing skills in the 'student' dictionary\n",
    "student['skills'].extend(new_skills)\n",
    "\n",
    "# Printing the updated 'student' dictionary with the new skills\n",
    "print(\"Updated 'student' dictionary with new skills:\", student)\n"
   ]
  },
  {
   "cell_type": "code",
   "execution_count": null,
   "id": "21007cb3",
   "metadata": {},
   "outputs": [],
   "source": [
    "#Get the dictionary keys as a list"
   ]
  },
  {
   "cell_type": "code",
   "execution_count": 7,
   "id": "78a3bd8d",
   "metadata": {},
   "outputs": [
    {
     "name": "stdout",
     "output_type": "stream",
     "text": [
      "List of keys: ['first_name', 'last_name', 'age', 'marital_status', 'skills', 'country', 'city', 'address']\n"
     ]
    }
   ],
   "source": [
    "# Assuming 'student' dictionary has been defined and updated with information\n",
    "keys_list = list(student.keys())\n",
    "\n",
    "# Printing the list of keys\n",
    "print(\"List of keys:\", keys_list)\n"
   ]
  },
  {
   "cell_type": "code",
   "execution_count": null,
   "id": "26a7ae6c",
   "metadata": {},
   "outputs": [],
   "source": [
    "#Get the dictionary values as a list"
   ]
  },
  {
   "cell_type": "code",
   "execution_count": 8,
   "id": "ba3aad91",
   "metadata": {},
   "outputs": [
    {
     "name": "stdout",
     "output_type": "stream",
     "text": [
      "List of values: ['Ali', 'Lawal Muazu', 37, 'Married', ['Programming', 'Mathematics', 'Coding', 'A.I/ML/DL', 'Data Analysis', 'Problem Solving'], 'Nigeria', 'Kano', 'Bichi, Opp Dan Maliki old Mosque']\n"
     ]
    }
   ],
   "source": [
    "# Assuming 'student' dictionary has been defined and updated with information\n",
    "values_list = list(student.values())\n",
    "\n",
    "# Printing the list of values\n",
    "print(\"List of values:\", values_list)\n"
   ]
  },
  {
   "cell_type": "code",
   "execution_count": null,
   "id": "f2f2f1d4",
   "metadata": {},
   "outputs": [],
   "source": [
    "#Change the dictionary to a list of tuples using items() method"
   ]
  },
  {
   "cell_type": "code",
   "execution_count": 9,
   "id": "a8a3a733",
   "metadata": {},
   "outputs": [
    {
     "name": "stdout",
     "output_type": "stream",
     "text": [
      "List of tuples (key-value pairs): [('first_name', 'Ali'), ('last_name', 'Lawal Muazu'), ('age', 37), ('marital_status', 'Married'), ('skills', ['Programming', 'Mathematics', 'Coding', 'A.I/ML/DL', 'Data Analysis', 'Problem Solving']), ('country', 'Nigeria'), ('city', 'Kano'), ('address', 'Bichi, Opp Dan Maliki old Mosque')]\n"
     ]
    }
   ],
   "source": [
    "# Assuming 'student' dictionary has been defined and updated with information\n",
    "student_items = list(student.items())\n",
    "\n",
    "# Printing the list of tuples\n",
    "print(\"List of tuples (key-value pairs):\", student_items)\n"
   ]
  },
  {
   "cell_type": "code",
   "execution_count": null,
   "id": "e5b734b5",
   "metadata": {},
   "outputs": [],
   "source": [
    "#Delete one of the items in the dictionary"
   ]
  },
  {
   "cell_type": "code",
   "execution_count": 11,
   "id": "eb760b5f",
   "metadata": {},
   "outputs": [
    {
     "name": "stdout",
     "output_type": "stream",
     "text": [
      "Deleted key 'marital_status' with value 'Married'.\n",
      "Updated 'student' dictionary: {'first_name': 'Ali', 'last_name': 'Lawal Muazu', 'age': 37, 'skills': ['Programming', 'Mathematics', 'Coding', 'A.I/ML/DL', 'Data Analysis', 'Problem Solving'], 'country': 'Nigeria', 'city': 'Kano', 'address': 'Bichi, Opp Dan Maliki old Mosque'}\n"
     ]
    }
   ],
   "source": [
    "# Assuming 'student' dictionary has been defined and updated with information\n",
    "key_to_delete = 'marital_status'\n",
    "\n",
    "# Deleting the specified key from the 'student' dictionary\n",
    "if key_to_delete in student:\n",
    "    deleted_value = student.pop(key_to_delete)\n",
    "    print(f\"Deleted key '{key_to_delete}' with value '{deleted_value}'.\")\n",
    "else:\n",
    "    print(f\"Key '{key_to_delete}' not found in the dictionary.\")\n",
    "\n",
    "# Printing the updated 'student' dictionary\n",
    "print(\"Updated 'student' dictionary:\", student)\n"
   ]
  },
  {
   "cell_type": "code",
   "execution_count": null,
   "id": "8e1ee813",
   "metadata": {},
   "outputs": [],
   "source": [
    "#Delete one of the dictionaries"
   ]
  },
  {
   "cell_type": "code",
   "execution_count": 13,
   "id": "f5b9341a",
   "metadata": {},
   "outputs": [
    {
     "ename": "NameError",
     "evalue": "name 'student' is not defined",
     "output_type": "error",
     "traceback": [
      "\u001b[1;31m---------------------------------------------------------------------------\u001b[0m",
      "\u001b[1;31mNameError\u001b[0m                                 Traceback (most recent call last)",
      "Cell \u001b[1;32mIn[13], line 4\u001b[0m\n\u001b[0;32m      1\u001b[0m \u001b[38;5;66;03m# Assuming 'student' dictionary has been defined and updated with information\u001b[39;00m\n\u001b[0;32m      2\u001b[0m \n\u001b[0;32m      3\u001b[0m \u001b[38;5;66;03m# Deleting the entire 'student' dictionary\u001b[39;00m\n\u001b[1;32m----> 4\u001b[0m \u001b[38;5;28;01mdel\u001b[39;00m student\n\u001b[0;32m      7\u001b[0m student\n",
      "\u001b[1;31mNameError\u001b[0m: name 'student' is not defined"
     ]
    }
   ],
   "source": [
    "# Assuming 'student' dictionary has been defined and updated with information\n",
    "\n",
    "# Deleting the entire 'student' dictionary\n",
    "del student\n",
    "\n",
    "\n",
    "student"
   ]
  },
  {
   "cell_type": "code",
   "execution_count": null,
   "id": "24a5d645",
   "metadata": {},
   "outputs": [],
   "source": []
  }
 ],
 "metadata": {
  "kernelspec": {
   "display_name": "Python 3 (ipykernel)",
   "language": "python",
   "name": "python3"
  },
  "language_info": {
   "codemirror_mode": {
    "name": "ipython",
    "version": 3
   },
   "file_extension": ".py",
   "mimetype": "text/x-python",
   "name": "python",
   "nbconvert_exporter": "python",
   "pygments_lexer": "ipython3",
   "version": "3.11.4"
  }
 },
 "nbformat": 4,
 "nbformat_minor": 5
}
