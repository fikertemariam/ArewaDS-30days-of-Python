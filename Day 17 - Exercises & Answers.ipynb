{
 "cells": [
  {
   "cell_type": "markdown",
   "id": "07e8449f",
   "metadata": {},
   "source": [
    "# Exercises: Day 17"
   ]
  },
  {
   "cell_type": "code",
   "execution_count": null,
   "id": "7dafc710",
   "metadata": {},
   "outputs": [],
   "source": [
    "#1.names = ['Finland', 'Sweden', 'Norway','Denmark','Iceland', 'Estonia','Russia']. Unpack the first five countries and store them in a variable nordic_countries, store Estonia and Russia in es, and ru respectively."
   ]
  },
  {
   "cell_type": "code",
   "execution_count": 1,
   "id": "44059587",
   "metadata": {},
   "outputs": [
    {
     "name": "stdout",
     "output_type": "stream",
     "text": [
      "Nordic Countries: ['Finland', 'Sweden', 'Norway', 'Denmark', 'Iceland']\n",
      "Estonia: Estonia\n",
      "Russia: Russia\n"
     ]
    }
   ],
   "source": [
    "names = ['Finland', 'Sweden', 'Norway', 'Denmark', 'Iceland', 'Estonia', 'Russia']\n",
    "\n",
    "# Unpack the first five countries\n",
    "nordic_countries = names[:5]\n",
    "\n",
    "# Unpack Estonia and Russia\n",
    "es, ru = names[5], names[6]\n",
    "\n",
    "# Print the results\n",
    "print(\"Nordic Countries:\", nordic_countries)\n",
    "print(\"Estonia:\", es)\n",
    "print(\"Russia:\", ru)\n"
   ]
  },
  {
   "cell_type": "code",
   "execution_count": null,
   "id": "65459ab5",
   "metadata": {},
   "outputs": [],
   "source": []
  }
 ],
 "metadata": {
  "kernelspec": {
   "display_name": "Python 3 (ipykernel)",
   "language": "python",
   "name": "python3"
  },
  "language_info": {
   "codemirror_mode": {
    "name": "ipython",
    "version": 3
   },
   "file_extension": ".py",
   "mimetype": "text/x-python",
   "name": "python",
   "nbconvert_exporter": "python",
   "pygments_lexer": "ipython3",
   "version": "3.11.4"
  }
 },
 "nbformat": 4,
 "nbformat_minor": 5
}
