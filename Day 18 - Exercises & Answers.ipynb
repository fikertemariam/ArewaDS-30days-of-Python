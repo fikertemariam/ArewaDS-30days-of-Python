{
 "cells": [
  {
   "cell_type": "markdown",
   "id": "9b661e8e",
   "metadata": {},
   "source": [
    "# Exercises: Day 18"
   ]
  },
  {
   "cell_type": "code",
   "execution_count": null,
   "id": "4e1160f1",
   "metadata": {},
   "outputs": [],
   "source": [
    "#1.What is the most frequent word in the following paragraph?\n",
    "\"\"\"    paragraph = 'I love teaching. If you do not love teaching what else can you love. I love Python if you do not love something which can give you all the capabilities to develop an application what else can you love.\"\"\""
   ]
  },
  {
   "cell_type": "code",
   "execution_count": 2,
   "id": "57e7ca62",
   "metadata": {},
   "outputs": [
    {
     "name": "stdout",
     "output_type": "stream",
     "text": [
      "The most frequent word is: love\n"
     ]
    }
   ],
   "source": [
    "from collections import Counter\n",
    "import re\n",
    "\n",
    "paragraph = 'I love teaching. If you do not love teaching what else can you love. I love Python if you do not love something which can give you all the capabilities to develop an application what else can you love.'\n",
    "\n",
    "# Remove punctuation and convert to lowercase\n",
    "cleaned_paragraph = re.sub(r'[^\\w\\s]', '', paragraph).lower()\n",
    "\n",
    "# Split the paragraph into words\n",
    "words = cleaned_paragraph.split()\n",
    "\n",
    "# Count the occurrences of each word\n",
    "word_counts = Counter(words)\n",
    "\n",
    "# Find the most common word\n",
    "most_common_word = word_counts.most_common(1)[0][0]\n",
    "\n",
    "print(f\"The most frequent word is: {most_common_word}\")\n"
   ]
  },
  {
   "cell_type": "code",
   "execution_count": 3,
   "id": "973e0ccd",
   "metadata": {},
   "outputs": [
    {
     "name": "stdout",
     "output_type": "stream",
     "text": [
      "(6, 'love')\n",
      "(5, 'you')\n",
      "(3, 'can')\n",
      "(2, 'what')\n",
      "(2, 'teaching')\n",
      "(2, 'not')\n",
      "(2, 'if')\n",
      "(2, 'i')\n",
      "(2, 'else')\n",
      "(2, 'do')\n",
      "(1, 'which')\n",
      "(1, 'to')\n",
      "(1, 'the')\n",
      "(1, 'something')\n",
      "(1, 'python')\n",
      "(1, 'give')\n",
      "(1, 'develop')\n",
      "(1, 'capabilities')\n",
      "(1, 'application')\n",
      "(1, 'an')\n",
      "(1, 'all')\n"
     ]
    }
   ],
   "source": [
    "\"\"\"    [\n",
    "    (6, 'love'),\n",
    "    (5, 'you'),\n",
    "    (3, 'can'),\n",
    "    (2, 'what'),\n",
    "    (2, 'teaching'),\n",
    "    (2, 'not'),\n",
    "    (2, 'else'),\n",
    "    (2, 'do'),\n",
    "    (2, 'I'),\n",
    "    (1, 'which'),\n",
    "    (1, 'to'),\n",
    "    (1, 'the'),\n",
    "    (1, 'something'),\n",
    "    (1, 'if'),\n",
    "    (1, 'give'),\n",
    "    (1, 'develop'),\n",
    "    (1, 'capabilities'),\n",
    "    (1, 'application'),\n",
    "    (1, 'an'),\n",
    "    (1, 'all'),\n",
    "    (1, 'Python'),\n",
    "    (1, 'If')\n",
    "    ]\"\"\"\n",
    "from collections import Counter\n",
    "import re\n",
    "\n",
    "paragraph = 'I love teaching. If you do not love teaching what else can you love. I love Python if you do not love something which can give you all the capabilities to develop an application what else can you love.'\n",
    "\n",
    "# Remove punctuation and convert to lowercase\n",
    "cleaned_paragraph = re.sub(r'[^\\w\\s]', '', paragraph).lower()\n",
    "\n",
    "# Split the paragraph into words\n",
    "words = cleaned_paragraph.split()\n",
    "\n",
    "# Count the occurrences of each word\n",
    "word_counts = Counter(words)\n",
    "\n",
    "# Create a list of tuples with word frequencies\n",
    "word_frequencies = [(count, word) for word, count in word_counts.items()]\n",
    "\n",
    "# Sort the list in descending order based on word frequencies\n",
    "sorted_word_frequencies = sorted(word_frequencies, reverse=True)\n",
    "\n",
    "# Print the sorted word frequencies\n",
    "for count, word in sorted_word_frequencies:\n",
    "    print(f\"({count}, '{word}')\")\n"
   ]
  },
  {
   "cell_type": "code",
   "execution_count": 4,
   "id": "f7b57ea7",
   "metadata": {},
   "outputs": [
    {
     "name": "stdout",
     "output_type": "stream",
     "text": [
      "The most frequent word is: 'love'\n"
     ]
    }
   ],
   "source": [
    "word_frequencies = [\n",
    "    (6, 'love'),\n",
    "    (5, 'you'),\n",
    "    (3, 'can'),\n",
    "    (2, 'what'),\n",
    "    (2, 'teaching'),\n",
    "    (2, 'not'),\n",
    "    (2, 'else'),\n",
    "    (2, 'do'),\n",
    "    (2, 'I'),\n",
    "    (1, 'which'),\n",
    "    (1, 'to'),\n",
    "    (1, 'the'),\n",
    "    (1, 'something'),\n",
    "    (1, 'if'),\n",
    "    (1, 'give'),\n",
    "    (1, 'develop'),\n",
    "    (1, 'capabilities'),\n",
    "    (1, 'application'),\n",
    "    (1, 'an'),\n",
    "    (1, 'all'),\n",
    "    (1, 'Python'),\n",
    "    (1, 'If')\n",
    "]\n",
    "\n",
    "# Find the most frequent word\n",
    "most_frequent_word = max(word_frequencies, key=lambda x: x[0])[1]\n",
    "\n",
    "print(f\"The most frequent word is: '{most_frequent_word}'\")\n"
   ]
  },
  {
   "cell_type": "code",
   "execution_count": 5,
   "id": "624e78bb",
   "metadata": {},
   "outputs": [
    {
     "name": "stdout",
     "output_type": "stream",
     "text": [
      "The distance between the two furthest particles is: 20\n"
     ]
    }
   ],
   "source": [
    "\"\"\"The position of some particles on the horizontal x-axis are -12, -4, -3 and -1 in the negative direction, 0 at origin, 4 and 8 in the positive direction. Extract these numbers from this whole text and find the distance between the two furthest particles.\"\"\"\n",
    "\"\"\"points = ['-12', '-4', '-3', '-1', '0', '4', '8']\n",
    "sorted_points =  [-12, -4, -3, -1, -1, 0, 2, 4, 8]\n",
    "distance = 8 -(-12) # 20\"\"\"\n",
    "import re\n",
    "\n",
    "text = \"The position of some particles on the horizontal x-axis are -12, -4, -3 and -1 in the negative direction, 0 at origin, 4 and 8 in the positive direction.\"\n",
    "\n",
    "# Extract numeric values from the text using regular expression\n",
    "points = [int(match.group()) for match in re.finditer(r'-?\\d+', text)]\n",
    "\n",
    "# Sort the points\n",
    "sorted_points = sorted(points)\n",
    "\n",
    "# Find the distance between the two furthest points\n",
    "distance = sorted_points[-1] - sorted_points[0]\n",
    "\n",
    "print(f\"The distance between the two furthest particles is: {distance}\")\n",
    "\n"
   ]
  },
  {
   "cell_type": "code",
   "execution_count": null,
   "id": "cd427e94",
   "metadata": {},
   "outputs": [],
   "source": [
    "# Exercises: Level 2"
   ]
  },
  {
   "cell_type": "code",
   "execution_count": 6,
   "id": "69fe4620",
   "metadata": {},
   "outputs": [
    {
     "name": "stdout",
     "output_type": "stream",
     "text": [
      "True\n",
      "False\n",
      "False\n",
      "True\n"
     ]
    }
   ],
   "source": [
    "#1.Write a pattern which identifies if a string is a valid python variable\n",
    "\"\"\"is_valid_variable('first_name') # True\n",
    "is_valid_variable('first-name') # False\n",
    "is_valid_variable('1first_name') # False\n",
    "is_valid_variable('firstname') # True\"\"\"\n",
    "\n",
    "import re\n",
    "\n",
    "def is_valid_variable(variable_name):\n",
    "    pattern = re.compile(r'^[a-zA-Z_][a-zA-Z0-9_]*$')\n",
    "    return bool(pattern.match(variable_name))\n",
    "\n",
    "# Test cases\n",
    "print(is_valid_variable('first_name'))    # True\n",
    "print(is_valid_variable('first-name'))    # False\n",
    "print(is_valid_variable('1first_name'))    # False\n",
    "print(is_valid_variable('firstname'))      # True\n"
   ]
  },
  {
   "cell_type": "code",
   "execution_count": null,
   "id": "e3601406",
   "metadata": {},
   "outputs": [],
   "source": [
    "#Exercises: Level 3"
   ]
  },
  {
   "cell_type": "code",
   "execution_count": 7,
   "id": "4f1a917d",
   "metadata": {},
   "outputs": [
    {
     "name": "stdout",
     "output_type": "stream",
     "text": [
      "I am a teacher and I love teaching There is nothing as more rewarding as educating and empowering people I found teaching more interesting than any other jobs Does this motivate you to be a teacher\n",
      "[('I', 3), ('a', 2), ('teacher', 2)]\n"
     ]
    }
   ],
   "source": [
    "#Clean the following text. After cleaning, count three most frequent words in the string.\n",
    "\"\"\"sentence = '''%I $am@% a %tea@cher%, &and& I lo%#ve %tea@ching%;. There $is nothing; &as& mo@re rewarding as educa@ting &and& @emp%o@wering peo@ple. ;I found tea@ching m%o@re interesting tha@n any other %jo@bs. %Do@es thi%s mo@tivate yo@u to be a tea@cher!?'''\n",
    "\n",
    "print(clean_text(sentence));\n",
    "I am a teacher and I love teaching There is nothing as more rewarding as educating and empowering people I found teaching more interesting than any other jobs Does this motivate you to be a teacher\n",
    "print(most_frequent_words(cleaned_text)) # [(3, 'I'), (2, 'teaching'), (2, 'teacher')]\"\"\"\n",
    "\n",
    "import re\n",
    "from collections import Counter\n",
    "\n",
    "def clean_text(text):\n",
    "    # Remove special characters and extra spaces\n",
    "    cleaned_text = re.sub(r'[^a-zA-Z\\s]', '', text)\n",
    "\n",
    "    # Remove extra spaces\n",
    "    cleaned_text = re.sub(r'\\s+', ' ', cleaned_text)\n",
    "\n",
    "    return cleaned_text.strip()\n",
    "\n",
    "def most_frequent_words(text, n=3):\n",
    "    words = text.split()\n",
    "    word_counts = Counter(words)\n",
    "    most_frequent = word_counts.most_common(n)\n",
    "    return most_frequent\n",
    "\n",
    "sentence = '''%I $am@% a %tea@cher%, &and& I lo%#ve %tea@ching%;. There $is nothing; &as& mo@re rewarding as educa@ting &and& @emp%o@wering peo@ple. ;I found tea@ching m%o@re interesting tha@n any other %jo@bs. %Do@es thi%s mo@tivate yo@u to be a tea@cher!?'''\n",
    "\n",
    "cleaned_text = clean_text(sentence)\n",
    "print(cleaned_text)\n",
    "# Output: 'I am a teacher and I love teaching There is nothing as more rewarding as educating and empowering people I found teaching more interesting than any other jobs Does this motivate you to be a teacher'\n",
    "\n",
    "most_frequent = most_frequent_words(cleaned_text)\n",
    "print(most_frequent)\n",
    "# Output: [(3, 'I'), (2, 'teaching'), (2, 'teacher')]\n"
   ]
  },
  {
   "cell_type": "code",
   "execution_count": null,
   "id": "9b841aa9",
   "metadata": {},
   "outputs": [],
   "source": []
  }
 ],
 "metadata": {
  "kernelspec": {
   "display_name": "Python 3 (ipykernel)",
   "language": "python",
   "name": "python3"
  },
  "language_info": {
   "codemirror_mode": {
    "name": "ipython",
    "version": 3
   },
   "file_extension": ".py",
   "mimetype": "text/x-python",
   "name": "python",
   "nbconvert_exporter": "python",
   "pygments_lexer": "ipython3",
   "version": "3.11.4"
  }
 },
 "nbformat": 4,
 "nbformat_minor": 5
}
