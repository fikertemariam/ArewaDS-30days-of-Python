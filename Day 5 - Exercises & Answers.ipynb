{
 "cells": [
  {
   "cell_type": "markdown",
   "id": "41cd6d4d",
   "metadata": {},
   "source": [
    "# Exercises - Day 5"
   ]
  },
  {
   "cell_type": "code",
   "execution_count": null,
   "id": "2d4e11d8",
   "metadata": {},
   "outputs": [],
   "source": [
    "#Exercises: Level 1"
   ]
  },
  {
   "cell_type": "code",
   "execution_count": 1,
   "id": "b9294ca5",
   "metadata": {},
   "outputs": [
    {
     "data": {
      "text/plain": [
       "[]"
      ]
     },
     "execution_count": 1,
     "metadata": {},
     "output_type": "execute_result"
    }
   ],
   "source": [
    "#1.Declare an empty list\n",
    "empty_list = []\n",
    "empty_list"
   ]
  },
  {
   "cell_type": "code",
   "execution_count": 5,
   "id": "34bc3834",
   "metadata": {},
   "outputs": [
    {
     "data": {
      "text/plain": [
       "[1, 2, 3, 'four', 5.5, True, 'seven']"
      ]
     },
     "execution_count": 5,
     "metadata": {},
     "output_type": "execute_result"
    }
   ],
   "source": [
    "#2.Declare a list with more than 5 items\n",
    "my_list = [1, 2, 3, 'four', 5.5, True, 'seven']\n",
    "my_list\n"
   ]
  },
  {
   "cell_type": "code",
   "execution_count": 7,
   "id": "b3e01cdf",
   "metadata": {},
   "outputs": [
    {
     "data": {
      "text/plain": [
       "7"
      ]
     },
     "execution_count": 7,
     "metadata": {},
     "output_type": "execute_result"
    }
   ],
   "source": [
    "#Number of items in the list\n",
    "len(my_list)"
   ]
  },
  {
   "cell_type": "code",
   "execution_count": 8,
   "id": "a4ef7228",
   "metadata": {},
   "outputs": [
    {
     "name": "stdout",
     "output_type": "stream",
     "text": [
      "Length of the list is: 7\n"
     ]
    }
   ],
   "source": [
    "#3.Find the length of your list\n",
    "my_list = [1, 2, 3, 'four', 5.5, True, 'seven']\n",
    "length_of_list = len(my_list)\n",
    "\n",
    "print(\"Length of the list is:\", length_of_list)\n"
   ]
  },
  {
   "cell_type": "code",
   "execution_count": 9,
   "id": "a2b66faa",
   "metadata": {},
   "outputs": [
    {
     "name": "stdout",
     "output_type": "stream",
     "text": [
      "First item: 1\n",
      "Middle item: four\n",
      "Last item: seven\n"
     ]
    }
   ],
   "source": [
    "#4.Get the first item, the middle item and the last item of the list\n",
    "my_list = [1, 2, 3, 'four', 5.5, True, 'seven']\n",
    "\n",
    "# Get the first item\n",
    "first_item = my_list[0]\n",
    "\n",
    "# Get the middle item (assuming the list has an odd length)\n",
    "middle_item = my_list[len(my_list)//2]\n",
    "\n",
    "# Get the last item\n",
    "last_item = my_list[-1]\n",
    "\n",
    "print(\"First item:\", first_item)\n",
    "print(\"Middle item:\", middle_item)\n",
    "print(\"Last item:\", last_item)\n"
   ]
  },
  {
   "cell_type": "code",
   "execution_count": 10,
   "id": "215e9ae7",
   "metadata": {},
   "outputs": [
    {
     "data": {
      "text/plain": [
       "['Ali Lawal Muazu', 37, 175.5, 'married', 'Kano State, Nigeria']"
      ]
     },
     "execution_count": 10,
     "metadata": {},
     "output_type": "execute_result"
    }
   ],
   "source": [
    "#5.Declare a list called mixed_data_types, put your(name, age, height, marital status, address)\n",
    "mixed_data_types = [\"Ali Lawal Muazu\", 37, 175.5, \"married\", \"Kano State, Nigeria\"]\n",
    "mixed_data_types\n"
   ]
  },
  {
   "cell_type": "code",
   "execution_count": 11,
   "id": "35c75328",
   "metadata": {},
   "outputs": [
    {
     "data": {
      "text/plain": [
       "['Facebook', 'Google', 'Microsoft', 'Apple', 'IBM', 'Oracle', 'Amazon']"
      ]
     },
     "execution_count": 11,
     "metadata": {},
     "output_type": "execute_result"
    }
   ],
   "source": [
    "#6.Declare a list variable named it_companies and assign initial values Facebook, Google, Microsoft, Apple, IBM, Oracle and Amazon.\n",
    "It_Companies = [\"Facebook\", \"Google\", \"Microsoft\", \"Apple\", \"IBM\", \"Oracle\", \"Amazon\"]\n",
    "It_Companies"
   ]
  },
  {
   "cell_type": "code",
   "execution_count": 12,
   "id": "424a465c",
   "metadata": {},
   "outputs": [
    {
     "name": "stdout",
     "output_type": "stream",
     "text": [
      "['Facebook', 'Google', 'Microsoft', 'Apple', 'IBM', 'Oracle', 'Amazon']\n"
     ]
    }
   ],
   "source": [
    "#7.Print the list using print()\n",
    "It_Companies = [\"Facebook\", \"Google\", \"Microsoft\", \"Apple\", \"IBM\", \"Oracle\", \"Amazon\"]\n",
    "\n",
    "print(It_Companies)\n"
   ]
  },
  {
   "cell_type": "code",
   "execution_count": 13,
   "id": "1e6afd7c",
   "metadata": {},
   "outputs": [
    {
     "name": "stdout",
     "output_type": "stream",
     "text": [
      "Number of companies: 7\n"
     ]
    }
   ],
   "source": [
    "#8.Print the number of companies in the list\n",
    "It_Companies = [\"Facebook\", \"Google\", \"Microsoft\", \"Apple\", \"IBM\", \"Oracle\", \"Amazon\"]\n",
    "\n",
    "num_of_companies = len(It_Companies)\n",
    "\n",
    "print(\"Number of companies:\", num_of_companies)\n"
   ]
  },
  {
   "cell_type": "code",
   "execution_count": 14,
   "id": "18e52a02",
   "metadata": {},
   "outputs": [
    {
     "name": "stdout",
     "output_type": "stream",
     "text": [
      "First company: Facebook\n",
      "Middle company: Apple\n",
      "Last company: Amazon\n",
      "Number of companies: 7\n"
     ]
    }
   ],
   "source": [
    "#9.Print the first, middle and last company\n",
    "It_Companies = [\"Facebook\", \"Google\", \"Microsoft\", \"Apple\", \"IBM\", \"Oracle\", \"Amazon\"]\n",
    "\n",
    "# Print the first company\n",
    "first_company = It_Companies[0]\n",
    "print(\"First company:\", first_company)\n",
    "\n",
    "# Print the middle company\n",
    "middle_company = It_Companies[len(It_Companies)//2]\n",
    "print(\"Middle company:\", middle_company)\n",
    "\n",
    "# Print the last company\n",
    "last_company = It_Companies[-1]\n",
    "print(\"Last company:\", last_company)\n",
    "\n",
    "# Change the variable name to num_of_companies\n",
    "num_of_companies = len(It_Companies)\n",
    "print(\"Number of companies:\", num_of_companies)\n"
   ]
  },
  {
   "cell_type": "code",
   "execution_count": 15,
   "id": "06f2acea",
   "metadata": {},
   "outputs": [
    {
     "name": "stdout",
     "output_type": "stream",
     "text": [
      "Updated list of companies: ['Facebook', 'Google', 'Twitter', 'Apple', 'IBM', 'Oracle', 'Amazon']\n"
     ]
    }
   ],
   "source": [
    "#10.Print the list after modifying one of the companies\n",
    "It_Companies = [\"Facebook\", \"Google\", \"Microsoft\", \"Apple\", \"IBM\", \"Oracle\", \"Amazon\"]\n",
    "\n",
    "# Modify one of the companies (for example, replacing \"Microsoft\" with \"Twitter\")\n",
    "It_Companies[2] = \"Twitter\"\n",
    "\n",
    "# Print the updated list\n",
    "print(\"Updated list of companies:\", It_Companies)\n"
   ]
  },
  {
   "cell_type": "code",
   "execution_count": 16,
   "id": "1aecda67",
   "metadata": {},
   "outputs": [
    {
     "name": "stdout",
     "output_type": "stream",
     "text": [
      "Updated list of companies: ['Facebook', 'Google', 'Microsoft', 'Apple', 'IBM', 'Oracle', 'Amazon', 'Salesforce']\n"
     ]
    }
   ],
   "source": [
    "#11.Add an IT company to it_companies\n",
    "It_Companies = [\"Facebook\", \"Google\", \"Microsoft\", \"Apple\", \"IBM\", \"Oracle\", \"Amazon\"]\n",
    "\n",
    "# Add a new IT company (for example, \"Salesforce\") to the list\n",
    "It_Companies.append(\"Salesforce\")\n",
    "\n",
    "# Print the updated list\n",
    "print(\"Updated list of companies:\", It_Companies)\n"
   ]
  },
  {
   "cell_type": "code",
   "execution_count": 17,
   "id": "ae0bc662",
   "metadata": {},
   "outputs": [
    {
     "name": "stdout",
     "output_type": "stream",
     "text": [
      "Updated list of companies: ['Facebook', 'Google', 'Microsoft', 'Salesforce', 'Apple', 'IBM', 'Oracle', 'Amazon']\n"
     ]
    }
   ],
   "source": [
    "#12.Insert an IT company in the middle of the companies list\n",
    "It_Companies = [\"Facebook\", \"Google\", \"Microsoft\", \"Apple\", \"IBM\", \"Oracle\", \"Amazon\"]\n",
    "\n",
    "# Add a new IT company (for example, \"Salesforce\") in the middle of the list\n",
    "It_Companies.insert(len(It_Companies)//2, \"Salesforce\")\n",
    "\n",
    "# Print the updated list\n",
    "print(\"Updated list of companies:\", It_Companies)\n"
   ]
  },
  {
   "cell_type": "code",
   "execution_count": 18,
   "id": "cc2174dc",
   "metadata": {},
   "outputs": [
    {
     "name": "stdout",
     "output_type": "stream",
     "text": [
      "Updated list of companies: ['Facebook', 'Google', 'MICROSOFT', 'Apple', 'IBM', 'Oracle', 'Amazon']\n"
     ]
    }
   ],
   "source": [
    "#13.Change one of the it_companies names to uppercase (IBM excluded!)\n",
    "It_Companies = [\"Facebook\", \"Google\", \"Microsoft\", \"Apple\", \"IBM\", \"Oracle\", \"Amazon\"]\n",
    "\n",
    "# Change the name of one of the IT companies (excluding IBM) to uppercase\n",
    "company_to_change = \"Microsoft\"\n",
    "index_to_change = It_Companies.index(company_to_change)\n",
    "It_Companies[index_to_change] = company_to_change.upper()\n",
    "\n",
    "# Print the updated list\n",
    "print(\"Updated list of companies:\", It_Companies)\n"
   ]
  },
  {
   "cell_type": "code",
   "execution_count": 20,
   "id": "2de8bff3",
   "metadata": {},
   "outputs": [
    {
     "name": "stdout",
     "output_type": "stream",
     "text": [
      "Joined list of companies: Facebook#;  Google#;  MICROSOFT#;  Apple#;  IBM#;  Oracle#;  Amazon\n"
     ]
    }
   ],
   "source": [
    "#14.Join the it_companies with a string '#;  '\n",
    "# Join the elements with the string '#;  '\n",
    "joined_companies = '#;  '.join(It_Companies)\n",
    "\n",
    "# Print the result\n",
    "print(\"Joined list of companies:\", joined_companies)\n"
   ]
  },
  {
   "cell_type": "code",
   "execution_count": 21,
   "id": "fb82b53e",
   "metadata": {},
   "outputs": [
    {
     "name": "stdout",
     "output_type": "stream",
     "text": [
      "Microsoft does not exist in the list.\n"
     ]
    }
   ],
   "source": [
    "#15.Check if a certain company exists in the It_Companies list.\n",
    "It_Companies = [\"Facebook\", \"Google\", \"MICROSOFT\", \"Apple\", \"IBM\", \"Oracle\", \"Amazon\"]\n",
    "\n",
    "# Check if a certain company (for example, \"Microsoft\") exists in the list\n",
    "company_to_check = \"Microsoft\"\n",
    "\n",
    "if company_to_check in It_Companies:\n",
    "    print(f\"{company_to_check} exists in the list.\")\n",
    "else:\n",
    "    print(f\"{company_to_check} does not exist in the list.\")\n"
   ]
  },
  {
   "cell_type": "code",
   "execution_count": 22,
   "id": "2fa91bb3",
   "metadata": {},
   "outputs": [
    {
     "name": "stdout",
     "output_type": "stream",
     "text": [
      "Sorted list of companies: ['Amazon', 'Apple', 'Facebook', 'Google', 'IBM', 'MICROSOFT', 'Oracle']\n"
     ]
    }
   ],
   "source": [
    "#16.Sort the list using sort() method\n",
    "It_Companies = [\"Facebook\", \"Google\", \"MICROSOFT\", \"Apple\", \"IBM\", \"Oracle\", \"Amazon\"]\n",
    "\n",
    "# Sort the list in alphabetical order\n",
    "It_Companies.sort()\n",
    "\n",
    "# Print the sorted list\n",
    "print(\"Sorted list of companies:\", It_Companies)\n"
   ]
  },
  {
   "cell_type": "code",
   "execution_count": 23,
   "id": "5b789146",
   "metadata": {},
   "outputs": [
    {
     "name": "stdout",
     "output_type": "stream",
     "text": [
      "Sorted list in descending order: ['Oracle', 'MICROSOFT', 'IBM', 'Google', 'Facebook', 'Apple', 'Amazon']\n"
     ]
    }
   ],
   "source": [
    "#17.Reverse the list in descending order using reverse() method\n",
    "It_Companies = [\"Facebook\", \"Google\", \"MICROSOFT\", \"Apple\", \"IBM\", \"Oracle\", \"Amazon\"]\n",
    "\n",
    "# Sort the list in descending order\n",
    "It_Companies.sort(reverse=True)\n",
    "\n",
    "# Print the sorted list in descending order\n",
    "print(\"Sorted list in descending order:\", It_Companies)\n"
   ]
  },
  {
   "cell_type": "code",
   "execution_count": 24,
   "id": "ceebe840",
   "metadata": {},
   "outputs": [
    {
     "name": "stdout",
     "output_type": "stream",
     "text": [
      "First three companies: ['Oracle', 'MICROSOFT', 'IBM']\n"
     ]
    }
   ],
   "source": [
    "#18.Slice out the first 3 companies from the list\n",
    "It_Companies = ['Oracle', 'MICROSOFT', 'IBM', 'Google', 'Facebook', 'Apple', 'Amazon']\n",
    "\n",
    "# Slice out the first 3 companies\n",
    "first_three_companies = It_Companies[:3]\n",
    "\n",
    "# Print the sliced list\n",
    "print(\"First three companies:\", first_three_companies)\n"
   ]
  },
  {
   "cell_type": "code",
   "execution_count": 25,
   "id": "b4f76b27",
   "metadata": {},
   "outputs": [
    {
     "name": "stdout",
     "output_type": "stream",
     "text": [
      "Last three companies: ['Facebook', 'Apple', 'Amazon']\n"
     ]
    }
   ],
   "source": [
    "#19.Slice out the last 3 companies from the list\n",
    "It_Companies = ['Oracle', 'MICROSOFT', 'IBM', 'Google', 'Facebook', 'Apple', 'Amazon']\n",
    "\n",
    "# Slice out the last 3 companies\n",
    "last_three_companies = It_Companies[-3:]\n",
    "\n",
    "# Print the sliced list\n",
    "print(\"Last three companies:\", last_three_companies)\n"
   ]
  },
  {
   "cell_type": "code",
   "execution_count": 26,
   "id": "122dd12f",
   "metadata": {},
   "outputs": [
    {
     "name": "stdout",
     "output_type": "stream",
     "text": [
      "Middle IT company or companies: Google\n"
     ]
    }
   ],
   "source": [
    "#20.Slice out the middle IT company or companies from the list\n",
    "It_Companies = ['Oracle', 'MICROSOFT', 'IBM', 'Google', 'Facebook', 'Apple', 'Amazon']\n",
    "\n",
    "# Find the middle index or indices\n",
    "middle_index = len(It_Companies) // 2\n",
    "is_odd_length = len(It_Companies) % 2 == 1\n",
    "\n",
    "# Slice out the middle IT company or companies\n",
    "if is_odd_length:\n",
    "    middle_company = It_Companies[middle_index]\n",
    "else:\n",
    "    middle_company = It_Companies[middle_index - 1 : middle_index + 1]\n",
    "\n",
    "# Print the sliced middle company or companies\n",
    "print(\"Middle IT company or companies:\", middle_company)\n"
   ]
  },
  {
   "cell_type": "code",
   "execution_count": 27,
   "id": "74d0702c",
   "metadata": {},
   "outputs": [
    {
     "name": "stdout",
     "output_type": "stream",
     "text": [
      "Removed company: Oracle\n",
      "Updated list of companies: ['MICROSOFT', 'IBM', 'Google', 'Facebook', 'Apple', 'Amazon']\n"
     ]
    }
   ],
   "source": [
    "#21.Remove the first IT company from the list\n",
    "It_Companies = ['Oracle', 'MICROSOFT', 'IBM', 'Google', 'Facebook', 'Apple', 'Amazon']\n",
    "\n",
    "# Remove the first IT company\n",
    "if len(It_Companies) > 0:\n",
    "    removed_company = It_Companies.pop(0)\n",
    "    print(f\"Removed company: {removed_company}\")\n",
    "else:\n",
    "    print(\"The list is empty.\")\n",
    "\n",
    "# Print the updated list\n",
    "print(\"Updated list of companies:\", It_Companies)\n"
   ]
  },
  {
   "cell_type": "code",
   "execution_count": 28,
   "id": "ee2b3d28",
   "metadata": {},
   "outputs": [
    {
     "name": "stdout",
     "output_type": "stream",
     "text": [
      "Removed companies: ('Google', 'Facebook')\n",
      "Updated list of companies: ['MICROSOFT', 'IBM', 'Apple', 'Amazon']\n"
     ]
    }
   ],
   "source": [
    "#22.Remove the middle IT company or companies from the list\n",
    "It_Companies = ['MICROSOFT', 'IBM', 'Google', 'Facebook', 'Apple', 'Amazon']\n",
    "\n",
    "# Find the middle index or indices\n",
    "middle_index = len(It_Companies) // 2\n",
    "is_odd_length = len(It_Companies) % 2 == 1\n",
    "\n",
    "# Remove the middle IT company or companies\n",
    "if is_odd_length:\n",
    "    removed_company = It_Companies.pop(middle_index)\n",
    "    print(f\"Removed company: {removed_company}\")\n",
    "else:\n",
    "    removed_companies = It_Companies.pop(middle_index - 1), It_Companies.pop(middle_index - 1)\n",
    "    print(f\"Removed companies: {removed_companies}\")\n",
    "\n",
    "# Print the updated list\n",
    "print(\"Updated list of companies:\", It_Companies)\n"
   ]
  },
  {
   "cell_type": "code",
   "execution_count": 29,
   "id": "f85ac25e",
   "metadata": {},
   "outputs": [
    {
     "name": "stdout",
     "output_type": "stream",
     "text": [
      "Removed company: Amazon\n",
      "Updated list of companies: ['MICROSOFT', 'IBM', 'Google', 'Apple']\n"
     ]
    }
   ],
   "source": [
    "#23.Remove the last IT company from the list\n",
    "It_Companies = ['MICROSOFT', 'IBM', 'Google', 'Apple', 'Amazon']\n",
    "\n",
    "# Remove the last IT company\n",
    "if len(It_Companies) > 0:\n",
    "    removed_company = It_Companies.pop()\n",
    "    print(f\"Removed company: {removed_company}\")\n",
    "else:\n",
    "    print(\"The list is empty.\")\n",
    "\n",
    "# Print the updated list\n",
    "print(\"Updated list of companies:\", It_Companies)\n"
   ]
  },
  {
   "cell_type": "code",
   "execution_count": 30,
   "id": "ee075961",
   "metadata": {},
   "outputs": [
    {
     "name": "stdout",
     "output_type": "stream",
     "text": [
      "Updated list of companies: []\n"
     ]
    }
   ],
   "source": [
    "#24.Remove all IT companies from the list\n",
    "It_Companies = ['MICROSOFT', 'IBM', 'Google', 'Apple']\n",
    "\n",
    "# Clear the list to remove all IT companies\n",
    "It_Companies.clear()\n",
    "\n",
    "# Print the updated list\n",
    "print(\"Updated list of companies:\", It_Companies)\n"
   ]
  },
  {
   "cell_type": "code",
   "execution_count": 33,
   "id": "d5392f1a",
   "metadata": {},
   "outputs": [
    {
     "ename": "IndentationError",
     "evalue": "unexpected indent (4017418858.py, line 7)",
     "output_type": "error",
     "traceback": [
      "\u001b[1;36m  Cell \u001b[1;32mIn[33], line 7\u001b[1;36m\u001b[0m\n\u001b[1;33m    print(\"Updated list of companies:\", It_Companies)\u001b[0m\n\u001b[1;37m    ^\u001b[0m\n\u001b[1;31mIndentationError\u001b[0m\u001b[1;31m:\u001b[0m unexpected indent\n"
     ]
    }
   ],
   "source": [
    "#25.Destroy the IT companies list\n",
    "It_Companies = ['MICROSOFT', 'IBM', 'Google', 'Apple', 'IBM', 'Amazon']\n",
    "\n",
    "# Use the del statement to delete the entire list\n",
    "del It_Companies\n",
    "\n",
    " print(\"Updated list of companies:\", It_Companies)\n"
   ]
  },
  {
   "cell_type": "code",
   "execution_count": 34,
   "id": "d9d047d8",
   "metadata": {},
   "outputs": [
    {
     "name": "stdout",
     "output_type": "stream",
     "text": [
      "Full stack technologies: ['HTML', 'CSS', 'JS', 'React', 'Redux', 'Node', 'Express', 'MongoDB']\n"
     ]
    }
   ],
   "source": [
    "#26.Join the following lists:\n",
    "front_end = ['HTML', 'CSS', 'JS', 'React', 'Redux']\n",
    "back_end = ['Node', 'Express', 'MongoDB']\n",
    "\n",
    "front_end.extend(back_end)\n",
    "\n",
    "# Print the joined list\n",
    "print(\"Full stack technologies:\", front_end)\n"
   ]
  },
  {
   "cell_type": "code",
   "execution_count": 35,
   "id": "b4d60ed1",
   "metadata": {},
   "outputs": [
    {
     "name": "stdout",
     "output_type": "stream",
     "text": [
      "Original Full Stack Technologies: ['HTML', 'CSS', 'JS', 'React', 'Redux', 'Node', 'Express', 'MongoDB']\n",
      "Modified Full Stack Technologies: ['HTML', 'CSS', 'JS', 'React', 'Redux', 'Python', 'SQL', 'Node', 'Express', 'MongoDB']\n"
     ]
    }
   ],
   "source": [
    "#27.After joining the lists in question 26. Copy the joined list and assign it to a variable full_stack. Then insert Python and SQL after Redux.\n",
    "front_end = ['HTML', 'CSS', 'JS', 'React', 'Redux']\n",
    "back_end = ['Node', 'Express', 'MongoDB']\n",
    "\n",
    "# Join the lists\n",
    "full_stack = front_end + back_end\n",
    "\n",
    "# Create a copy of the joined list\n",
    "full_stack_copy = full_stack.copy()\n",
    "\n",
    "# Insert 'Python' and 'SQL' after 'Redux' in the copied list\n",
    "insert_index = full_stack_copy.index('Redux') + 1\n",
    "full_stack_copy.insert(insert_index, 'Python')\n",
    "full_stack_copy.insert(insert_index + 1, 'SQL')\n",
    "\n",
    "# Print the original joined list and the modified copy\n",
    "print(\"Original Full Stack Technologies:\", full_stack)\n",
    "print(\"Modified Full Stack Technologies:\", full_stack_copy)\n"
   ]
  },
  {
   "cell_type": "code",
   "execution_count": null,
   "id": "d56320b4",
   "metadata": {},
   "outputs": [],
   "source": [
    "#Exercises: Level 2"
   ]
  },
  {
   "cell_type": "code",
   "execution_count": 36,
   "id": "1b3f41a5",
   "metadata": {},
   "outputs": [
    {
     "data": {
      "text/plain": [
       "[19, 22, 19, 24, 20, 25, 26, 24, 25, 24]"
      ]
     },
     "execution_count": 36,
     "metadata": {},
     "output_type": "execute_result"
    }
   ],
   "source": [
    "#1.The following is a list of 10 students ages:\n",
    "ages = [19, 22, 19, 24, 20, 25, 26, 24, 25, 24]\n",
    "ages"
   ]
  },
  {
   "cell_type": "code",
   "execution_count": 37,
   "id": "f5beda4e",
   "metadata": {},
   "outputs": [
    {
     "data": {
      "text/plain": [
       "10"
      ]
     },
     "execution_count": 37,
     "metadata": {},
     "output_type": "execute_result"
    }
   ],
   "source": [
    "#Number of ages\n",
    "len(ages)"
   ]
  },
  {
   "cell_type": "code",
   "execution_count": 38,
   "id": "ad1c4404",
   "metadata": {},
   "outputs": [
    {
     "name": "stdout",
     "output_type": "stream",
     "text": [
      "Sorted list of ages: [19, 19, 20, 22, 24, 24, 24, 25, 25, 26]\n",
      "Minimum age: 19\n",
      "Maximum age: 26\n"
     ]
    }
   ],
   "source": [
    "#Sort the list and find the min and max age\n",
    "ages = [19, 22, 19, 24, 20, 25, 26, 24, 25, 24]\n",
    "\n",
    "# Sort the list in ascending order\n",
    "ages.sort()\n",
    "\n",
    "# Find the minimum and maximum ages\n",
    "min_age = min(ages)\n",
    "max_age = max(ages)\n",
    "\n",
    "# Print the sorted list, minimum age, and maximum age\n",
    "print(\"Sorted list of ages:\", ages)\n",
    "print(\"Minimum age:\", min_age)\n",
    "print(\"Maximum age:\", max_age)\n"
   ]
  },
  {
   "cell_type": "code",
   "execution_count": 39,
   "id": "75a8d40c",
   "metadata": {},
   "outputs": [
    {
     "name": "stdout",
     "output_type": "stream",
     "text": [
      "Updated list of ages: [19, 19, 20, 22, 24, 24, 24, 25, 25, 26, 19, 26]\n"
     ]
    }
   ],
   "source": [
    "#Add the min age and the max age again to the list\n",
    "ages = [19, 22, 19, 24, 20, 25, 26, 24, 25, 24]\n",
    "\n",
    "# Sort the list in ascending order\n",
    "ages.sort()\n",
    "\n",
    "# Find the minimum and maximum ages\n",
    "min_age = min(ages)\n",
    "max_age = max(ages)\n",
    "\n",
    "# Add the min and max ages again to the list\n",
    "ages.append(min_age)\n",
    "ages.append(max_age)\n",
    "\n",
    "# Print the updated list of ages\n",
    "print(\"Updated list of ages:\", ages)\n"
   ]
  },
  {
   "cell_type": "code",
   "execution_count": 40,
   "id": "807e73ff",
   "metadata": {},
   "outputs": [
    {
     "name": "stdout",
     "output_type": "stream",
     "text": [
      "Sorted list of ages: [19, 19, 20, 22, 24, 24, 24, 25, 25, 26]\n",
      "Median age: 24.0\n"
     ]
    }
   ],
   "source": [
    "#Find the median age (one middle item or two middle items divided by two)\n",
    "ages = [19, 22, 19, 24, 20, 25, 26, 24, 25, 24]\n",
    "\n",
    "# Sort the list in ascending order\n",
    "ages.sort()\n",
    "\n",
    "# Find the number of elements in the list\n",
    "num_elements = len(ages)\n",
    "\n",
    "# Find the middle index or indices\n",
    "middle_index = num_elements // 2\n",
    "\n",
    "# Check if the number of elements is odd or even\n",
    "if num_elements % 2 == 1:\n",
    "    # If odd, there is one middle item\n",
    "    median_age = ages[middle_index]\n",
    "else:\n",
    "    # If even, take the average of the two middle items\n",
    "    median_age = (ages[middle_index - 1] + ages[middle_index]) / 2\n",
    "\n",
    "# Print the sorted list and the median age\n",
    "print(\"Sorted list of ages:\", ages)\n",
    "print(\"Median age:\", median_age)\n"
   ]
  },
  {
   "cell_type": "code",
   "execution_count": 41,
   "id": "2bfb7397",
   "metadata": {},
   "outputs": [
    {
     "name": "stdout",
     "output_type": "stream",
     "text": [
      "List of ages: [19, 22, 19, 24, 20, 25, 26, 24, 25, 24]\n",
      "Sum of ages: 228\n",
      "Average age: 22.8\n"
     ]
    }
   ],
   "source": [
    "#Find the average age (sum of all items divided by their number )\n",
    "ages = [19, 22, 19, 24, 20, 25, 26, 24, 25, 24]\n",
    "\n",
    "# Calculate the sum of all ages\n",
    "sum_of_ages = sum(ages)\n",
    "\n",
    "# Calculate the average age\n",
    "average_age = sum_of_ages / len(ages)\n",
    "\n",
    "# Print the list of ages, the sum, and the average age\n",
    "print(\"List of ages:\", ages)\n",
    "print(\"Sum of ages:\", sum_of_ages)\n",
    "print(\"Average age:\", average_age)\n"
   ]
  },
  {
   "cell_type": "code",
   "execution_count": 42,
   "id": "949ff7f9",
   "metadata": {},
   "outputs": [
    {
     "name": "stdout",
     "output_type": "stream",
     "text": [
      "List of ages: [19, 22, 19, 24, 20, 25, 26, 24, 25, 24]\n",
      "Age range: 7\n"
     ]
    }
   ],
   "source": [
    "#Find the range of the ages (max minus min)\n",
    "ages = [19, 22, 19, 24, 20, 25, 26, 24, 25, 24]\n",
    "\n",
    "# Calculate the range of ages\n",
    "age_range = max(ages) - min(ages)\n",
    "\n",
    "# Print the list of ages and the age range\n",
    "print(\"List of ages:\", ages)\n",
    "print(\"Age range:\", age_range)\n"
   ]
  },
  {
   "cell_type": "code",
   "execution_count": 43,
   "id": "b161d60a",
   "metadata": {},
   "outputs": [
    {
     "name": "stdout",
     "output_type": "stream",
     "text": [
      "List of ages: [19, 22, 19, 24, 20, 25, 26, 24, 25, 24]\n",
      "Absolute difference between min and average: 3.8000000000000007\n",
      "Absolute difference between max and average: 3.1999999999999993\n"
     ]
    }
   ],
   "source": [
    "#Compare the value of (min - average) and (max - average), use abs() method\n",
    "ages = [19, 22, 19, 24, 20, 25, 26, 24, 25, 24]\n",
    "\n",
    "# Calculate the average age\n",
    "average_age = sum(ages) / len(ages)\n",
    "\n",
    "# Calculate the minimum and maximum ages\n",
    "min_age = min(ages)\n",
    "max_age = max(ages)\n",
    "\n",
    "# Calculate the absolute values of (min - average) and (max - average)\n",
    "abs_min_difference = abs(min_age - average_age)\n",
    "abs_max_difference = abs(max_age - average_age)\n",
    "\n",
    "# Print the list of ages and the absolute differences\n",
    "print(\"List of ages:\", ages)\n",
    "print(\"Absolute difference between min and average:\", abs_min_difference)\n",
    "print(\"Absolute difference between max and average:\", abs_max_difference)\n"
   ]
  },
  {
   "cell_type": "code",
   "execution_count": null,
   "id": "9b5c79bd",
   "metadata": {},
   "outputs": [],
   "source": [
    "#1.Find the middle country(ies) in the countries list\n",
    "countries = [\n",
    "  'Afghanistan',\n",
    "  'Albania',\n",
    "  'Algeria',\n",
    "  'Andorra',\n",
    "  'Angola',\n",
    "  'Antigua and Barbuda',\n",
    "  'Argentina',\n",
    "  'Armenia',\n",
    "  'Australia',\n",
    "  'Austria',\n",
    "  'Azerbaijan',\n",
    "  'Bahamas',\n",
    "  'Bahrain',\n",
    "  'Bangladesh',\n",
    "  'Barbados',\n",
    "  'Belarus',\n",
    "  'Belgium',\n",
    "  'Belize',\n",
    "  'Benin',\n",
    "  'Bhutan',\n",
    "  'Bolivia',\n",
    "  'Bosnia and Herzegovina',\n",
    "  'Botswana',\n",
    "  'Brazil',\n",
    "  'Brunei',\n",
    "  'Bulgaria',\n",
    "  'Burkina Faso',\n",
    "  'Burundi',\n",
    "  'Cambodia',\n",
    "  'Cameroon',\n",
    "  'Canada',\n",
    "  'Cape Verde',\n",
    "  'Central African Republic',\n",
    "  'Chad',\n",
    "  'Chile',\n",
    "  'China',\n",
    "  'Colombi',\n",
    "  'Comoros',\n",
    "  'Congo (Brazzaville)',\n",
    "  'Congo',\n",
    "  'Costa Rica',\n",
    "  \"Cote d'Ivoire\",\n",
    "  'Croatia',\n",
    "  'Cuba',\n",
    "  'Cyprus',\n",
    "  'Czech Republic',\n",
    "  'Denmark',\n",
    "  'Djibouti',\n",
    "  'Dominica',\n",
    "  'Dominican Republic',\n",
    "  'East Timor (Timor Timur)',\n",
    "  'Ecuador',\n",
    "  'Egypt',\n",
    "  'El Salvador',\n",
    "  'Equatorial Guinea',\n",
    "  'Eritrea',\n",
    "  'Estonia',\n",
    "  'Ethiopia',\n",
    "  'Fiji',\n",
    "  'Finland',\n",
    "  'France',\n",
    "  'Gabon',\n",
    "  'Gambia, The',\n",
    "  'Georgia',\n",
    "  'Germany',\n",
    "  'Ghana',\n",
    "  'Greece',\n",
    "  'Grenada',\n",
    "  'Guatemala',\n",
    "  'Guinea',\n",
    "  'Guinea-Bissau',\n",
    "  'Guyana',\n",
    "  'Haiti',\n",
    "  'Honduras',\n",
    "  'Hungary',\n",
    "  'Iceland',\n",
    "  'India',\n",
    "  'Indonesia',\n",
    "  'Iran',\n",
    "  'Iraq',\n",
    "  'Ireland',\n",
    "  'Israel',\n",
    "  'Italy',\n",
    "  'Jamaica',\n",
    "  'Japan',\n",
    "  'Jordan',\n",
    "  'Kazakhstan',\n",
    "  'Kenya',\n",
    "  'Kiribati',\n",
    "  'Korea, North',\n",
    "  'Korea, South',\n",
    "  'Kuwait',\n",
    "  'Kyrgyzstan',\n",
    "  'Laos',\n",
    "  'Latvia',\n",
    "  'Lebanon',\n",
    "  'Lesotho',\n",
    "  'Liberia',\n",
    "  'Libya',\n",
    "  'Liechtenstein',\n",
    "  'Lithuania',\n",
    "  'Luxembourg',\n",
    "  'Macedonia',\n",
    "  'Madagascar',\n",
    "  'Malawi',\n",
    "  'Malaysia',\n",
    "  'Maldives',\n",
    "  'Mali',\n",
    "  'Malta',\n",
    "  'Marshall Islands',\n",
    "  'Mauritania',\n",
    "  'Mauritius',\n",
    "  'Mexico',\n",
    "  'Micronesia',\n",
    "  'Moldova',\n",
    "  'Monaco',\n",
    "  'Mongolia',\n",
    "  'Morocco',\n",
    "  'Mozambique',\n",
    "  'Myanmar',\n",
    "  'Namibia',\n",
    "  'Nauru',\n",
    "  'Nepal',\n",
    "  'Netherlands',\n",
    "  'New Zealand',\n",
    "  'Nicaragua',\n",
    "  'Niger',\n",
    "  'Nigeria',\n",
    "  'Norway',\n",
    "  'Oman',\n",
    "  'Pakistan',\n",
    "  'Palau',\n",
    "  'Panama',\n",
    "  'Papua New Guinea',\n",
    "  'Paraguay',\n",
    "  'Peru',\n",
    "  'Philippines',\n",
    "  'Poland',\n",
    "  'Portugal',\n",
    "  'Qatar',\n",
    "  'Romania',\n",
    "  'Russia',\n",
    "  'Rwanda',\n",
    "  'Saint Kitts and Nevis',\n",
    "  'Saint Lucia',\n",
    "  'Saint Vincent',\n",
    "  'Samoa',\n",
    "  'San Marino',\n",
    "  'Sao Tome and Principe',\n",
    "  'Saudi Arabia',\n",
    "  'Senegal',\n",
    "  'Serbia and Montenegro',\n",
    "  'Seychelles',\n",
    "  'Sierra Leone',\n",
    "  'Singapore',\n",
    "  'Slovakia',\n",
    "  'Slovenia',\n",
    "  'Solomon Islands',\n",
    "  'Somalia',\n",
    "  'South Africa',\n",
    "  'Spain',\n",
    "  'Sri Lanka',\n",
    "  'Sudan',\n",
    "  'Suriname',\n",
    "  'Swaziland',\n",
    "  'Sweden',\n",
    "  'Switzerland',\n",
    "  'Syria',\n",
    "  'Taiwan',\n",
    "  'Tajikistan',\n",
    "  'Tanzania',\n",
    "  'Thailand',\n",
    "  'Togo',\n",
    "  'Tonga',\n",
    "  'Trinidad and Tobago',\n",
    "  'Tunisia',\n",
    "  'Turkey',\n",
    "  'Turkmenistan',\n",
    "  'Tuvalu',\n",
    "  'Uganda',\n",
    "  'Ukraine',\n",
    "  'United Arab Emirates',\n",
    "  'United Kingdom',\n",
    "  'United States',\n",
    "  'Uruguay',\n",
    "  'Uzbekistan',\n",
    "  'Vanuatu',\n",
    "  'Vatican City',\n",
    "  'Venezuela',\n",
    "  'Vietnam',\n",
    "  'Yemen',\n",
    "  'Zambia',\n",
    "  'Zimbabwe',\n",
    "];\n"
   ]
  },
  {
   "cell_type": "code",
   "execution_count": 44,
   "id": "4c4071ac",
   "metadata": {},
   "outputs": [
    {
     "name": "stdout",
     "output_type": "stream",
     "text": [
      "There is one middle country: Lesotho\n"
     ]
    }
   ],
   "source": [
    "countries = [\n",
    "    'Afghanistan', 'Albania', 'Algeria', 'Andorra', 'Angola', 'Antigua and Barbuda', 'Argentina', 'Armenia',\n",
    "    'Australia', 'Austria', 'Azerbaijan', 'Bahamas', 'Bahrain', 'Bangladesh', 'Barbados', 'Belarus', 'Belgium',\n",
    "    'Belize', 'Benin', 'Bhutan', 'Bolivia', 'Bosnia and Herzegovina', 'Botswana', 'Brazil', 'Brunei', 'Bulgaria',\n",
    "    'Burkina Faso', 'Burundi', 'Cambodia', 'Cameroon', 'Canada', 'Cape Verde', 'Central African Republic', 'Chad',\n",
    "    'Chile', 'China', 'Colombia', 'Comoros', 'Congo (Brazzaville)', 'Congo', 'Costa Rica', \"Cote d'Ivoire\", 'Croatia',\n",
    "    'Cuba', 'Cyprus', 'Czech Republic', 'Denmark', 'Djibouti', 'Dominica', 'Dominican Republic', 'East Timor (Timor Timur)',\n",
    "    'Ecuador', 'Egypt', 'El Salvador', 'Equatorial Guinea', 'Eritrea', 'Estonia', 'Ethiopia', 'Fiji', 'Finland', 'France',\n",
    "    'Gabon', 'Gambia, The', 'Georgia', 'Germany', 'Ghana', 'Greece', 'Grenada', 'Guatemala', 'Guinea', 'Guinea-Bissau',\n",
    "    'Guyana', 'Haiti', 'Honduras', 'Hungary', 'Iceland', 'India', 'Indonesia', 'Iran', 'Iraq', 'Ireland', 'Israel',\n",
    "    'Italy', 'Jamaica', 'Japan', 'Jordan', 'Kazakhstan', 'Kenya', 'Kiribati', 'Korea, North', 'Korea, South', 'Kuwait',\n",
    "    'Kyrgyzstan', 'Laos', 'Latvia', 'Lebanon', 'Lesotho', 'Liberia', 'Libya', 'Liechtenstein', 'Lithuania', 'Luxembourg',\n",
    "    'Macedonia', 'Madagascar', 'Malawi', 'Malaysia', 'Maldives', 'Mali', 'Malta', 'Marshall Islands', 'Mauritania',\n",
    "    'Mauritius', 'Mexico', 'Micronesia', 'Moldova', 'Monaco', 'Mongolia', 'Morocco', 'Mozambique', 'Myanmar', 'Namibia',\n",
    "    'Nauru', 'Nepal', 'Netherlands', 'New Zealand', 'Nicaragua', 'Niger', 'Nigeria', 'Norway', 'Oman', 'Pakistan', 'Palau',\n",
    "    'Panama', 'Papua New Guinea', 'Paraguay', 'Peru', 'Philippines', 'Poland', 'Portugal', 'Qatar', 'Romania', 'Russia',\n",
    "    'Rwanda', 'Saint Kitts and Nevis', 'Saint Lucia', 'Saint Vincent', 'Samoa', 'San Marino', 'Sao Tome and Principe',\n",
    "    'Saudi Arabia', 'Senegal', 'Serbia and Montenegro', 'Seychelles', 'Sierra Leone', 'Singapore', 'Slovakia', 'Slovenia',\n",
    "    'Solomon Islands', 'Somalia', 'South Africa', 'Spain', 'Sri Lanka', 'Sudan', 'Suriname', 'Swaziland', 'Sweden',\n",
    "    'Switzerland', 'Syria', 'Taiwan', 'Tajikistan', 'Tanzania', 'Thailand', 'Togo', 'Tonga', 'Trinidad and Tobago',\n",
    "    'Tunisia', 'Turkey', 'Turkmenistan', 'Tuvalu', 'Uganda', 'Ukraine', 'United Arab Emirates', 'United Kingdom',\n",
    "    'United States', 'Uruguay', 'Uzbekistan', 'Vanuatu', 'Vatican City', 'Venezuela', 'Vietnam', 'Yemen', 'Zambia', 'Zimbabwe'\n",
    "]\n",
    "\n",
    "# Find the number of countries\n",
    "num_countries = len(countries)\n",
    "\n",
    "# Find the middle index or indices\n",
    "middle_index = num_countries // 2\n",
    "\n",
    "# Check if the number of countries is odd or even\n",
    "if num_countries % 2 == 1:\n",
    "    # If odd, there is one middle country\n",
    "    middle_country = countries[middle_index]\n",
    "else:\n",
    "    # If even, there are two middle countries\n",
    "    middle_country1 = countries[middle_index - 1]\n",
    "    middle_country2 = countries[middle_index]\n",
    "\n",
    "# Print the middle country or countries\n",
    "if num_countries % 2 == 1:\n",
    "    print(f\"There is one middle country: {middle_country}\")\n",
    "else:\n",
    "    print(f\"There are two middle countries: {middle_country1} and {middle_country2}\")\n"
   ]
  },
  {
   "cell_type": "code",
   "execution_count": 45,
   "id": "9354c33c",
   "metadata": {},
   "outputs": [
    {
     "name": "stdout",
     "output_type": "stream",
     "text": [
      "First half of countries: ['Afghanistan', 'Albania', 'Algeria', 'Andorra', 'Angola', 'Antigua and Barbuda', 'Argentina', 'Armenia', 'Australia', 'Austria', 'Azerbaijan', 'Bahamas', 'Bahrain', 'Bangladesh', 'Barbados', 'Belarus', 'Belgium', 'Belize', 'Benin', 'Bhutan', 'Bolivia', 'Bosnia and Herzegovina', 'Botswana', 'Brazil', 'Brunei', 'Bulgaria', 'Burkina Faso', 'Burundi', 'Cambodia', 'Cameroon', 'Canada', 'Cape Verde', 'Central African Republic', 'Chad', 'Chile', 'China', 'Colombia', 'Comoros', 'Congo (Brazzaville)', 'Congo', 'Costa Rica', \"Cote d'Ivoire\", 'Croatia', 'Cuba', 'Cyprus', 'Czech Republic', 'Denmark', 'Djibouti', 'Dominica', 'Dominican Republic', 'East Timor (Timor Timur)', 'Ecuador', 'Egypt', 'El Salvador', 'Equatorial Guinea', 'Eritrea', 'Estonia', 'Ethiopia', 'Fiji', 'Finland', 'France', 'Gabon', 'Gambia, The', 'Georgia', 'Germany', 'Ghana', 'Greece', 'Grenada', 'Guatemala', 'Guinea', 'Guinea-Bissau', 'Guyana', 'Haiti', 'Honduras', 'Hungary', 'Iceland', 'India', 'Indonesia', 'Iran', 'Iraq', 'Ireland', 'Israel', 'Italy', 'Jamaica', 'Japan', 'Jordan', 'Kazakhstan', 'Kenya', 'Kiribati', 'Korea, North', 'Korea, South', 'Kuwait', 'Kyrgyzstan', 'Laos', 'Latvia', 'Lebanon', 'Lesotho']\n",
      "Second half of countries: ['Liberia', 'Libya', 'Liechtenstein', 'Lithuania', 'Luxembourg', 'Macedonia', 'Madagascar', 'Malawi', 'Malaysia', 'Maldives', 'Mali', 'Malta', 'Marshall Islands', 'Mauritania', 'Mauritius', 'Mexico', 'Micronesia', 'Moldova', 'Monaco', 'Mongolia', 'Morocco', 'Mozambique', 'Myanmar', 'Namibia', 'Nauru', 'Nepal', 'Netherlands', 'New Zealand', 'Nicaragua', 'Niger', 'Nigeria', 'Norway', 'Oman', 'Pakistan', 'Palau', 'Panama', 'Papua New Guinea', 'Paraguay', 'Peru', 'Philippines', 'Poland', 'Portugal', 'Qatar', 'Romania', 'Russia', 'Rwanda', 'Saint Kitts and Nevis', 'Saint Lucia', 'Saint Vincent', 'Samoa', 'San Marino', 'Sao Tome and Principe', 'Saudi Arabia', 'Senegal', 'Serbia and Montenegro', 'Seychelles', 'Sierra Leone', 'Singapore', 'Slovakia', 'Slovenia', 'Solomon Islands', 'Somalia', 'South Africa', 'Spain', 'Sri Lanka', 'Sudan', 'Suriname', 'Swaziland', 'Sweden', 'Switzerland', 'Syria', 'Taiwan', 'Tajikistan', 'Tanzania', 'Thailand', 'Togo', 'Tonga', 'Trinidad and Tobago', 'Tunisia', 'Turkey', 'Turkmenistan', 'Tuvalu', 'Uganda', 'Ukraine', 'United Arab Emirates', 'United Kingdom', 'United States', 'Uruguay', 'Uzbekistan', 'Vanuatu', 'Vatican City', 'Venezuela', 'Vietnam', 'Yemen', 'Zambia', 'Zimbabwe']\n"
     ]
    }
   ],
   "source": [
    "#2.Divide the countries list into two equal lists if it is even if not one more country for the first half.\n",
    "countries = [\n",
    "    'Afghanistan', 'Albania', 'Algeria', 'Andorra', 'Angola', 'Antigua and Barbuda', 'Argentina', 'Armenia',\n",
    "    'Australia', 'Austria', 'Azerbaijan', 'Bahamas', 'Bahrain', 'Bangladesh', 'Barbados', 'Belarus', 'Belgium',\n",
    "    'Belize', 'Benin', 'Bhutan', 'Bolivia', 'Bosnia and Herzegovina', 'Botswana', 'Brazil', 'Brunei', 'Bulgaria',\n",
    "    'Burkina Faso', 'Burundi', 'Cambodia', 'Cameroon', 'Canada', 'Cape Verde', 'Central African Republic', 'Chad',\n",
    "    'Chile', 'China', 'Colombia', 'Comoros', 'Congo (Brazzaville)', 'Congo', 'Costa Rica', \"Cote d'Ivoire\", 'Croatia',\n",
    "    'Cuba', 'Cyprus', 'Czech Republic', 'Denmark', 'Djibouti', 'Dominica', 'Dominican Republic', 'East Timor (Timor Timur)',\n",
    "    'Ecuador', 'Egypt', 'El Salvador', 'Equatorial Guinea', 'Eritrea', 'Estonia', 'Ethiopia', 'Fiji', 'Finland', 'France',\n",
    "    'Gabon', 'Gambia, The', 'Georgia', 'Germany', 'Ghana', 'Greece', 'Grenada', 'Guatemala', 'Guinea', 'Guinea-Bissau',\n",
    "    'Guyana', 'Haiti', 'Honduras', 'Hungary', 'Iceland', 'India', 'Indonesia', 'Iran', 'Iraq', 'Ireland', 'Israel',\n",
    "    'Italy', 'Jamaica', 'Japan', 'Jordan', 'Kazakhstan', 'Kenya', 'Kiribati', 'Korea, North', 'Korea, South', 'Kuwait',\n",
    "    'Kyrgyzstan', 'Laos', 'Latvia', 'Lebanon', 'Lesotho', 'Liberia', 'Libya', 'Liechtenstein', 'Lithuania', 'Luxembourg',\n",
    "    'Macedonia', 'Madagascar', 'Malawi', 'Malaysia', 'Maldives', 'Mali', 'Malta', 'Marshall Islands', 'Mauritania',\n",
    "    'Mauritius', 'Mexico', 'Micronesia', 'Moldova', 'Monaco', 'Mongolia', 'Morocco', 'Mozambique', 'Myanmar', 'Namibia',\n",
    "    'Nauru', 'Nepal', 'Netherlands', 'New Zealand', 'Nicaragua', 'Niger', 'Nigeria', 'Norway', 'Oman', 'Pakistan', 'Palau',\n",
    "    'Panama', 'Papua New Guinea', 'Paraguay', 'Peru', 'Philippines', 'Poland', 'Portugal', 'Qatar', 'Romania', 'Russia',\n",
    "    'Rwanda', 'Saint Kitts and Nevis', 'Saint Lucia', 'Saint Vincent', 'Samoa', 'San Marino', 'Sao Tome and Principe',\n",
    "    'Saudi Arabia', 'Senegal', 'Serbia and Montenegro', 'Seychelles', 'Sierra Leone', 'Singapore', 'Slovakia', 'Slovenia',\n",
    "    'Solomon Islands', 'Somalia', 'South Africa', 'Spain', 'Sri Lanka', 'Sudan', 'Suriname', 'Swaziland', 'Sweden',\n",
    "    'Switzerland', 'Syria', 'Taiwan', 'Tajikistan', 'Tanzania', 'Thailand', 'Togo', 'Tonga', 'Trinidad and Tobago',\n",
    "    'Tunisia', 'Turkey', 'Turkmenistan', 'Tuvalu', 'Uganda', 'Ukraine', 'United Arab Emirates', 'United Kingdom',\n",
    "    'United States', 'Uruguay', 'Uzbekistan', 'Vanuatu', 'Vatican City', 'Venezuela', 'Vietnam', 'Yemen', 'Zambia', 'Zimbabwe'\n",
    "]\n",
    "\n",
    "# Find the number of countries\n",
    "num_countries = len(countries)\n",
    "\n",
    "# Find the middle index\n",
    "middle_index = num_countries // 2\n",
    "\n",
    "# Divide the list into two halves\n",
    "if num_countries % 2 == 0:\n",
    "    # If even, two equal halves\n",
    "    first_half = countries[:middle_index]\n",
    "    second_half = countries[middle_index:]\n",
    "else:\n",
    "    # If odd, one more country for the first half\n",
    "    first_half = countries[:middle_index + 1]\n",
    "    second_half = countries[middle_index + 1:]\n",
    "\n",
    "# Print the two halves\n",
    "print(\"First half of countries:\", first_half)\n",
    "print(\"Second half of countries:\", second_half)\n"
   ]
  },
  {
   "cell_type": "code",
   "execution_count": 46,
   "id": "d24fffc4",
   "metadata": {},
   "outputs": [
    {
     "name": "stdout",
     "output_type": "stream",
     "text": [
      "First country: China\n",
      "Second country: Russia\n",
      "Third country: USA\n",
      "Scandic countries: ['Finland', 'Sweden', 'Norway', 'Denmark']\n"
     ]
    }
   ],
   "source": [
    "#3.['China', 'Russia', 'USA', 'Finland', 'Sweden', 'Norway', 'Denmark']. Unpack the first three countries and the rest as scandic countries.\n",
    "countries = ['China', 'Russia', 'USA', 'Finland', 'Sweden', 'Norway', 'Denmark']\n",
    "\n",
    "# Unpack the first three countries\n",
    "country1, country2, country3, *scandic_countries = countries\n",
    "\n",
    "# Print the unpacked countries and the rest as Scandic countries\n",
    "print(\"First country:\", country1)\n",
    "print(\"Second country:\", country2)\n",
    "print(\"Third country:\", country3)\n",
    "print(\"Scandic countries:\", scandic_countries)\n"
   ]
  },
  {
   "cell_type": "code",
   "execution_count": null,
   "id": "84286d37",
   "metadata": {},
   "outputs": [],
   "source": []
  }
 ],
 "metadata": {
  "kernelspec": {
   "display_name": "Python 3 (ipykernel)",
   "language": "python",
   "name": "python3"
  },
  "language_info": {
   "codemirror_mode": {
    "name": "ipython",
    "version": 3
   },
   "file_extension": ".py",
   "mimetype": "text/x-python",
   "name": "python",
   "nbconvert_exporter": "python",
   "pygments_lexer": "ipython3",
   "version": "3.11.5"
  }
 },
 "nbformat": 4,
 "nbformat_minor": 5
}
