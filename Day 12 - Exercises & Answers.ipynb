{
 "cells": [
  {
   "cell_type": "markdown",
   "id": "17da997b",
   "metadata": {},
   "source": [
    "# Exercises - Day 12"
   ]
  },
  {
   "cell_type": "code",
   "execution_count": null,
   "id": "ccc9ace7",
   "metadata": {},
   "outputs": [],
   "source": [
    "#Exercises: Level 1"
   ]
  },
  {
   "cell_type": "code",
   "execution_count": null,
   "id": "44e52d62",
   "metadata": {},
   "outputs": [],
   "source": [
    "#1Writ a function which generates a six digit/character random_user_id. "
   ]
  },
  {
   "cell_type": "code",
   "execution_count": 1,
   "id": "341169db",
   "metadata": {},
   "outputs": [
    {
     "name": "stdout",
     "output_type": "stream",
     "text": [
      "i6xe0u\n"
     ]
    }
   ],
   "source": [
    "import random\n",
    "import string\n",
    "\n",
    "def random_user_id():\n",
    "    \"\"\"\n",
    "    Generate a six-digit/character random user ID.\n",
    "\n",
    "    Returns:\n",
    "    str: A six-digit/character random user ID.\n",
    "    \"\"\"\n",
    "    user_id = ''.join(random.choices(string.ascii_lowercase + string.digits, k=6))\n",
    "    return user_id\n",
    "\n",
    "# Example usage:\n",
    "generated_user_id = random_user_id()\n",
    "print(generated_user_id)\n"
   ]
  },
  {
   "cell_type": "code",
   "execution_count": null,
   "id": "c460eb8c",
   "metadata": {},
   "outputs": [],
   "source": [
    "#2.Modify the previous task. Declare a function named user_id_gen_by_user. It doesn’t take any parameters but it takes two inputs using input(). One of the inputs is the number of characters and the second input is the number of IDs which are supposed to be generated."
   ]
  },
  {
   "cell_type": "code",
   "execution_count": 6,
   "id": "54660961",
   "metadata": {},
   "outputs": [
    {
     "name": "stdout",
     "output_type": "stream",
     "text": [
      "Enter the number of characters: 5\n",
      "Enter the number of IDs to generate: 5\n",
      "\n",
      "Generated User IDs:\n",
      "br329\n",
      "i4kz5\n",
      "izsye\n",
      "hebqt\n",
      "16pe3\n"
     ]
    }
   ],
   "source": [
    "# user input: 5 5\n",
    "import random\n",
    "import string\n",
    "\n",
    "def user_id_gen_by_user():\n",
    "    \"\"\"\n",
    "    Generate user-specified number of user IDs with user-specified number of characters.\n",
    "\n",
    "    Returns:\n",
    "    list: A list of generated user IDs.\n",
    "    \"\"\"\n",
    "    try:\n",
    "        char_count = int(input(\"Enter the number of characters: \"))\n",
    "        id_count = int(input(\"Enter the number of IDs to generate: \"))\n",
    "    except ValueError:\n",
    "        print(\"Invalid input. Please enter valid numbers.\")\n",
    "        return []\n",
    "\n",
    "    user_ids = []\n",
    "    for _ in range(id_count):\n",
    "        user_id = ''.join(random.choices(string.ascii_lowercase + string.digits, k=char_count))\n",
    "        user_ids.append(user_id)\n",
    "\n",
    "    return user_ids\n",
    "\n",
    "# Example usage:\n",
    "generated_user_ids = user_id_gen_by_user()\n",
    "print(\"\\nGenerated User IDs:\")\n",
    "for user_id in generated_user_ids:\n",
    "    print(user_id)\n"
   ]
  },
  {
   "cell_type": "code",
   "execution_count": 7,
   "id": "36aa6c76",
   "metadata": {},
   "outputs": [
    {
     "name": "stdout",
     "output_type": "stream",
     "text": [
      "Enter the number of characters: 16\n",
      "Enter the number of IDs to generate: 5\n",
      "\n",
      "Generated User IDs:\n",
      "ess9x5vvqfzvcd8g\n",
      "xl2avyl93g1e5vt0\n",
      "emej6x3brb617rjo\n",
      "hhyvqec873muaaoy\n",
      "niwfb37mbsrlmps3\n"
     ]
    }
   ],
   "source": [
    "# user input: 16 5\n",
    "import random\n",
    "import string\n",
    "\n",
    "def user_id_gen_by_user():\n",
    "    \"\"\"\n",
    "    Generate user-specified number of user IDs with user-specified number of characters.\n",
    "\n",
    "    Returns:\n",
    "    list: A list of generated user IDs.\n",
    "    \"\"\"\n",
    "    try:\n",
    "        char_count = int(input(\"Enter the number of characters: \"))\n",
    "        id_count = int(input(\"Enter the number of IDs to generate: \"))\n",
    "    except ValueError:\n",
    "        print(\"Invalid input. Please enter valid numbers.\")\n",
    "        return []\n",
    "\n",
    "    user_ids = []\n",
    "    for _ in range(id_count):\n",
    "        user_id = ''.join(random.choices(string.ascii_lowercase + string.digits, k=char_count))\n",
    "        user_ids.append(user_id)\n",
    "\n",
    "    return user_ids\n",
    "\n",
    "# Example usage:\n",
    "generated_user_ids = user_id_gen_by_user()\n",
    "print(\"\\nGenerated User IDs:\")\n",
    "for user_id in generated_user_ids:\n",
    "    print(user_id)\n"
   ]
  },
  {
   "cell_type": "code",
   "execution_count": null,
   "id": "833efba2",
   "metadata": {},
   "outputs": [],
   "source": [
    "#3.Write a function named rgb_color_gen. It will generate rgb colors (3 values ranging from 0 to 255 each)."
   ]
  },
  {
   "cell_type": "code",
   "execution_count": 8,
   "id": "fdc8b5fe",
   "metadata": {},
   "outputs": [
    {
     "name": "stdout",
     "output_type": "stream",
     "text": [
      "rgb(102,196,235)\n"
     ]
    }
   ],
   "source": [
    "import random\n",
    "\n",
    "def rgb_color_gen():\n",
    "    \"\"\"\n",
    "    Generate a random RGB color.\n",
    "\n",
    "    Returns:\n",
    "    str: A string representing the RGB color.\n",
    "    \"\"\"\n",
    "    red = random.randint(0, 255)\n",
    "    green = random.randint(0, 255)\n",
    "    blue = random.randint(0, 255)\n",
    "    \n",
    "    rgb_color = f\"rgb({red},{green},{blue})\"\n",
    "    return rgb_color\n",
    "\n",
    "# Example usage:\n",
    "generated_rgb_color = rgb_color_gen()\n",
    "print(generated_rgb_color)\n"
   ]
  },
  {
   "cell_type": "code",
   "execution_count": null,
   "id": "7f528fdd",
   "metadata": {},
   "outputs": [],
   "source": [
    "#Exercises: Level 2"
   ]
  },
  {
   "cell_type": "code",
   "execution_count": null,
   "id": "d284ab27",
   "metadata": {},
   "outputs": [],
   "source": [
    "#1.Write a function list_of_hexa_colors which returns any number of hexadecimal colors in an array (six hexadecimal numbers written after #. Hexadecimal numeral system is made out of 16 symbols, 0-9 and first 6 letters of the alphabet, a-f. Check the task 6 for output examples)."
   ]
  },
  {
   "cell_type": "code",
   "execution_count": 9,
   "id": "ed87d731",
   "metadata": {},
   "outputs": [
    {
     "name": "stdout",
     "output_type": "stream",
     "text": [
      "['#c5586f', '#212170', '#137c8e', '#5cecfe', '#d7a293']\n"
     ]
    }
   ],
   "source": [
    "import random\n",
    "\n",
    "def list_of_hexa_colors(num_colors):\n",
    "    \"\"\"\n",
    "    Generate an array of random hexadecimal colors.\n",
    "\n",
    "    Parameters:\n",
    "    num_colors (int): Number of hexadecimal colors to generate.\n",
    "\n",
    "    Returns:\n",
    "    list: A list of strings representing hexadecimal colors.\n",
    "    \"\"\"\n",
    "    hexa_colors = []\n",
    "    for _ in range(num_colors):\n",
    "        color = \"#{:06x}\".format(random.randint(0, 0xFFFFFF))\n",
    "        hexa_colors.append(color)\n",
    "\n",
    "    return hexa_colors\n",
    "\n",
    "# Example usage:\n",
    "num_colors_to_generate = 5\n",
    "generated_hexa_colors = list_of_hexa_colors(num_colors_to_generate)\n",
    "print(generated_hexa_colors)\n"
   ]
  },
  {
   "cell_type": "code",
   "execution_count": null,
   "id": "7a1e2bf5",
   "metadata": {},
   "outputs": [],
   "source": [
    "#2.Write a function list_of_rgb_colors which returns any number of RGB colors in an array."
   ]
  },
  {
   "cell_type": "code",
   "execution_count": 10,
   "id": "adfefad5",
   "metadata": {},
   "outputs": [
    {
     "name": "stdout",
     "output_type": "stream",
     "text": [
      "['rgb(105,3,231)', 'rgb(202,98,63)', 'rgb(208,91,113)', 'rgb(16,229,63)', 'rgb(71,164,95)']\n"
     ]
    }
   ],
   "source": [
    "import random\n",
    "\n",
    "def list_of_rgb_colors(num_colors):\n",
    "    \"\"\"\n",
    "    Generate an array of random RGB colors.\n",
    "\n",
    "    Parameters:\n",
    "    num_colors (int): Number of RGB colors to generate.\n",
    "\n",
    "    Returns:\n",
    "    list: A list of strings representing RGB colors.\n",
    "    \"\"\"\n",
    "    rgb_colors = []\n",
    "    for _ in range(num_colors):\n",
    "        red = random.randint(0, 255)\n",
    "        green = random.randint(0, 255)\n",
    "        blue = random.randint(0, 255)\n",
    "        rgb_color = f\"rgb({red},{green},{blue})\"\n",
    "        rgb_colors.append(rgb_color)\n",
    "\n",
    "    return rgb_colors\n",
    "\n",
    "# Example usage:\n",
    "num_colors_to_generate = 5\n",
    "generated_rgb_colors = list_of_rgb_colors(num_colors_to_generate)\n",
    "print(generated_rgb_colors)\n"
   ]
  },
  {
   "cell_type": "code",
   "execution_count": null,
   "id": "1418ee3a",
   "metadata": {},
   "outputs": [],
   "source": [
    "#3.Write a function generate_colors which can generate any number of hexa or rgb colors."
   ]
  },
  {
   "cell_type": "code",
   "execution_count": 11,
   "id": "906e587a",
   "metadata": {},
   "outputs": [
    {
     "name": "stdout",
     "output_type": "stream",
     "text": [
      "['#49ab79', '#62caaf', '#5d23d7']\n",
      "['rgb(241,132,80)', 'rgb(161,254,145)', 'rgb(210,26,81)']\n"
     ]
    }
   ],
   "source": [
    "import random\n",
    "\n",
    "def generate_colors(color_type, num_colors):\n",
    "    \"\"\"\n",
    "    Generate an array of random colors.\n",
    "\n",
    "    Parameters:\n",
    "    color_type (str): Type of color to generate ('hexa' or 'rgb').\n",
    "    num_colors (int): Number of colors to generate.\n",
    "\n",
    "    Returns:\n",
    "    list: A list of strings representing colors.\n",
    "    \"\"\"\n",
    "    colors = []\n",
    "\n",
    "    for _ in range(num_colors):\n",
    "        if color_type == 'hexa':\n",
    "            color = \"#{:06x}\".format(random.randint(0, 0xFFFFFF))\n",
    "        elif color_type == 'rgb':\n",
    "            red = random.randint(0, 255)\n",
    "            green = random.randint(0, 255)\n",
    "            blue = random.randint(0, 255)\n",
    "            color = f\"rgb({red},{green},{blue})\"\n",
    "        else:\n",
    "            print(\"Invalid color type. Use 'hexa' or 'rgb'.\")\n",
    "            return []\n",
    "\n",
    "        colors.append(color)\n",
    "\n",
    "    return colors\n",
    "\n",
    "# Example usage:\n",
    "hexa_colors = generate_colors('hexa', 3)\n",
    "print(hexa_colors)\n",
    "\n",
    "rgb_colors = generate_colors('rgb', 3)\n",
    "print(rgb_colors)\n"
   ]
  },
  {
   "cell_type": "code",
   "execution_count": null,
   "id": "f9112868",
   "metadata": {},
   "outputs": [],
   "source": [
    "#Exercises: Level 3"
   ]
  },
  {
   "cell_type": "code",
   "execution_count": null,
   "id": "cb30507f",
   "metadata": {},
   "outputs": [],
   "source": [
    "#1.Call your function shuffle_list, it takes a list as a parameter and it returns a shuffled list"
   ]
  },
  {
   "cell_type": "code",
   "execution_count": 12,
   "id": "80913394",
   "metadata": {},
   "outputs": [
    {
     "name": "stdout",
     "output_type": "stream",
     "text": [
      "[3, 2, 4, 5, 1]\n"
     ]
    }
   ],
   "source": [
    "import random\n",
    "\n",
    "def shuffle_list(input_list):\n",
    "    \"\"\"\n",
    "    Shuffle the elements of a list.\n",
    "\n",
    "    Parameters:\n",
    "    input_list (list): The input list to be shuffled.\n",
    "\n",
    "    Returns:\n",
    "    list: A shuffled list.\n",
    "    \"\"\"\n",
    "    shuffled_list = input_list.copy()  # Create a copy to avoid modifying the original list\n",
    "    random.shuffle(shuffled_list)\n",
    "    return shuffled_list\n",
    "\n",
    "# Example usage:\n",
    "original_list = [1, 2, 3, 4, 5]\n",
    "shuffled_result = shuffle_list(original_list)\n",
    "print(shuffled_result)\n"
   ]
  },
  {
   "cell_type": "code",
   "execution_count": null,
   "id": "a0708e5e",
   "metadata": {},
   "outputs": [],
   "source": [
    "#2.Write a function which returns an array of seven random numbers in a range of 0-9. All the numbers must be unique."
   ]
  },
  {
   "cell_type": "code",
   "execution_count": 13,
   "id": "2223b619",
   "metadata": {},
   "outputs": [
    {
     "name": "stdout",
     "output_type": "stream",
     "text": [
      "[9, 1, 5, 2, 0, 6, 8]\n"
     ]
    }
   ],
   "source": [
    "import random\n",
    "\n",
    "def generate_unique_numbers():\n",
    "    \"\"\"\n",
    "    Generate an array of seven unique random numbers in the range of 0-9.\n",
    "\n",
    "    Returns:\n",
    "    list: A list of seven unique random numbers.\n",
    "    \"\"\"\n",
    "    unique_numbers = random.sample(range(10), 7)\n",
    "    return unique_numbers\n",
    "\n",
    "# Example usage:\n",
    "random_numbers = generate_unique_numbers()\n",
    "print(random_numbers)\n"
   ]
  },
  {
   "cell_type": "code",
   "execution_count": null,
   "id": "4eb382f5",
   "metadata": {},
   "outputs": [],
   "source": []
  }
 ],
 "metadata": {
  "kernelspec": {
   "display_name": "Python 3 (ipykernel)",
   "language": "python",
   "name": "python3"
  },
  "language_info": {
   "codemirror_mode": {
    "name": "ipython",
    "version": 3
   },
   "file_extension": ".py",
   "mimetype": "text/x-python",
   "name": "python",
   "nbconvert_exporter": "python",
   "pygments_lexer": "ipython3",
   "version": "3.11.4"
  }
 },
 "nbformat": 4,
 "nbformat_minor": 5
}
