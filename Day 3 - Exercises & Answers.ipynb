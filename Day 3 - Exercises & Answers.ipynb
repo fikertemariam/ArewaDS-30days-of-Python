{
 "cells": [
  {
   "cell_type": "markdown",
   "id": "f0deaac4",
   "metadata": {},
   "source": [
    "# Exercises - Day 3"
   ]
  },
  {
   "cell_type": "code",
   "execution_count": 1,
   "id": "bf671448",
   "metadata": {},
   "outputs": [
    {
     "data": {
      "text/plain": [
       "37"
      ]
     },
     "execution_count": 1,
     "metadata": {},
     "output_type": "execute_result"
    }
   ],
   "source": [
    "#1. Declare your age as integer variable\n",
    "my_age = 37  \n",
    "my_age"
   ]
  },
  {
   "cell_type": "code",
   "execution_count": 2,
   "id": "8d0243c4",
   "metadata": {},
   "outputs": [
    {
     "data": {
      "text/plain": [
       "175.5"
      ]
     },
     "execution_count": 2,
     "metadata": {},
     "output_type": "execute_result"
    }
   ],
   "source": [
    "#2. Declare your height as a float variable\n",
    "my_height = 175.5  \n",
    "my_height"
   ]
  },
  {
   "cell_type": "code",
   "execution_count": 3,
   "id": "9e119978",
   "metadata": {},
   "outputs": [
    {
     "data": {
      "text/plain": [
       "(3+4j)"
      ]
     },
     "execution_count": 3,
     "metadata": {},
     "output_type": "execute_result"
    }
   ],
   "source": [
    "#3. Declare a variable that store a complex number\n",
    "complex_number = 3 + 4j\n",
    "complex_number"
   ]
  },
  {
   "cell_type": "code",
   "execution_count": 5,
   "id": "9d81a249",
   "metadata": {},
   "outputs": [
    {
     "name": "stdout",
     "output_type": "stream",
     "text": [
      "Enter the base of the triangle: 20\n",
      "Enter the height of the triangle: 10\n",
      "The area of the triangle is: 100.0\n"
     ]
    }
   ],
   "source": [
    "#4. Write a script that prompts the user to enter base and height of the triangle and calculate an area of this triangle (area = 0.5 x b x h).\n",
    "# Prompt the user to enter the base and height of the triangle\n",
    "base_str = input(\"Enter the base of the triangle: \")\n",
    "height_str = input(\"Enter the height of the triangle: \")\n",
    "\n",
    "# Convert the user input to float\n",
    "base = float(base_str)\n",
    "height = float(height_str)\n",
    "\n",
    "# Calculate the area of the triangle\n",
    "area = 0.5 * base * height\n",
    "\n",
    "# Print the calculated area\n",
    "print(\"The area of the triangle is:\", area)\n"
   ]
  },
  {
   "cell_type": "code",
   "execution_count": 6,
   "id": "73e8be42",
   "metadata": {},
   "outputs": [
    {
     "name": "stdout",
     "output_type": "stream",
     "text": [
      "Enter side a of the triangle: 5\n",
      "Enter side b of the triangle: 4\n",
      "Enter side c of the triangle: 3\n",
      "The perimeter of the triangle is: 12.0\n"
     ]
    }
   ],
   "source": [
    "#5. Write a script that prompts the user to enter side a, side b, and side c of the triangle. Calculate the perimeter of the triangle (perimeter = a + b + c).\n",
    "# Prompt the user to enter the sides of the triangle\n",
    "side_a_str = input(\"Enter side a of the triangle: \")\n",
    "side_b_str = input(\"Enter side b of the triangle: \")\n",
    "side_c_str = input(\"Enter side c of the triangle: \")\n",
    "\n",
    "# Convert the user input to float\n",
    "side_a = float(side_a_str)\n",
    "side_b = float(side_b_str)\n",
    "side_c = float(side_c_str)\n",
    "\n",
    "# Calculate the perimeter of the triangle\n",
    "perimeter = side_a + side_b + side_c\n",
    "\n",
    "# Print the calculated perimeter\n",
    "print(\"The perimeter of the triangle is:\", perimeter)\n"
   ]
  },
  {
   "cell_type": "code",
   "execution_count": 7,
   "id": "dc0a9024",
   "metadata": {},
   "outputs": [
    {
     "name": "stdout",
     "output_type": "stream",
     "text": [
      "Enter the length of the rectangle: 20\n",
      "Enter the width of the rectangle: 10\n",
      "The area of the rectangle is: 200.0\n",
      "The perimeter of the rectangle is: 60.0\n"
     ]
    }
   ],
   "source": [
    "#6. Get length and width of a rectangle using prompt. Calculate its area (area = length x width) and perimeter (perimeter = 2 x (length + width))\n",
    "# Prompt the user to enter the length and width of the rectangle\n",
    "length_str = input(\"Enter the length of the rectangle: \")\n",
    "width_str = input(\"Enter the width of the rectangle: \")\n",
    "\n",
    "# Convert the user input to float\n",
    "length = float(length_str)\n",
    "width = float(width_str)\n",
    "\n",
    "# Calculate the area of the rectangle\n",
    "area = length * width\n",
    "\n",
    "# Calculate the perimeter of the rectangle\n",
    "perimeter = 2 * (length + width)\n",
    "\n",
    "# Print the calculated area and perimeter\n",
    "print(\"The area of the rectangle is:\", area)\n",
    "print(\"The perimeter of the rectangle is:\", perimeter)\n"
   ]
  },
  {
   "cell_type": "code",
   "execution_count": 9,
   "id": "b72d64db",
   "metadata": {},
   "outputs": [
    {
     "name": "stdout",
     "output_type": "stream",
     "text": [
      "Enter the radius of the circle: 10\n",
      "The area of the circle is: 314.0\n",
      "The circumference of the circle is: 62.800000000000004\n"
     ]
    }
   ],
   "source": [
    "#7. Get radius of a circle using prompt. Calculate the area (area = pi x r x r) and circumference (c = 2 x pi x r) where pi = 3.14.\n",
    "import math\n",
    "\n",
    "# Prompt the user to enter the radius of the circle\n",
    "radius_str = input(\"Enter the radius of the circle: \")\n",
    "\n",
    "# Convert the user input to float\n",
    "radius = float(radius_str)\n",
    "\n",
    "# Constants\n",
    "pi = 3.14\n",
    "\n",
    "# Calculate the area of the circle\n",
    "area = pi * (radius ** 2)\n",
    "\n",
    "# Calculate the circumference of the circle\n",
    "circumference = 2 * pi * radius\n",
    "\n",
    "# Print the calculated area and circumference\n",
    "print(\"The area of the circle is:\", area)\n",
    "print(\"The circumference of the circle is:\", circumference)\n"
   ]
  },
  {
   "cell_type": "code",
   "execution_count": 10,
   "id": "6ce2d9a8",
   "metadata": {},
   "outputs": [
    {
     "name": "stdout",
     "output_type": "stream",
     "text": [
      "For the equation 2x - 2:\n",
      "Slope (m): 2\n",
      "Y-intercept (b): -2\n",
      "X-intercept: 1.0\n"
     ]
    }
   ],
   "source": [
    "#8. Calculate the slope, x-intercept and y-intercept of y = 2x -2\n",
    "# Given equation\n",
    "equation = \"2x - 2\"\n",
    "\n",
    "# Coefficients\n",
    "m = 2  # slope\n",
    "b = -2  # y-intercept\n",
    "\n",
    "# Calculate x-intercept (when y = 0)\n",
    "x_intercept = -b / m\n",
    "\n",
    "# Display the results\n",
    "print(f\"For the equation {equation}:\")\n",
    "print(f\"Slope (m): {m}\")\n",
    "print(f\"Y-intercept (b): {b}\")\n",
    "print(f\"X-intercept: {x_intercept}\")\n"
   ]
  },
  {
   "cell_type": "code",
   "execution_count": 11,
   "id": "cd88baab",
   "metadata": {},
   "outputs": [
    {
     "name": "stdout",
     "output_type": "stream",
     "text": [
      "Slope between (2, 2) and (6, 10): 2.0\n",
      "Euclidean distance between (2, 2) and (6, 10): 8.94427190999916\n"
     ]
    }
   ],
   "source": [
    "#9. Slope is (m = y2-y1/x2-x1). Find the slope and Euclidean distance between point (2, 2) and point (6,10)\n",
    "# Given points\n",
    "x1, y1 = 2, 2\n",
    "x2, y2 = 6, 10\n",
    "\n",
    "# Calculate slope\n",
    "slope = (y2 - y1) / (x2 - x1)\n",
    "\n",
    "# Calculate Euclidean distance\n",
    "euclidean_distance = ((x2 - x1)**2 + (y2 - y1)**2)**0.5\n",
    "\n",
    "# Display the results\n",
    "print(f\"Slope between ({x1}, {y1}) and ({x2}, {y2}): {slope}\")\n",
    "print(f\"Euclidean distance between ({x1}, {y1}) and ({x2}, {y2}): {euclidean_distance}\")\n",
    "\n"
   ]
  },
  {
   "cell_type": "code",
   "execution_count": 12,
   "id": "c271a4d9",
   "metadata": {},
   "outputs": [
    {
     "name": "stdout",
     "output_type": "stream",
     "text": [
      "The slopes are equal.\n"
     ]
    }
   ],
   "source": [
    "#10. Compare the slopes in tasks 8 and 9.\n",
    "# Slope from task 8\n",
    "slope_task_8 = 2\n",
    "\n",
    "# Slope from task 9\n",
    "slope_task_9 = (y2 - y1) / (x2 - x1)\n",
    "\n",
    "# Compare slopes\n",
    "if slope_task_8 == slope_task_9:\n",
    "    print(\"The slopes are equal.\")\n",
    "else:\n",
    "    print(\"The slopes are not equal.\")\n"
   ]
  },
  {
   "cell_type": "code",
   "execution_count": 14,
   "id": "24838fee",
   "metadata": {},
   "outputs": [
    {
     "name": "stdout",
     "output_type": "stream",
     "text": [
      "Root 1: -3.0\n",
      "Root 2: -3.0\n"
     ]
    }
   ],
   "source": [
    "#11. Calculate the value of y (y = x^2 + 6x + 9). Try to use different x values and figure out at what x value y is going to be 0.\n",
    "\n",
    "# Coefficients\n",
    "a = 1\n",
    "b = 6\n",
    "c = 9\n",
    "\n",
    "# Calculate the discriminant\n",
    "discriminant = b**2 - 4*a*c\n",
    "\n",
    "# Check if roots are real or complex\n",
    "if discriminant >= 0:\n",
    "    # Calculate real roots\n",
    "    root_1 = (-b + (discriminant)**0.5) / (2*a)\n",
    "    root_2 = (-b - (discriminant)**0.5) / (2*a)\n",
    "    print(f\"Root 1: {root_1}\")\n",
    "    print(f\"Root 2: {root_2}\")\n",
    "else:\n",
    "    # Calculate complex roots\n",
    "    real_part = -b / (2*a)\n",
    "    imaginary_part = ((-discriminant)**0.5) / (2*a)\n",
    "    root_1 = complex(real_part, imaginary_part)\n",
    "    root_2 = complex(real_part, -imaginary_part)\n",
    "    print(f\"Root 1: {root_1}\")\n",
    "    print(f\"Root 2: {root_2}\")\n"
   ]
  },
  {
   "cell_type": "code",
   "execution_count": 15,
   "id": "e915efc4",
   "metadata": {},
   "outputs": [
    {
     "name": "stdout",
     "output_type": "stream",
     "text": [
      "Length of 'python': 6\n",
      "Length of 'dragon': 6\n",
      "Falsy comparison statement: True\n"
     ]
    }
   ],
   "source": [
    "#12. Find the length of 'python' and 'dragon' and make a falsy comparison statement.\n",
    "# Strings\n",
    "string1 = 'python'\n",
    "string2 = 'dragon'\n",
    "\n",
    "# Find the length of the strings\n",
    "length1 = len(string1)\n",
    "length2 = len(string2)\n",
    "\n",
    "# Make a falsy comparison statement\n",
    "comparison_result = length1 == length2\n",
    "\n",
    "# Display the results\n",
    "print(f\"Length of '{string1}': {length1}\")\n",
    "print(f\"Length of '{string2}': {length2}\")\n",
    "print(f\"Falsy comparison statement: {comparison_result}\")\n"
   ]
  },
  {
   "cell_type": "code",
   "execution_count": 16,
   "id": "b8167100",
   "metadata": {},
   "outputs": [
    {
     "name": "stdout",
     "output_type": "stream",
     "text": [
      "Is 'on' found in both 'python' and 'dragon'? True\n"
     ]
    }
   ],
   "source": [
    "#13. Use and operator to check if 'on' is found in both 'python' and 'dragon'\n",
    "# Strings\n",
    "string1 = 'python'\n",
    "string2 = 'dragon'\n",
    "\n",
    "# Check if 'on' is found in both strings\n",
    "contains_on = 'on' in string1 and 'on' in string2\n",
    "\n",
    "# Display the result\n",
    "print(f\"Is 'on' found in both '{string1}' and '{string2}'? {contains_on}\")\n"
   ]
  },
  {
   "cell_type": "code",
   "execution_count": 17,
   "id": "c07aa755",
   "metadata": {},
   "outputs": [
    {
     "name": "stdout",
     "output_type": "stream",
     "text": [
      "Is 'jargon' in the sentence? True\n"
     ]
    }
   ],
   "source": [
    "#14. I hope this course is not full of jargon. Use in operator to check if jargon is in the sentence.\n",
    "# Sentence\n",
    "sentence = \"I hope this course is not full of jargon.\"\n",
    "\n",
    "# Check if 'jargon' is in the sentence\n",
    "contains_jargon = 'jargon' in sentence\n",
    "\n",
    "# Display the result\n",
    "print(f\"Is 'jargon' in the sentence? {contains_jargon}\")\n"
   ]
  },
  {
   "cell_type": "code",
   "execution_count": 18,
   "id": "3ff41558",
   "metadata": {},
   "outputs": [
    {
     "name": "stdout",
     "output_type": "stream",
     "text": [
      "Is 'on' found in both 'python' and 'dragon'? True\n"
     ]
    }
   ],
   "source": [
    "#15. There is no 'on' in both dragon and python\n",
    "# Strings\n",
    "string1 = 'python'\n",
    "string2 = 'dragon'\n",
    "\n",
    "# Check if 'on' is found in both strings\n",
    "contains_on = 'on' in string1 and 'on' in string2\n",
    "\n",
    "# Display the result\n",
    "print(f\"Is 'on' found in both '{string1}' and '{string2}'? {contains_on}\")\n"
   ]
  },
  {
   "cell_type": "code",
   "execution_count": 19,
   "id": "2d39461f",
   "metadata": {},
   "outputs": [
    {
     "name": "stdout",
     "output_type": "stream",
     "text": [
      "Length of 'python': 6\n",
      "Length as float: 6.0\n",
      "Length as string: 6.0\n"
     ]
    }
   ],
   "source": [
    "#16. Find the length of the text python and convert the value to float and convert it to string\n",
    "# Text\n",
    "text = 'python'\n",
    "\n",
    "# Find the length of the text\n",
    "text_length = len(text)\n",
    "\n",
    "# Convert the length to a float\n",
    "length_as_float = float(text_length)\n",
    "\n",
    "# Convert the float to a string\n",
    "length_as_string = str(length_as_float)\n",
    "\n",
    "# Display the results\n",
    "print(f\"Length of '{text}': {text_length}\")\n",
    "print(f\"Length as float: {length_as_float}\")\n",
    "print(f\"Length as string: {length_as_string}\")\n"
   ]
  },
  {
   "cell_type": "code",
   "execution_count": 20,
   "id": "2b6ea8d4",
   "metadata": {},
   "outputs": [
    {
     "name": "stdout",
     "output_type": "stream",
     "text": [
      "6 is even.\n"
     ]
    }
   ],
   "source": [
    "#17. Even numbers are divisible by 2 and the remainder is zero. How do you check if a number is even or not using python?\n",
    "# Function to check if a number is even\n",
    "def is_even(number):\n",
    "    return number % 2 == 0\n",
    "\n",
    "# Example usage\n",
    "num = 6\n",
    "\n",
    "if is_even(num):\n",
    "    print(f\"{num} is even.\")\n",
    "else:\n",
    "    print(f\"{num} is not even.\")\n"
   ]
  },
  {
   "cell_type": "code",
   "execution_count": 21,
   "id": "e350531a",
   "metadata": {},
   "outputs": [
    {
     "name": "stdout",
     "output_type": "stream",
     "text": [
      "Is floor division of 7 by 3 equal to int converted value of 2.7? True\n"
     ]
    }
   ],
   "source": [
    "#18. Check if the floor division of 7 by 3 is equal to the int converted value of 2.7.\n",
    "# Check if the floor division of 7 by 3 is equal to the int converted value of 2.7\n",
    "result_comparison = (7 // 3) == int(2.7)\n",
    "\n",
    "# Display the result\n",
    "print(f\"Is floor division of 7 by 3 equal to int converted value of 2.7? {result_comparison}\")\n"
   ]
  },
  {
   "cell_type": "code",
   "execution_count": 22,
   "id": "61996bcf",
   "metadata": {},
   "outputs": [
    {
     "name": "stdout",
     "output_type": "stream",
     "text": [
      "Is the type of '10' equal to the type of 10? False\n"
     ]
    }
   ],
   "source": [
    "#19. Check if type of '10' is equal to type of 10\n",
    "# Check if type of '10' is equal to type of 10\n",
    "type_comparison = type('10') == type(10)\n",
    "\n",
    "# Display the result\n",
    "print(f\"Is the type of '10' equal to the type of 10? {type_comparison}\")\n"
   ]
  },
  {
   "cell_type": "code",
   "execution_count": 23,
   "id": "c8ac2dcc",
   "metadata": {},
   "outputs": [
    {
     "name": "stdout",
     "output_type": "stream",
     "text": [
      "Is int('9.8') equal to 10? False\n"
     ]
    }
   ],
   "source": [
    "#20. Check if int('9.8') is equal to 10\n",
    "# Try to convert the float '9.8' to an integer and check if it is equal to 10\n",
    "try:\n",
    "    converted_value = int(float('9.8'))\n",
    "    result_comparison = converted_value == 10\n",
    "    print(f\"Is int('9.8') equal to 10? {result_comparison}\")\n",
    "except ValueError:\n",
    "    print(\"Conversion to int failed due to a ValueError.\")\n"
   ]
  },
  {
   "cell_type": "code",
   "execution_count": 24,
   "id": "d122bfba",
   "metadata": {},
   "outputs": [
    {
     "name": "stdout",
     "output_type": "stream",
     "text": [
      "Enter hours worked: 40\n",
      "Enter rate per hour: 28\n",
      "Your weekly earning is 1120.0\n"
     ]
    }
   ],
   "source": [
    "#21. Writ a script that prompts the user to enter hours and rate per hour. Calculate pay of the person?\n",
    "# Prompt the user to enter hours and rate per hour\n",
    "hours_worked_str = input(\"Enter hours worked: \")\n",
    "rate_per_hour_str = input(\"Enter rate per hour: \")\n",
    "\n",
    "# Convert input to float\n",
    "hours_worked = float(hours_worked_str)\n",
    "rate_per_hour = float(rate_per_hour_str)\n",
    "\n",
    "# Calculate the weekly earning\n",
    "weekly_earning = hours_worked * rate_per_hour\n",
    "\n",
    "# Display the result\n",
    "print(f\"Your weekly earning is {weekly_earning}\")\n"
   ]
  },
  {
   "cell_type": "code",
   "execution_count": 25,
   "id": "704982f1",
   "metadata": {},
   "outputs": [
    {
     "name": "stdout",
     "output_type": "stream",
     "text": [
      "Enter number of years you have lived: 100\n",
      "You have lived for 3153600000 seconds.\n"
     ]
    }
   ],
   "source": [
    "#22. Write a script that prompts the user to enter number of years. Calculate the number of seconds a person can live. Assume a person can live hundred years\n",
    "# Prompt the user to enter the number of years\n",
    "years_lived_str = input(\"Enter number of years you have lived: \")\n",
    "\n",
    "# Convert input to float\n",
    "years_lived = float(years_lived_str)\n",
    "\n",
    "# Assuming 1 year has 365 days\n",
    "# Calculate the number of seconds lived\n",
    "seconds_lived = years_lived * 365 * 24 * 60 * 60\n",
    "\n",
    "# Display the result\n",
    "print(f\"You have lived for {int(seconds_lived)} seconds.\")\n"
   ]
  },
  {
   "cell_type": "code",
   "execution_count": 26,
   "id": "08f201f4",
   "metadata": {},
   "outputs": [
    {
     "name": "stdout",
     "output_type": "stream",
     "text": [
      "1 1 1 1 1\n",
      "2 1 2 4 8\n",
      "3 1 3 9 27\n",
      "4 1 4 16 64\n",
      "5 1 5 25 125\n"
     ]
    }
   ],
   "source": [
    "#23. Write a Python script that displays the following table\n",
    "# Display the table\n",
    "print(\"1 1 1 1 1\")\n",
    "print(\"2 1 2 4 8\")\n",
    "print(\"3 1 3 9 27\")\n",
    "print(\"4 1 4 16 64\")\n",
    "print(\"5 1 5 25 125\")\n",
    "\n"
   ]
  },
  {
   "cell_type": "code",
   "execution_count": null,
   "id": "d691972b",
   "metadata": {},
   "outputs": [],
   "source": []
  }
 ],
 "metadata": {
  "kernelspec": {
   "display_name": "Python 3 (ipykernel)",
   "language": "python",
   "name": "python3"
  },
  "language_info": {
   "codemirror_mode": {
    "name": "ipython",
    "version": 3
   },
   "file_extension": ".py",
   "mimetype": "text/x-python",
   "name": "python",
   "nbconvert_exporter": "python",
   "pygments_lexer": "ipython3",
   "version": "3.11.5"
  }
 },
 "nbformat": 4,
 "nbformat_minor": 5
}
