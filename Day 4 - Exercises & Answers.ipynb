{
 "cells": [
  {
   "cell_type": "markdown",
   "id": "ba3170fc",
   "metadata": {},
   "source": [
    "# Exercises - Day 4"
   ]
  },
  {
   "cell_type": "code",
   "execution_count": 1,
   "id": "9ccdba54",
   "metadata": {},
   "outputs": [
    {
     "name": "stdout",
     "output_type": "stream",
     "text": [
      "Thirty Days Of Python\n"
     ]
    }
   ],
   "source": [
    "#1. Concatenate the string 'Thirty', 'Days', 'Of', 'Python' to a single string, 'Thirty Days Of Python'.\n",
    "# Given strings\n",
    "string1 = 'Thirty'\n",
    "string2 = 'Days'\n",
    "string3 = 'Of'\n",
    "string4 = 'Python'\n",
    "\n",
    "# Concatenate the strings\n",
    "result_string = string1 + ' ' + string2 + ' ' + string3 + ' ' + string4\n",
    "\n",
    "# Display the result\n",
    "print(result_string)\n"
   ]
  },
  {
   "cell_type": "code",
   "execution_count": 2,
   "id": "67b8d8a0",
   "metadata": {},
   "outputs": [
    {
     "name": "stdout",
     "output_type": "stream",
     "text": [
      "Coding For All\n"
     ]
    }
   ],
   "source": [
    "#2. Concatenate the string 'Coding', 'For' , 'All' to a single string, 'Coding For All'.\n",
    "# Given strings\n",
    "string1 = 'Coding'\n",
    "string2 = 'For'\n",
    "string3 = 'All'\n",
    "\n",
    "# Concatenate the strings\n",
    "result_string = string1 + ' ' + string2 + ' ' + string3\n",
    "\n",
    "# Display the result\n",
    "print(result_string)\n"
   ]
  },
  {
   "cell_type": "code",
   "execution_count": 3,
   "id": "a760e260",
   "metadata": {},
   "outputs": [
    {
     "name": "stdout",
     "output_type": "stream",
     "text": [
      "Coding For All\n"
     ]
    }
   ],
   "source": [
    "#3. Declare a variable named company and assign it to an initial value \"Coding For All\".\n",
    "# Declare a variable named company\n",
    "company = \"Coding For All\"\n",
    "\n",
    "# Display the value of the variable\n",
    "print(company)\n"
   ]
  },
  {
   "cell_type": "code",
   "execution_count": 4,
   "id": "5b3a3516",
   "metadata": {},
   "outputs": [
    {
     "name": "stdout",
     "output_type": "stream",
     "text": [
      "Coding For All\n"
     ]
    }
   ],
   "source": [
    "#4 .Print the variable company using print().\n",
    "# Declare a variable named company\n",
    "company = \"Coding For All\"\n",
    "\n",
    "# Print the variable using print()\n",
    "print(company)\n"
   ]
  },
  {
   "cell_type": "code",
   "execution_count": 5,
   "id": "08fd80e9",
   "metadata": {},
   "outputs": [
    {
     "name": "stdout",
     "output_type": "stream",
     "text": [
      "Length of the company string: 14\n"
     ]
    }
   ],
   "source": [
    "#5.Print the length of the company string using len() method and print().\n",
    "# Declare a variable named company\n",
    "company = \"Coding For All\"\n",
    "\n",
    "# Find the length of the string\n",
    "length_of_company = len(company)\n",
    "\n",
    "# Print the length using print()\n",
    "print(\"Length of the company string:\", length_of_company)\n"
   ]
  },
  {
   "cell_type": "code",
   "execution_count": 6,
   "id": "62092e98",
   "metadata": {},
   "outputs": [
    {
     "name": "stdout",
     "output_type": "stream",
     "text": [
      "Uppercase version of company: CODING FOR ALL\n"
     ]
    }
   ],
   "source": [
    "#6.Change all the characters to uppercase letters using upper() method.\n",
    "# Declare a variable named company\n",
    "company = \"Coding For All\"\n",
    "\n",
    "# Convert all characters to uppercase\n",
    "uppercase_company = company.upper()\n",
    "\n",
    "# Print the result\n",
    "print(\"Uppercase version of company:\", uppercase_company)\n"
   ]
  },
  {
   "cell_type": "code",
   "execution_count": 7,
   "id": "37cd493f",
   "metadata": {},
   "outputs": [
    {
     "name": "stdout",
     "output_type": "stream",
     "text": [
      "Lowercase version of company: coding for all\n"
     ]
    }
   ],
   "source": [
    "#7.Change all the characters to lowercase letters using lower() method.\n",
    "# Declare a variable named company\n",
    "company = \"Coding For All\"\n",
    "\n",
    "# Convert all characters to lowercase\n",
    "lowercase_company = company.lower()\n",
    "\n",
    "# Print the result\n",
    "print(\"Lowercase version of company:\", lowercase_company)\n"
   ]
  },
  {
   "cell_type": "code",
   "execution_count": 8,
   "id": "391d9640",
   "metadata": {},
   "outputs": [
    {
     "name": "stdout",
     "output_type": "stream",
     "text": [
      "Capitalized version: Coding for all\n",
      "Title case version: Coding For All\n",
      "Swapped case version: cODING fOR aLL\n"
     ]
    }
   ],
   "source": [
    "#8.Use capitalize(), title(), swapcase() methods to format the value of the string Coding For All.\n",
    "# Declare a variable named company\n",
    "company = \"Coding For All\"\n",
    "\n",
    "# Apply different formatting methods\n",
    "capitalized_company = company.capitalize()\n",
    "title_case_company = company.title()\n",
    "swapped_case_company = company.swapcase()\n",
    "\n",
    "# Print the results\n",
    "print(\"Capitalized version:\", capitalized_company)\n",
    "print(\"Title case version:\", title_case_company)\n",
    "print(\"Swapped case version:\", swapped_case_company)\n"
   ]
  },
  {
   "cell_type": "code",
   "execution_count": 9,
   "id": "f7c0e441",
   "metadata": {},
   "outputs": [
    {
     "name": "stdout",
     "output_type": "stream",
     "text": [
      "First word: Coding\n"
     ]
    }
   ],
   "source": [
    "#9.Cut(slice) out the first word of Coding For All string.\n",
    "# Declare a variable named company\n",
    "company = \"Coding For All\"\n",
    "\n",
    "# Slice out the first word\n",
    "first_word = company.split()[0]\n",
    "\n",
    "# Print the result\n",
    "print(\"First word:\", first_word)\n"
   ]
  },
  {
   "cell_type": "code",
   "execution_count": 10,
   "id": "0073faed",
   "metadata": {},
   "outputs": [
    {
     "name": "stdout",
     "output_type": "stream",
     "text": [
      "The word 'Coding' is present at index: 0\n"
     ]
    }
   ],
   "source": [
    "#10. Check if Coding For All string contains a word Coding using the method index, find or other methods.\n",
    "# Declare a variable named company\n",
    "company = \"Coding For All\"\n",
    "\n",
    "# Check if the word \"Coding\" is present using find()\n",
    "index_of_coding = company.find(\"Coding\")\n",
    "if index_of_coding != -1:\n",
    "    print(\"The word 'Coding' is present at index:\", index_of_coding)\n",
    "else:\n",
    "    print(\"The word 'Coding' is not present.\")\n"
   ]
  },
  {
   "cell_type": "code",
   "execution_count": 11,
   "id": "20200813",
   "metadata": {},
   "outputs": [
    {
     "name": "stdout",
     "output_type": "stream",
     "text": [
      "Original string: Coding For All\n",
      "String after replacement: Python For All\n"
     ]
    }
   ],
   "source": [
    "#11.Replace the word coding in the string 'Coding For All' to Python.\n",
    "# Declare a variable named company\n",
    "company = \"Coding For All\"\n",
    "\n",
    "# Replace the word \"Coding\" with \"Python\"\n",
    "new_company = company.replace(\"Coding\", \"Python\")\n",
    "\n",
    "# Print the result\n",
    "print(\"Original string:\", company)\n",
    "print(\"String after replacement:\", new_company)\n"
   ]
  },
  {
   "cell_type": "code",
   "execution_count": 12,
   "id": "ece6c646",
   "metadata": {},
   "outputs": [
    {
     "name": "stdout",
     "output_type": "stream",
     "text": [
      "Original sentence: Python for Everyone\n",
      "Sentence after replacement: Python for All\n"
     ]
    }
   ],
   "source": [
    "#12.Change Python for Everyone to Python for All using the replace method or other methods.\n",
    "# Declare a variable named sentence\n",
    "sentence = \"Python for Everyone\"\n",
    "\n",
    "# Replace \"Everyone\" with \"All\"\n",
    "new_sentence = sentence.replace(\"Everyone\", \"All\")\n",
    "\n",
    "# Print the result\n",
    "print(\"Original sentence:\", sentence)\n",
    "print(\"Sentence after replacement:\", new_sentence)\n"
   ]
  },
  {
   "cell_type": "code",
   "execution_count": 13,
   "id": "0323a7ed",
   "metadata": {},
   "outputs": [
    {
     "name": "stdout",
     "output_type": "stream",
     "text": [
      "Original string: Coding For All\n",
      "Split result: ['Coding', 'For', 'All']\n"
     ]
    }
   ],
   "source": [
    "#13.Split the string 'Coding For All' using space as the separator (split()) .\n",
    "# Declare a variable named company\n",
    "company = \"Coding For All\"\n",
    "\n",
    "# Split the string using space as the separator\n",
    "split_result = company.split()\n",
    "\n",
    "# Print the result\n",
    "print(\"Original string:\", company)\n",
    "print(\"Split result:\", split_result)\n"
   ]
  },
  {
   "cell_type": "code",
   "execution_count": 15,
   "id": "db72dbad",
   "metadata": {},
   "outputs": [
    {
     "name": "stdout",
     "output_type": "stream",
     "text": [
      "Original string: Facebook, Google, Microsoft, Apple, IBM, Oracle, Amazon\n",
      "Split result: ['Facebook', 'Google', 'Microsoft', 'Apple', 'IBM', 'Oracle', 'Amazon']\n"
     ]
    }
   ],
   "source": [
    "#14.\"Facebook, Google, Microsoft, Apple, IBM, Oracle, Amazon\" split the string at the comma.\n",
    "# Declare a variable named tech_companies\n",
    "tech_companies = \"Facebook, Google, Microsoft, Apple, IBM, Oracle, Amazon\"\n",
    "\n",
    "# Split the string at the comma\n",
    "split_result = tech_companies.split(\", \")\n",
    "\n",
    "# Print the result\n",
    "print(\"Original string:\", tech_companies)\n",
    "print(\"Split result:\", split_result)\n"
   ]
  },
  {
   "cell_type": "code",
   "execution_count": 16,
   "id": "30498379",
   "metadata": {},
   "outputs": [
    {
     "name": "stdout",
     "output_type": "stream",
     "text": [
      "Character at index 0: C\n"
     ]
    }
   ],
   "source": [
    "#15.What is the character at index 0 in the string Coding For All.\n",
    "# Declare a variable named company\n",
    "company = \"Coding For All\"\n",
    "\n",
    "# Get the character at index 0\n",
    "character_at_index_0 = company[0]\n",
    "\n",
    "# Print the result\n",
    "print(\"Character at index 0:\", character_at_index_0)\n"
   ]
  },
  {
   "cell_type": "code",
   "execution_count": 17,
   "id": "2730cc9f",
   "metadata": {},
   "outputs": [
    {
     "name": "stdout",
     "output_type": "stream",
     "text": [
      "Last index: 13\n"
     ]
    }
   ],
   "source": [
    "#16.What is the last index of the string Coding For All.\n",
    "# Declare a variable named company\n",
    "company = \"Coding For All\"\n",
    "\n",
    "# Get the last index\n",
    "last_index = len(company) - 1\n",
    "\n",
    "# Print the result\n",
    "print(\"Last index:\", last_index)\n"
   ]
  },
  {
   "cell_type": "code",
   "execution_count": 18,
   "id": "793d41db",
   "metadata": {},
   "outputs": [
    {
     "name": "stdout",
     "output_type": "stream",
     "text": [
      "Character at index 10:  \n"
     ]
    }
   ],
   "source": [
    "#17.What character is at index 10 in \"Coding For All\" string.\n",
    "# Declare a variable named company\n",
    "company = \"Coding For All\"\n",
    "\n",
    "# Get the character at index 10\n",
    "character_at_index_10 = company[10]\n",
    "\n",
    "# Print the result\n",
    "print(\"Character at index 10:\", character_at_index_10)\n"
   ]
  },
  {
   "cell_type": "code",
   "execution_count": 19,
   "id": "f3c48472",
   "metadata": {},
   "outputs": [
    {
     "data": {
      "text/plain": [
       "'PFE'"
      ]
     },
     "execution_count": 19,
     "metadata": {},
     "output_type": "execute_result"
    }
   ],
   "source": [
    "#18.Create an acronym or an abbreviation for the name 'Python For Everyone'.\n",
    "Python_For_Everyone = 'PFE'\n",
    "Python_For_Everyone"
   ]
  },
  {
   "cell_type": "code",
   "execution_count": 20,
   "id": "d9d4c229",
   "metadata": {},
   "outputs": [
    {
     "data": {
      "text/plain": [
       "'CFA'"
      ]
     },
     "execution_count": 20,
     "metadata": {},
     "output_type": "execute_result"
    }
   ],
   "source": [
    "#19.Create an acronym or an abbreviation for the name 'Coding For All'.\n",
    "Coding_For_All  = 'CFA' \n",
    "Coding_For_All"
   ]
  },
  {
   "cell_type": "code",
   "execution_count": 21,
   "id": "8b1bbce6",
   "metadata": {},
   "outputs": [
    {
     "name": "stdout",
     "output_type": "stream",
     "text": [
      "Position of the first occurrence of 'C': 0\n"
     ]
    }
   ],
   "source": [
    "#20.Use index to determine the position of the first occurrence of C in Coding For All.\n",
    "# Declare a variable named phrase\n",
    "phrase = \"Coding For All\"\n",
    "\n",
    "# Find the position of the first occurrence of 'C'\n",
    "position_of_C = phrase.index('C')\n",
    "\n",
    "# Print the result\n",
    "print(\"Position of the first occurrence of 'C':\", position_of_C)\n"
   ]
  },
  {
   "cell_type": "code",
   "execution_count": 22,
   "id": "8bfc0b1d",
   "metadata": {},
   "outputs": [
    {
     "name": "stdout",
     "output_type": "stream",
     "text": [
      "Position of the first occurrence of 'F': 7\n"
     ]
    }
   ],
   "source": [
    "#21.Use index to determine the position of the first occurrence of F in Coding For All.\n",
    "# Declare a variable named phrase\n",
    "phrase = \"Coding For All\"\n",
    "\n",
    "# Find the position of the first occurrence of 'F'\n",
    "position_of_F = phrase.index('F')\n",
    "\n",
    "# Print the result\n",
    "print(\"Position of the first occurrence of 'F':\", position_of_F)\n"
   ]
  },
  {
   "cell_type": "code",
   "execution_count": 23,
   "id": "bfffdebb",
   "metadata": {},
   "outputs": [
    {
     "name": "stdout",
     "output_type": "stream",
     "text": [
      "Position of the last occurrence of 'l': 19\n"
     ]
    }
   ],
   "source": [
    "#22.Use rfind to determine the position of the last occurrence of l in Coding For All People.\n",
    "# Declare a variable named phrase\n",
    "phrase = \"Coding For All People\"\n",
    "\n",
    "# Find the position of the last occurrence of 'l'\n",
    "position_of_last_l = phrase.rfind('l')\n",
    "\n",
    "# Print the result\n",
    "print(\"Position of the last occurrence of 'l':\", position_of_last_l)\n"
   ]
  },
  {
   "cell_type": "code",
   "execution_count": 24,
   "id": "036d5a9f",
   "metadata": {},
   "outputs": [
    {
     "name": "stdout",
     "output_type": "stream",
     "text": [
      "Position of the first occurrence of 'because': 31\n"
     ]
    }
   ],
   "source": [
    "#23.Use index or find to find the position of the first occurrence of the word 'because' in the following sentence: 'You cannot end a sentence with because because because is a conjunction'\n",
    "# Declare a variable named sentence\n",
    "sentence = 'You cannot end a sentence with because because because is a conjunction'\n",
    "\n",
    "# Find the position of the first occurrence of 'because'\n",
    "position_of_because = sentence.index('because')\n",
    "\n",
    "# Print the result\n",
    "print(\"Position of the first occurrence of 'because':\", position_of_because)\n"
   ]
  },
  {
   "cell_type": "code",
   "execution_count": 25,
   "id": "3f43a5ff",
   "metadata": {},
   "outputs": [
    {
     "name": "stdout",
     "output_type": "stream",
     "text": [
      "Position of the last occurrence of 'because': 47\n"
     ]
    }
   ],
   "source": [
    "#24.Use rindex to find the position of the last occurrence of the word because in the following sentence: 'You cannot end a sentence with because because because is a conjunction'\n",
    "# Declare a variable named sentence\n",
    "sentence = 'You cannot end a sentence with because because because is a conjunction'\n",
    "\n",
    "# Find the position of the last occurrence of 'because'\n",
    "position_of_last_because = sentence.rindex('because')\n",
    "\n",
    "# Print the result\n",
    "print(\"Position of the last occurrence of 'because':\", position_of_last_because)\n"
   ]
  },
  {
   "cell_type": "code",
   "execution_count": 26,
   "id": "8edf0f23",
   "metadata": {},
   "outputs": [
    {
     "name": "stdout",
     "output_type": "stream",
     "text": [
      "Extracted phrase: because because because\n"
     ]
    }
   ],
   "source": [
    "#25.Slice out the phrase 'because because because' in the following sentence: 'You cannot end a sentence with because because because is a conjunction'\n",
    "# Declare a variable named sentence\n",
    "sentence = 'You cannot end a sentence with because because because is a conjunction'\n",
    "\n",
    "# Find the start and end indices of the phrase\n",
    "start_index = sentence.find('because')\n",
    "end_index = sentence.rfind('because') + len('because')\n",
    "\n",
    "# Slice out the phrase\n",
    "phrase = sentence[start_index:end_index]\n",
    "\n",
    "# Print the result\n",
    "print(\"Extracted phrase:\", phrase)\n"
   ]
  },
  {
   "cell_type": "code",
   "execution_count": 27,
   "id": "4c036d78",
   "metadata": {},
   "outputs": [
    {
     "name": "stdout",
     "output_type": "stream",
     "text": [
      "Position of the first occurrence of 'because': 31\n"
     ]
    }
   ],
   "source": [
    "#26.Find the position of the first occurrence of the word 'because' in the following sentence: 'You cannot end a sentence with because because because is a conjunction'\n",
    "# Declare a variable named sentence\n",
    "sentence = 'You cannot end a sentence with because because because is a conjunction'\n",
    "\n",
    "# Find the position of the first occurrence of 'because'\n",
    "position_of_because = sentence.find('because')\n",
    "\n",
    "# Print the result\n",
    "print(\"Position of the first occurrence of 'because':\", position_of_because)\n"
   ]
  },
  {
   "cell_type": "code",
   "execution_count": 28,
   "id": "e732a3d5",
   "metadata": {},
   "outputs": [
    {
     "name": "stdout",
     "output_type": "stream",
     "text": [
      "Extracted phrase: because because\n"
     ]
    }
   ],
   "source": [
    "#27.Slice out the phrase 'because because because' in the following sentence: 'You cannot end a sentence with because because because is a conjunction'\n",
    "# Declare a variable named sentence\n",
    "sentence = 'You cannot end a sentence with because because because is a conjunction'\n",
    "\n",
    "# Find the start and end indices of the phrase\n",
    "start_index = sentence.find('because')\n",
    "end_index = sentence.find('because', start_index + 1) + len('because')\n",
    "\n",
    "# Slice out the phrase\n",
    "phrase = sentence[start_index:end_index]\n",
    "\n",
    "# Print the result\n",
    "print(\"Extracted phrase:\", phrase)\n"
   ]
  },
  {
   "cell_type": "code",
   "execution_count": 29,
   "id": "ba485f0b",
   "metadata": {},
   "outputs": [
    {
     "name": "stdout",
     "output_type": "stream",
     "text": [
      "Does 'Coding For All' start with 'Coding'? True\n"
     ]
    }
   ],
   "source": [
    "#28.Does ''Coding For All' start with a substring Coding?\n",
    "# Declare a variable named phrase\n",
    "phrase = 'Coding For All'\n",
    "\n",
    "# Check if the string starts with 'Coding'\n",
    "starts_with_coding = phrase.startswith('Coding')\n",
    "\n",
    "# Print the result\n",
    "print(\"Does 'Coding For All' start with 'Coding'?\", starts_with_coding)\n"
   ]
  },
  {
   "cell_type": "code",
   "execution_count": 30,
   "id": "88dbafd1",
   "metadata": {},
   "outputs": [
    {
     "name": "stdout",
     "output_type": "stream",
     "text": [
      "Does 'Coding For All' end with 'coding'? False\n"
     ]
    }
   ],
   "source": [
    "#29.Does 'Coding For All' end with a substring coding?\n",
    "# Declare a variable named phrase\n",
    "phrase = 'Coding For All'\n",
    "\n",
    "# Check if the string ends with 'coding'\n",
    "ends_with_coding = phrase.endswith('coding')\n",
    "\n",
    "# Print the result\n",
    "print(\"Does 'Coding For All' end with 'coding'?\", ends_with_coding)\n"
   ]
  },
  {
   "cell_type": "code",
   "execution_count": 31,
   "id": "7a1e9967",
   "metadata": {},
   "outputs": [
    {
     "name": "stdout",
     "output_type": "stream",
     "text": [
      "Original string:    Coding For All      \n",
      "String after trimming: Coding For All\n"
     ]
    }
   ],
   "source": [
    "#30.'   Coding For All      '  , remove the left and right trailing spaces in the given string.\n",
    "# Declare a variable named phrase\n",
    "phrase = '   Coding For All      '\n",
    "\n",
    "# Remove leading and trailing spaces\n",
    "trimmed_phrase = phrase.strip()\n",
    "\n",
    "# Print the result\n",
    "print(\"Original string:\", phrase)\n",
    "print(\"String after trimming:\", trimmed_phrase)\n"
   ]
  },
  {
   "cell_type": "code",
   "execution_count": 32,
   "id": "0b7215eb",
   "metadata": {},
   "outputs": [
    {
     "name": "stdout",
     "output_type": "stream",
     "text": [
      "30DaysOfPython: False\n",
      "thirty_days_of_python: True\n"
     ]
    }
   ],
   "source": [
    "#31.Which one of the following variables return True when we use the method isidentifier():\n",
    "\n",
    "   # 30DaysOfPython\n",
    "    #thirty_days_of_python\n",
    "# Variables\n",
    "variable1 = '30DaysOfPython'\n",
    "variable2 = 'thirty_days_of_python'\n",
    "\n",
    "# Check with isidentifier()\n",
    "result1 = variable1.isidentifier()\n",
    "result2 = variable2.isidentifier()\n",
    "\n",
    "# Print the results\n",
    "print(f\"{variable1}: {result1}\")\n",
    "print(f\"{variable2}: {result2}\")\n"
   ]
  },
  {
   "cell_type": "code",
   "execution_count": 33,
   "id": "d73f0a7c",
   "metadata": {},
   "outputs": [
    {
     "name": "stdout",
     "output_type": "stream",
     "text": [
      "Django # Flask # Bottle # Pyramid # Falcon\n"
     ]
    }
   ],
   "source": [
    "#32.The following list contains the names of some of python libraries: ['Django', 'Flask', 'Bottle', 'Pyramid', 'Falcon']. Join the list with a hash with space string.\n",
    "# List of Python libraries\n",
    "libraries = ['Django', 'Flask', 'Bottle', 'Pyramid', 'Falcon']\n",
    "\n",
    "# Join the list with a hash with space string\n",
    "joined_libraries = ' # '.join(libraries)\n",
    "\n",
    "# Print the result\n",
    "print(joined_libraries)\n"
   ]
  },
  {
   "cell_type": "code",
   "execution_count": 34,
   "id": "c8cc455c",
   "metadata": {},
   "outputs": [
    {
     "name": "stdout",
     "output_type": "stream",
     "text": [
      "I am enjoying this challenge.\n",
      "I just wonder what is next.\n"
     ]
    }
   ],
   "source": [
    "#33.Use the new line escape sequence to separate the following sentences. \n",
    "# Sentences\n",
    "sentence1 = \"I am enjoying this challenge.\"\n",
    "sentence2 = \"I just wonder what is next.\"\n",
    "\n",
    "# Combine sentences with newline\n",
    "combined_sentences = sentence1 + '\\n' + sentence2\n",
    "\n",
    "# Print the result\n",
    "print(combined_sentences)\n"
   ]
  },
  {
   "cell_type": "code",
   "execution_count": 35,
   "id": "d3345342",
   "metadata": {},
   "outputs": [
    {
     "name": "stdout",
     "output_type": "stream",
     "text": [
      "Name\tAge\tCountry\tCity\n",
      "Asabeneh\t250\tFinland\tHelsinki\n"
     ]
    }
   ],
   "source": [
    "#34.Use a tab escape sequence to write the following lines. \n",
    "# Lines\n",
    "header = \"Name\\tAge\\tCountry\\tCity\"\n",
    "data = \"Asabeneh\\t250\\tFinland\\tHelsinki\"\n",
    "\n",
    "# Combine lines with tabs\n",
    "combined_lines = header + '\\n' + data\n",
    "\n",
    "# Print the result\n",
    "print(combined_lines)\n"
   ]
  },
  {
   "cell_type": "code",
   "execution_count": 36,
   "id": "06153808",
   "metadata": {},
   "outputs": [
    {
     "name": "stdout",
     "output_type": "stream",
     "text": [
      "The area of a circle with radius 10 is 314.0 square meters.\n"
     ]
    }
   ],
   "source": [
    "#35.Use the string formatting method to display the following:\n",
    "# Given values\n",
    "radius = 10\n",
    "area = 3.14 * radius ** 2\n",
    "\n",
    "# String formatting\n",
    "result_string = \"The area of a circle with radius {} is {} square meters.\".format(radius, area)\n",
    "\n",
    "# Print the result\n",
    "print(result_string)\n"
   ]
  },
  {
   "cell_type": "code",
   "execution_count": 37,
   "id": "2d6e8e50",
   "metadata": {},
   "outputs": [
    {
     "name": "stdout",
     "output_type": "stream",
     "text": [
      "8 + 6 = 14\n",
      "8 - 6 = 2\n",
      "8 * 6 = 48\n",
      "8 / 6 = 1.33\n",
      "8 % 6 = 2\n",
      "8 // 6 = 1\n",
      "8 ** 6 = 262144\n"
     ]
    }
   ],
   "source": [
    "#36.Make the following using string formatting methods:\n",
    "# Given values\n",
    "a, b = 8, 6\n",
    "\n",
    "# String formatting for each operation\n",
    "addition = \"{} + {} = {}\".format(a, b, a + b)\n",
    "subtraction = \"{} - {} = {}\".format(a, b, a - b)\n",
    "multiplication = \"{} * {} = {}\".format(a, b, a * b)\n",
    "division = \"{} / {} = {:.2f}\".format(a, b, a / b)\n",
    "modulo = \"{} % {} = {}\".format(a, b, a % b)\n",
    "floor_division = \"{} // {} = {}\".format(a, b, a // b)\n",
    "exponentiation = \"{} ** {} = {}\".format(a, b, a ** b)\n",
    "\n",
    "# Print the results\n",
    "print(addition)\n",
    "print(subtraction)\n",
    "print(multiplication)\n",
    "print(division)\n",
    "print(modulo)\n",
    "print(floor_division)\n",
    "print(exponentiation)\n"
   ]
  },
  {
   "cell_type": "code",
   "execution_count": null,
   "id": "a60360f6",
   "metadata": {},
   "outputs": [],
   "source": []
  }
 ],
 "metadata": {
  "kernelspec": {
   "display_name": "Python 3 (ipykernel)",
   "language": "python",
   "name": "python3"
  },
  "language_info": {
   "codemirror_mode": {
    "name": "ipython",
    "version": 3
   },
   "file_extension": ".py",
   "mimetype": "text/x-python",
   "name": "python",
   "nbconvert_exporter": "python",
   "pygments_lexer": "ipython3",
   "version": "3.11.5"
  }
 },
 "nbformat": 4,
 "nbformat_minor": 5
}
