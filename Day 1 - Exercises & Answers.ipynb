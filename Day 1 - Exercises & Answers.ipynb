{
 "cells": [
  {
   "cell_type": "markdown",
   "id": "9a887add",
   "metadata": {},
   "source": [
    "# Exercise: Level 1"
   ]
  },
  {
   "cell_type": "markdown",
   "id": "14b2b434",
   "metadata": {},
   "source": [
    "### 1 Check the python version you are using"
   ]
  },
  {
   "cell_type": "code",
   "execution_count": null,
   "id": "c428f382",
   "metadata": {},
   "outputs": [],
   "source": [
    "#1. Check the python version you are using"
   ]
  },
  {
   "cell_type": "code",
   "execution_count": null,
   "id": "50f26de5",
   "metadata": {},
   "outputs": [],
   "source": [
    "#How to Check the python version you are using"
   ]
  },
  {
   "cell_type": "code",
   "execution_count": 1,
   "id": "d088cde9",
   "metadata": {},
   "outputs": [
    {
     "name": "stdout",
     "output_type": "stream",
     "text": [
      "Python 3.11.5\n"
     ]
    }
   ],
   "source": [
    "!python --version"
   ]
  },
  {
   "cell_type": "code",
   "execution_count": null,
   "id": "fb48bd48",
   "metadata": {},
   "outputs": [],
   "source": [
    "#2. operations in the Python interactive shell:The operands are 3 and 4"
   ]
  },
  {
   "cell_type": "code",
   "execution_count": 3,
   "id": "c88acc10",
   "metadata": {},
   "outputs": [
    {
     "name": "stdout",
     "output_type": "stream",
     "text": [
      "Addition: 7\n"
     ]
    }
   ],
   "source": [
    "# Addition\n",
    "result_addition = 3 + 4\n",
    "print(\"Addition:\", result_addition)"
   ]
  },
  {
   "cell_type": "code",
   "execution_count": 4,
   "id": "70b2dd05",
   "metadata": {},
   "outputs": [
    {
     "name": "stdout",
     "output_type": "stream",
     "text": [
      "Subtraction: -1\n"
     ]
    }
   ],
   "source": [
    "# Subtraction\n",
    "result_subtraction = 3 - 4\n",
    "print(\"Subtraction:\", result_subtraction)"
   ]
  },
  {
   "cell_type": "code",
   "execution_count": 5,
   "id": "2756718e",
   "metadata": {},
   "outputs": [
    {
     "name": "stdout",
     "output_type": "stream",
     "text": [
      "Multiplication: 12\n"
     ]
    }
   ],
   "source": [
    "# Multiplication\n",
    "result_multiplication = 3 * 4\n",
    "print(\"Multiplication:\", result_multiplication)"
   ]
  },
  {
   "cell_type": "code",
   "execution_count": 6,
   "id": "3957eb33",
   "metadata": {},
   "outputs": [
    {
     "name": "stdout",
     "output_type": "stream",
     "text": [
      "Modulus: 3\n"
     ]
    }
   ],
   "source": [
    "# Modulus\n",
    "result_modulus = 3 % 4\n",
    "print(\"Modulus:\", result_modulus)"
   ]
  },
  {
   "cell_type": "code",
   "execution_count": 7,
   "id": "cc1da5da",
   "metadata": {},
   "outputs": [
    {
     "name": "stdout",
     "output_type": "stream",
     "text": [
      "Division: 0.75\n"
     ]
    }
   ],
   "source": [
    "# Division\n",
    "result_division = 3 / 4\n",
    "print(\"Division:\", result_division)"
   ]
  },
  {
   "cell_type": "code",
   "execution_count": 8,
   "id": "dee19e4c",
   "metadata": {},
   "outputs": [
    {
     "name": "stdout",
     "output_type": "stream",
     "text": [
      "Exponential: 81\n"
     ]
    }
   ],
   "source": [
    "# Exponential\n",
    "result_exponential = 3 ** 4\n",
    "print(\"Exponential:\", result_exponential)"
   ]
  },
  {
   "cell_type": "code",
   "execution_count": 9,
   "id": "7ea6fb40",
   "metadata": {},
   "outputs": [
    {
     "name": "stdout",
     "output_type": "stream",
     "text": [
      "Floor Division: 0\n"
     ]
    }
   ],
   "source": [
    "# Floor Division\n",
    "result_floor_division = 3 // 4\n",
    "print(\"Floor Division:\", result_floor_division)"
   ]
  },
  {
   "cell_type": "code",
   "execution_count": null,
   "id": "13fbff8e",
   "metadata": {},
   "outputs": [],
   "source": [
    "#3. Write strings on the python interactive shell. The strings are the following:\n",
    "#Your name\n",
    "#Your family name\n",
    "#Your country\n",
    "#I am enjoying 30 days of python"
   ]
  },
  {
   "cell_type": "code",
   "execution_count": 11,
   "id": "c512a772",
   "metadata": {},
   "outputs": [
    {
     "name": "stdout",
     "output_type": "stream",
     "text": [
      "My name: Muazu\n"
     ]
    }
   ],
   "source": [
    "# MY name\n",
    "My_name = \"Muazu\"\n",
    "print(\"My name:\", My_name)"
   ]
  },
  {
   "cell_type": "code",
   "execution_count": 12,
   "id": "7738edad",
   "metadata": {},
   "outputs": [
    {
     "name": "stdout",
     "output_type": "stream",
     "text": [
      "My family name: Ali Lawal\n"
     ]
    }
   ],
   "source": [
    "# My family name\n",
    "My_family_name = \"Ali Lawal\"\n",
    "print(\"My family name:\", My_family_name)"
   ]
  },
  {
   "cell_type": "code",
   "execution_count": 13,
   "id": "11ae363f",
   "metadata": {},
   "outputs": [
    {
     "name": "stdout",
     "output_type": "stream",
     "text": [
      "My country is : Nigeria\n"
     ]
    }
   ],
   "source": [
    "# My country\n",
    "My_country = \"Nigeria\"\n",
    "print(\"My country is :\", My_country)"
   ]
  },
  {
   "cell_type": "code",
   "execution_count": 14,
   "id": "0c9930a0",
   "metadata": {},
   "outputs": [
    {
     "name": "stdout",
     "output_type": "stream",
     "text": [
      "I am enjoying 30 days of python\n"
     ]
    }
   ],
   "source": [
    "# \"I am enjoying 30 days of python\"\n",
    "enjoying_python = \"I am enjoying 30 days of python\"\n",
    "print(enjoying_python)"
   ]
  },
  {
   "cell_type": "code",
   "execution_count": null,
   "id": "8c751002",
   "metadata": {},
   "outputs": [],
   "source": [
    "# 4. Check the data types of the following data:"
   ]
  },
  {
   "cell_type": "code",
   "execution_count": null,
   "id": "3ca3e131",
   "metadata": {},
   "outputs": [],
   "source": [
    "# Data types"
   ]
  },
  {
   "cell_type": "code",
   "execution_count": 15,
   "id": "ae447f75",
   "metadata": {},
   "outputs": [
    {
     "data": {
      "text/plain": [
       "int"
      ]
     },
     "execution_count": 15,
     "metadata": {},
     "output_type": "execute_result"
    }
   ],
   "source": [
    "type(10)"
   ]
  },
  {
   "cell_type": "code",
   "execution_count": 16,
   "id": "08a168c5",
   "metadata": {},
   "outputs": [
    {
     "data": {
      "text/plain": [
       "float"
      ]
     },
     "execution_count": 16,
     "metadata": {},
     "output_type": "execute_result"
    }
   ],
   "source": [
    "type(9.8)"
   ]
  },
  {
   "cell_type": "code",
   "execution_count": 17,
   "id": "d8cf2417",
   "metadata": {},
   "outputs": [
    {
     "data": {
      "text/plain": [
       "float"
      ]
     },
     "execution_count": 17,
     "metadata": {},
     "output_type": "execute_result"
    }
   ],
   "source": [
    "type(3.14)"
   ]
  },
  {
   "cell_type": "code",
   "execution_count": 18,
   "id": "670851a9",
   "metadata": {},
   "outputs": [
    {
     "data": {
      "text/plain": [
       "complex"
      ]
     },
     "execution_count": 18,
     "metadata": {},
     "output_type": "execute_result"
    }
   ],
   "source": [
    "type(4 - 4j)"
   ]
  },
  {
   "cell_type": "code",
   "execution_count": 19,
   "id": "f81b451e",
   "metadata": {},
   "outputs": [
    {
     "data": {
      "text/plain": [
       "list"
      ]
     },
     "execution_count": 19,
     "metadata": {},
     "output_type": "execute_result"
    }
   ],
   "source": [
    "type(['Asabeneh', 'Python', 'Finland'])"
   ]
  },
  {
   "cell_type": "code",
   "execution_count": 20,
   "id": "b9815fe5",
   "metadata": {},
   "outputs": [
    {
     "data": {
      "text/plain": [
       "str"
      ]
     },
     "execution_count": 20,
     "metadata": {},
     "output_type": "execute_result"
    }
   ],
   "source": [
    "type('Your name')"
   ]
  },
  {
   "cell_type": "code",
   "execution_count": 21,
   "id": "dd0506e2",
   "metadata": {},
   "outputs": [
    {
     "data": {
      "text/plain": [
       "str"
      ]
     },
     "execution_count": 21,
     "metadata": {},
     "output_type": "execute_result"
    }
   ],
   "source": [
    "type('Your family name')"
   ]
  },
  {
   "cell_type": "code",
   "execution_count": 22,
   "id": "a1027c57",
   "metadata": {},
   "outputs": [
    {
     "data": {
      "text/plain": [
       "str"
      ]
     },
     "execution_count": 22,
     "metadata": {},
     "output_type": "execute_result"
    }
   ],
   "source": [
    "type('Your country')"
   ]
  },
  {
   "cell_type": "markdown",
   "id": "755bec85",
   "metadata": {},
   "source": [
    "# Exercise: Level 2"
   ]
  },
  {
   "cell_type": "code",
   "execution_count": null,
   "id": "913a70c5",
   "metadata": {},
   "outputs": [],
   "source": [
    "#check the solution above as Question 1"
   ]
  },
  {
   "cell_type": "markdown",
   "id": "b8f84293",
   "metadata": {},
   "source": [
    "# Exercise: Level 3"
   ]
  },
  {
   "cell_type": "code",
   "execution_count": null,
   "id": "60e733a0",
   "metadata": {},
   "outputs": [],
   "source": [
    "#1. Write an example for different Python data types such as Number(Integer, Float, Complex), String, Boolean, List, Tuple, Set and Dictionary."
   ]
  },
  {
   "cell_type": "code",
   "execution_count": 23,
   "id": "85141127",
   "metadata": {},
   "outputs": [
    {
     "name": "stdout",
     "output_type": "stream",
     "text": [
      "Integer Number: 10, Type: <class 'int'>\n"
     ]
    }
   ],
   "source": [
    "# Number: Integer\n",
    "integer_number = 10\n",
    "print(f\"Integer Number: {integer_number}, Type: {type(integer_number)}\")\n"
   ]
  },
  {
   "cell_type": "code",
   "execution_count": 24,
   "id": "df429500",
   "metadata": {},
   "outputs": [
    {
     "name": "stdout",
     "output_type": "stream",
     "text": [
      "Float Number: 9.8, Type: <class 'float'>\n"
     ]
    }
   ],
   "source": [
    "# Number: Float\n",
    "float_number = 9.8\n",
    "print(f\"Float Number: {float_number}, Type: {type(float_number)}\")\n",
    "\n"
   ]
  },
  {
   "cell_type": "code",
   "execution_count": 25,
   "id": "78834b6b",
   "metadata": {},
   "outputs": [
    {
     "name": "stdout",
     "output_type": "stream",
     "text": [
      "Complex Number: (4-4j), Type: <class 'complex'>\n"
     ]
    }
   ],
   "source": [
    "# Number: Complex\n",
    "complex_number = 4 - 4j\n",
    "print(f\"Complex Number: {complex_number}, Type: {type(complex_number)}\")\n"
   ]
  },
  {
   "cell_type": "code",
   "execution_count": 26,
   "id": "7ee2db21",
   "metadata": {},
   "outputs": [
    {
     "name": "stdout",
     "output_type": "stream",
     "text": [
      "String: Hello, Python!, Type: <class 'str'>\n"
     ]
    }
   ],
   "source": [
    "# String\n",
    "text_string = \"Hello, Python!\"\n",
    "print(f\"String: {text_string}, Type: {type(text_string)}\")\n"
   ]
  },
  {
   "cell_type": "code",
   "execution_count": 27,
   "id": "b3e36ca5",
   "metadata": {},
   "outputs": [
    {
     "name": "stdout",
     "output_type": "stream",
     "text": [
      "List: ['Python', 'JavaScript', 'Java'], Type: <class 'list'>\n"
     ]
    }
   ],
   "source": [
    "# List\n",
    "programming_languages = ['Python', 'JavaScript', 'Java']\n",
    "print(f\"List: {programming_languages}, Type: {type(programming_languages)}\")\n"
   ]
  },
  {
   "cell_type": "code",
   "execution_count": 28,
   "id": "48e0f7d5",
   "metadata": {},
   "outputs": [
    {
     "name": "stdout",
     "output_type": "stream",
     "text": [
      "Tuple: ('Monday', 'Tuesday', 'Wednesday', 'Thursday', 'Friday', 'Saturday', 'Sunday'), Type: <class 'tuple'>\n"
     ]
    }
   ],
   "source": [
    "# Tuple\n",
    "days_of_week = ('Monday', 'Tuesday', 'Wednesday', 'Thursday', 'Friday', 'Saturday', 'Sunday')\n",
    "print(f\"Tuple: {days_of_week}, Type: {type(days_of_week)}\")\n"
   ]
  },
  {
   "cell_type": "code",
   "execution_count": 29,
   "id": "2537f84f",
   "metadata": {},
   "outputs": [
    {
     "name": "stdout",
     "output_type": "stream",
     "text": [
      "Set: {1, 2, 3, 4, 5}, Type: <class 'set'>\n"
     ]
    }
   ],
   "source": [
    "# Set\n",
    "unique_numbers = {1, 2, 3, 4, 5}\n",
    "print(f\"Set: {unique_numbers}, Type: {type(unique_numbers)}\")\n"
   ]
  },
  {
   "cell_type": "code",
   "execution_count": 30,
   "id": "d9b6d8e6",
   "metadata": {},
   "outputs": [
    {
     "name": "stdout",
     "output_type": "stream",
     "text": [
      "Dictionary: {'name': 'John', 'age': 30, 'city': 'New York'}, Type: <class 'dict'>\n"
     ]
    }
   ],
   "source": [
    "# Dictionary\n",
    "person_info = {'name': 'John', 'age': 30, 'city': 'New York'}\n",
    "print(f\"Dictionary: {person_info}, Type: {type(person_info)}\")"
   ]
  },
  {
   "cell_type": "code",
   "execution_count": null,
   "id": "ba5c9e10",
   "metadata": {},
   "outputs": [],
   "source": [
    "#2. Find an Euclidian distance between (2, 3) and (10, 8)"
   ]
  },
  {
   "cell_type": "code",
   "execution_count": 31,
   "id": "72fffdfb",
   "metadata": {},
   "outputs": [],
   "source": [
    "import math"
   ]
  },
  {
   "cell_type": "code",
   "execution_count": 32,
   "id": "8e55ef5b",
   "metadata": {},
   "outputs": [],
   "source": [
    "# Coordinates of the points\n",
    "point1 = (2, 3)\n",
    "point2 = (10, 8)"
   ]
  },
  {
   "cell_type": "code",
   "execution_count": 33,
   "id": "75c665d9",
   "metadata": {},
   "outputs": [],
   "source": [
    "# Euclidean distance calculation\n",
    "distance = math.sqrt((point2[0] - point1[0])**2 + (point2[1] - point1[1])**2)\n"
   ]
  },
  {
   "cell_type": "code",
   "execution_count": 34,
   "id": "9d564984",
   "metadata": {},
   "outputs": [
    {
     "name": "stdout",
     "output_type": "stream",
     "text": [
      "The Euclidean distance between (2, 3) and (10, 8) is 9.43\n"
     ]
    }
   ],
   "source": [
    "# Print the result\n",
    "print(f\"The Euclidean distance between {point1} and {point2} is {distance:.2f}\")"
   ]
  },
  {
   "cell_type": "code",
   "execution_count": null,
   "id": "d34f9bea",
   "metadata": {},
   "outputs": [],
   "source": []
  }
 ],
 "metadata": {
  "kernelspec": {
   "display_name": "Python 3 (ipykernel)",
   "language": "python",
   "name": "python3"
  },
  "language_info": {
   "codemirror_mode": {
    "name": "ipython",
    "version": 3
   },
   "file_extension": ".py",
   "mimetype": "text/x-python",
   "name": "python",
   "nbconvert_exporter": "python",
   "pygments_lexer": "ipython3",
   "version": "3.11.5"
  }
 },
 "nbformat": 4,
 "nbformat_minor": 5
}
