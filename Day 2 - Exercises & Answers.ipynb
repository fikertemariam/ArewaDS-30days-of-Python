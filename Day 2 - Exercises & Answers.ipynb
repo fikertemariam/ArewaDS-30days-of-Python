{
 "cells": [
  {
   "cell_type": "markdown",
   "id": "b351fe7a",
   "metadata": {},
   "source": [
    "# Exercise: Level 2"
   ]
  },
  {
   "cell_type": "markdown",
   "id": "7c5886ab",
   "metadata": {},
   "source": [
    "# Exercises: Level 1"
   ]
  },
  {
   "cell_type": "code",
   "execution_count": null,
   "id": "23b8079a",
   "metadata": {},
   "outputs": [],
   "source": [
    "# Day 2: 30 Days of Python Programming\n"
   ]
  },
  {
   "cell_type": "code",
   "execution_count": 1,
   "id": "fafda87e",
   "metadata": {},
   "outputs": [
    {
     "data": {
      "text/plain": [
       "'Ali Lawal Muazu'"
      ]
     },
     "execution_count": 1,
     "metadata": {},
     "output_type": "execute_result"
    }
   ],
   "source": [
    "#Declare a first name variable and assign a value to it\n",
    "first_name = \"Ali Lawal Muazu\"\n",
    "first_name"
   ]
  },
  {
   "cell_type": "code",
   "execution_count": 2,
   "id": "e4b56517",
   "metadata": {},
   "outputs": [
    {
     "data": {
      "text/plain": [
       "'Muazu'"
      ]
     },
     "execution_count": 2,
     "metadata": {},
     "output_type": "execute_result"
    }
   ],
   "source": [
    "#Declare a last name variable and assign a value to it\n",
    "last_name = \"Muazu\"\n",
    "last_name"
   ]
  },
  {
   "cell_type": "code",
   "execution_count": 3,
   "id": "46a19766",
   "metadata": {},
   "outputs": [
    {
     "data": {
      "text/plain": [
       "'Ali Lawal Muazu'"
      ]
     },
     "execution_count": 3,
     "metadata": {},
     "output_type": "execute_result"
    }
   ],
   "source": [
    "#Declare a full name variable and assign a value to i\n",
    "full_name = \"Ali Lawal Muazu\"\n",
    "full_name"
   ]
  },
  {
   "cell_type": "code",
   "execution_count": 4,
   "id": "657c9e88",
   "metadata": {},
   "outputs": [
    {
     "data": {
      "text/plain": [
       "'Nigeria'"
      ]
     },
     "execution_count": 4,
     "metadata": {},
     "output_type": "execute_result"
    }
   ],
   "source": [
    "#Declare a country variable and assign a value to it\n",
    "country = \"Nigeria\"\n",
    "country"
   ]
  },
  {
   "cell_type": "code",
   "execution_count": 5,
   "id": "0b98681a",
   "metadata": {},
   "outputs": [
    {
     "data": {
      "text/plain": [
       "'Kano'"
      ]
     },
     "execution_count": 5,
     "metadata": {},
     "output_type": "execute_result"
    }
   ],
   "source": [
    "#Declare a city variable and assign a value to it\n",
    "city = \"Kano\"\n",
    "city "
   ]
  },
  {
   "cell_type": "code",
   "execution_count": 6,
   "id": "151d17d7",
   "metadata": {},
   "outputs": [
    {
     "data": {
      "text/plain": [
       "37"
      ]
     },
     "execution_count": 6,
     "metadata": {},
     "output_type": "execute_result"
    }
   ],
   "source": [
    "#Declare an age variable and assign a value to it\n",
    "age = 37\n",
    "age"
   ]
  },
  {
   "cell_type": "code",
   "execution_count": 7,
   "id": "49656fcc",
   "metadata": {},
   "outputs": [
    {
     "data": {
      "text/plain": [
       "2023"
      ]
     },
     "execution_count": 7,
     "metadata": {},
     "output_type": "execute_result"
    }
   ],
   "source": [
    "#Declare a year variable and assign a value to it\n",
    "year = 2023\n",
    "year"
   ]
  },
  {
   "cell_type": "code",
   "execution_count": 8,
   "id": "80d8bd6a",
   "metadata": {},
   "outputs": [
    {
     "data": {
      "text/plain": [
       "True"
      ]
     },
     "execution_count": 8,
     "metadata": {},
     "output_type": "execute_result"
    }
   ],
   "source": [
    "#Declare a variable is_married and assign a value to it\n",
    "is_married = True\n",
    "is_married"
   ]
  },
  {
   "cell_type": "code",
   "execution_count": 9,
   "id": "da8979bb",
   "metadata": {},
   "outputs": [
    {
     "data": {
      "text/plain": [
       "True"
      ]
     },
     "execution_count": 9,
     "metadata": {},
     "output_type": "execute_result"
    }
   ],
   "source": [
    "#Declare a variable is_true and assign a value to it\n",
    "is_true = True\n",
    "is_true"
   ]
  },
  {
   "cell_type": "code",
   "execution_count": 10,
   "id": "819d1754",
   "metadata": {},
   "outputs": [
    {
     "data": {
      "text/plain": [
       "True"
      ]
     },
     "execution_count": 10,
     "metadata": {},
     "output_type": "execute_result"
    }
   ],
   "source": [
    "#Declare a variable is_light_on and assign a value to it\n",
    "is_light_on = True\n",
    "is_light_on"
   ]
  },
  {
   "cell_type": "code",
   "execution_count": 11,
   "id": "b6fa4b60",
   "metadata": {},
   "outputs": [
    {
     "data": {
      "text/plain": [
       "('Ali', 'Lawal', 'Muazu')"
      ]
     },
     "execution_count": 11,
     "metadata": {},
     "output_type": "execute_result"
    }
   ],
   "source": [
    "#Declare multiple variable on one line\n",
    "first_name, middle_name, last_name = \"Ali\", \"Lawal\", \"Muazu\"\n",
    "first_name, middle_name, last_name"
   ]
  },
  {
   "cell_type": "markdown",
   "id": "7f100727",
   "metadata": {},
   "source": [
    "# Exercises: Level 2"
   ]
  },
  {
   "cell_type": "code",
   "execution_count": 12,
   "id": "0ae41692",
   "metadata": {},
   "outputs": [
    {
     "name": "stdout",
     "output_type": "stream",
     "text": [
      "Type of 'first_name': <class 'str'>\n",
      "Type of 'middle_name': <class 'str'>\n",
      "Type of 'last_name': <class 'str'>\n",
      "Type of 'country': <class 'str'>\n",
      "Type of 'city': <class 'str'>\n",
      "Type of 'age': <class 'int'>\n",
      "Type of 'year': <class 'int'>\n",
      "Type of 'is_married': <class 'bool'>\n",
      "Type of 'is_true': <class 'bool'>\n",
      "Type of 'is_light_on': <class 'bool'>\n"
     ]
    }
   ],
   "source": [
    "#Check the data type of all your variables using type() built-in function\n",
    "print(\"Type of 'first_name':\", type(first_name))\n",
    "print(\"Type of 'middle_name':\", type(middle_name))\n",
    "print(\"Type of 'last_name':\", type(last_name))\n",
    "print(\"Type of 'country':\", type(country))\n",
    "print(\"Type of 'city':\", type(city))\n",
    "print(\"Type of 'age':\", type(age))\n",
    "print(\"Type of 'year':\", type(year))\n",
    "print(\"Type of 'is_married':\", type(is_married))\n",
    "print(\"Type of 'is_true':\", type(is_true))\n",
    "print(\"Type of 'is_light_on':\", type(is_light_on))\n"
   ]
  },
  {
   "cell_type": "code",
   "execution_count": 13,
   "id": "763e2006",
   "metadata": {},
   "outputs": [
    {
     "name": "stdout",
     "output_type": "stream",
     "text": [
      "Length of 'first_name': 3\n"
     ]
    }
   ],
   "source": [
    "#Using the len() built-in function, find the length of your first name\n",
    "first_name_length = len(first_name)\n",
    "print(\"Length of 'first_name':\", first_name_length)\n"
   ]
  },
  {
   "cell_type": "code",
   "execution_count": 15,
   "id": "209b6f6e",
   "metadata": {},
   "outputs": [
    {
     "name": "stdout",
     "output_type": "stream",
     "text": [
      "Last name is longer than first name. Length: 5 > 3\n"
     ]
    }
   ],
   "source": [
    "#Compare the length of your first name and your last name\n",
    "first_name_length = len(first_name)\n",
    "last_name_length = len(last_name)\n",
    "\n",
    "if first_name_length > last_name_length:\n",
    "    print(\"First name is longer than last name. Length: {} > {}\".format(first_name_length, last_name_length))\n",
    "elif first_name_length < last_name_length:\n",
    "    print(\"Last name is longer than first name. Length: {} > {}\".format(last_name_length, first_name_length))\n",
    "else:\n",
    "    print(\"First name and last name have the same length. Length: {} = {}\".format(first_name_length, last_name_length))\n"
   ]
  },
  {
   "cell_type": "code",
   "execution_count": null,
   "id": "e3e0a568",
   "metadata": {},
   "outputs": [],
   "source": [
    "#Declare 5 as num_one and 4 as num_two "
   ]
  },
  {
   "cell_type": "code",
   "execution_count": 16,
   "id": "c802b890",
   "metadata": {},
   "outputs": [
    {
     "name": "stdout",
     "output_type": "stream",
     "text": [
      "Total: 9\n"
     ]
    }
   ],
   "source": [
    "#i. Add num_one and num_two and assign the value to a variable total\n",
    "num_one = 5\n",
    "num_two = 4\n",
    "\n",
    "total = num_one + num_two\n",
    "\n",
    "print(\"Total:\", total)\n"
   ]
  },
  {
   "cell_type": "code",
   "execution_count": 17,
   "id": "0ce14273",
   "metadata": {},
   "outputs": [
    {
     "name": "stdout",
     "output_type": "stream",
     "text": [
      "Difference: 1\n"
     ]
    }
   ],
   "source": [
    "#ii. Subtract num_two from num_one and assign the value to a variable diff\n",
    "num_one = 5\n",
    "num_two = 4\n",
    "\n",
    "diff = num_one - num_two\n",
    "\n",
    "print(\"Difference:\", diff)\n"
   ]
  },
  {
   "cell_type": "code",
   "execution_count": 18,
   "id": "967042a6",
   "metadata": {},
   "outputs": [
    {
     "name": "stdout",
     "output_type": "stream",
     "text": [
      "Product: 20\n"
     ]
    }
   ],
   "source": [
    "#iii. Multiply num_two and num_one and assign the value to a variable product\n",
    "num_one = 5\n",
    "num_two = 4\n",
    "\n",
    "product = num_one * num_two\n",
    "\n",
    "print(\"Product:\", product)\n"
   ]
  },
  {
   "cell_type": "code",
   "execution_count": 19,
   "id": "4eef5841",
   "metadata": {},
   "outputs": [
    {
     "name": "stdout",
     "output_type": "stream",
     "text": [
      "Division: 1.25\n"
     ]
    }
   ],
   "source": [
    "#iv. Divide num_one by num_two and assign the value to a variable division\n",
    "num_one = 5\n",
    "num_two = 4\n",
    "\n",
    "division = num_one / num_two\n",
    "\n",
    "print(\"Division:\", division)\n"
   ]
  },
  {
   "cell_type": "code",
   "execution_count": 20,
   "id": "a2aec0a5",
   "metadata": {},
   "outputs": [
    {
     "name": "stdout",
     "output_type": "stream",
     "text": [
      "Remainder: 4\n"
     ]
    }
   ],
   "source": [
    "#v. Use modulus division to find num_two divided by num_one and assign the value to a variable remainder\n",
    "num_one = 5\n",
    "num_two = 4\n",
    "\n",
    "remainder = num_two % num_one\n",
    "\n",
    "print(\"Remainder:\", remainder)\n"
   ]
  },
  {
   "cell_type": "code",
   "execution_count": 21,
   "id": "c9b973ff",
   "metadata": {},
   "outputs": [
    {
     "name": "stdout",
     "output_type": "stream",
     "text": [
      "Exponentiation: 625\n"
     ]
    }
   ],
   "source": [
    "#vi. Calculate num_one to the power of num_two and assign the value to a variable exp\n",
    "num_one = 5\n",
    "num_two = 4\n",
    "\n",
    "exp = num_one ** num_two\n",
    "\n",
    "print(\"Exponentiation:\", exp)\n"
   ]
  },
  {
   "cell_type": "code",
   "execution_count": 22,
   "id": "f9cc2b76",
   "metadata": {},
   "outputs": [
    {
     "name": "stdout",
     "output_type": "stream",
     "text": [
      "Floor Division: 1\n"
     ]
    }
   ],
   "source": [
    "#vii. Find floor division of num_one by num_two and assign the value to a variable floor_division\n",
    "num_one = 5\n",
    "num_two = 4\n",
    "\n",
    "floor_division = num_one // num_two\n",
    "\n",
    "print(\"Floor Division:\", floor_division)\n"
   ]
  },
  {
   "cell_type": "code",
   "execution_count": null,
   "id": "c1f89b81",
   "metadata": {},
   "outputs": [],
   "source": [
    "#5 The radius of a circle is 30 meters. "
   ]
  },
  {
   "cell_type": "code",
   "execution_count": 23,
   "id": "ffab4829",
   "metadata": {},
   "outputs": [
    {
     "name": "stdout",
     "output_type": "stream",
     "text": [
      "Area of Circle: 78.53981633974483\n"
     ]
    }
   ],
   "source": [
    "#i .Calculate the area of a circle and assign the value to a variable name of area_of_circle\n",
    "import math\n",
    "\n",
    "radius = 5  # You can replace 5 with the desired radius\n",
    "area_of_circle = math.pi * (radius ** 2)\n",
    "\n",
    "print(\"Area of Circle:\", area_of_circle)\n"
   ]
  },
  {
   "cell_type": "code",
   "execution_count": 24,
   "id": "cf4d0bfa",
   "metadata": {},
   "outputs": [
    {
     "name": "stdout",
     "output_type": "stream",
     "text": [
      "Circumference of Circle: 31.41592653589793\n"
     ]
    }
   ],
   "source": [
    "#ii. Calculate the circumference of a circle and assign the value to a variable name of circum_of_circle\n",
    "import math\n",
    "\n",
    "radius = 5  # You can replace 5 with the desired radius\n",
    "circum_of_circle = 2 * math.pi * radius\n",
    "\n",
    "print(\"Circumference of Circle:\", circum_of_circle)\n"
   ]
  },
  {
   "cell_type": "code",
   "execution_count": 25,
   "id": "6a316a26",
   "metadata": {},
   "outputs": [
    {
     "name": "stdout",
     "output_type": "stream",
     "text": [
      "Area of Circle with radius 5 is: 78.53981633974483\n"
     ]
    }
   ],
   "source": [
    "#iii. Take radius as user input and calculate the area.\n",
    "import math\n",
    "\n",
    "# Use a predefined radius value\n",
    "radius = 5\n",
    "\n",
    "# Calculate the area of the circle\n",
    "area_of_circle = math.pi * (radius ** 2)\n",
    "\n",
    "print(\"Area of Circle with radius\", radius, \"is:\", area_of_circle)\n"
   ]
  },
  {
   "cell_type": "code",
   "execution_count": 26,
   "id": "ba925b77",
   "metadata": {},
   "outputs": [
    {
     "name": "stdout",
     "output_type": "stream",
     "text": [
      "Enter your first name: ALI\n",
      "Enter your last name: LAWAL\n",
      "Enter your country: NIGERIA\n",
      "Enter your age: 37\n",
      "First Name: ALI\n",
      "Last Name: LAWAL\n",
      "Country: NIGERIA\n",
      "Age: 37\n"
     ]
    }
   ],
   "source": [
    "#6. Use the built-in input function to get first name, last name, country and age from a user and store the value to their corresponding variable names\n",
    "# Get user input for first name\n",
    "first_name = input(\"Enter your first name: \")\n",
    "\n",
    "# Get user input for last name\n",
    "last_name = input(\"Enter your last name: \")\n",
    "\n",
    "# Get user input for country\n",
    "country = input(\"Enter your country: \")\n",
    "\n",
    "# Get user input for age\n",
    "age_str = input(\"Enter your age: \")\n",
    "\n",
    "# Convert the age input to an integer\n",
    "age = int(age_str)\n",
    "\n",
    "# Print the collected information\n",
    "print(\"First Name:\", first_name)\n",
    "print(\"Last Name:\", last_name)\n",
    "print(\"Country:\", country)\n",
    "print(\"Age:\", age)\n"
   ]
  },
  {
   "cell_type": "code",
   "execution_count": 27,
   "id": "9e32427c",
   "metadata": {},
   "outputs": [
    {
     "name": "stdout",
     "output_type": "stream",
     "text": [
      "Help on built-in function print in module builtins:\n",
      "\n",
      "print(*args, sep=' ', end='\\n', file=None, flush=False)\n",
      "    Prints the values to a stream, or to sys.stdout by default.\n",
      "    \n",
      "    sep\n",
      "      string inserted between values, default a space.\n",
      "    end\n",
      "      string appended after the last value, default a newline.\n",
      "    file\n",
      "      a file-like object (stream); defaults to the current sys.stdout.\n",
      "    flush\n",
      "      whether to forcibly flush the stream.\n",
      "\n"
     ]
    }
   ],
   "source": [
    "#7. Run help('keywords') in Python shell or in your file to check for the Python reserved words or keywords\n",
    "help(print)\n"
   ]
  },
  {
   "cell_type": "code",
   "execution_count": null,
   "id": "4b11d993",
   "metadata": {},
   "outputs": [],
   "source": []
  }
 ],
 "metadata": {
  "kernelspec": {
   "display_name": "Python 3 (ipykernel)",
   "language": "python",
   "name": "python3"
  },
  "language_info": {
   "codemirror_mode": {
    "name": "ipython",
    "version": 3
   },
   "file_extension": ".py",
   "mimetype": "text/x-python",
   "name": "python",
   "nbconvert_exporter": "python",
   "pygments_lexer": "ipython3",
   "version": "3.11.5"
  }
 },
 "nbformat": 4,
 "nbformat_minor": 5
}
