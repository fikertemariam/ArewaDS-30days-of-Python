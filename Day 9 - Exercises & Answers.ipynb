{
 "cells": [
  {
   "cell_type": "markdown",
   "id": "d945d1f5",
   "metadata": {},
   "source": [
    "# Exercises - Day 9"
   ]
  },
  {
   "cell_type": "code",
   "execution_count": null,
   "id": "246b76bd",
   "metadata": {},
   "outputs": [],
   "source": [
    "#Exercises: Level 1"
   ]
  },
  {
   "cell_type": "code",
   "execution_count": 1,
   "id": "fe98e3a3",
   "metadata": {},
   "outputs": [
    {
     "name": "stdout",
     "output_type": "stream",
     "text": [
      "Enter your age: 30\n",
      "You are old enough to learn to drive.\n"
     ]
    }
   ],
   "source": [
    "# Get user input for age\n",
    "user_age = input(\"Enter your age: \")\n",
    "\n",
    "# Convert the input to an integer\n",
    "age = int(user_age)\n",
    "\n",
    "# Check the age and provide feedback\n",
    "if age >= 18:\n",
    "    print(\"You are old enough to learn to drive.\")\n",
    "else:\n",
    "    years_to_wait = 18 - age\n",
    "    print(f\"You need {years_to_wait} more {'year' if years_to_wait == 1 else 'years'} to learn to drive.\")\n"
   ]
  },
  {
   "cell_type": "code",
   "execution_count": 2,
   "id": "403dbe32",
   "metadata": {},
   "outputs": [
    {
     "name": "stdout",
     "output_type": "stream",
     "text": [
      "Enter your age: 15\n",
      "You need 3 more years to learn to drive.\n"
     ]
    }
   ],
   "source": [
    "# Get user input for age\n",
    "user_age = input(\"Enter your age: \")\n",
    "\n",
    "# Convert the input to an integer\n",
    "age = int(user_age)\n",
    "\n",
    "# Check the age and provide feedback\n",
    "if age >= 18:\n",
    "    print(\"You are old enough to learn to drive.\")\n",
    "else:\n",
    "    years_to_wait = 18 - age\n",
    "    print(f\"You need {years_to_wait} more {'year' if years_to_wait == 1 else 'years'} to learn to drive.\")\n"
   ]
  },
  {
   "cell_type": "code",
   "execution_count": null,
   "id": "565a7ee3",
   "metadata": {},
   "outputs": [],
   "source": [
    "#2."
   ]
  },
  {
   "cell_type": "code",
   "execution_count": 3,
   "id": "9f5421b6",
   "metadata": {},
   "outputs": [
    {
     "name": "stdout",
     "output_type": "stream",
     "text": [
      "Enter your age: 30\n",
      "You are 5 years older than me.\n"
     ]
    }
   ],
   "source": [
    "# Get user input for your age\n",
    "your_age = int(input(\"Enter your age: \"))\n",
    "\n",
    "# My age (you can replace this with your actual age)\n",
    "my_age = 25\n",
    "\n",
    "# Compare ages and provide feedback\n",
    "if my_age < your_age:\n",
    "    age_difference = your_age - my_age\n",
    "    print(f\"You are {age_difference} {'year' if age_difference == 1 else 'years'} older than me.\")\n",
    "elif my_age > your_age:\n",
    "    age_difference = my_age - your_age\n",
    "    print(f\"I am {age_difference} {'year' if age_difference == 1 else 'years'} older than you.\")\n",
    "else:\n",
    "    print(\"We are the same age!\")\n"
   ]
  },
  {
   "cell_type": "code",
   "execution_count": null,
   "id": "9d03872f",
   "metadata": {},
   "outputs": [],
   "source": [
    "#3"
   ]
  },
  {
   "cell_type": "code",
   "execution_count": 4,
   "id": "278aac6d",
   "metadata": {},
   "outputs": [
    {
     "name": "stdout",
     "output_type": "stream",
     "text": [
      "Enter number one: 4\n",
      "Enter number two: 3\n",
      "4.0 is greater than 3.0.\n"
     ]
    }
   ],
   "source": [
    "# Get user input for the first number\n",
    "a = float(input(\"Enter number one: \"))\n",
    "\n",
    "# Get user input for the second number\n",
    "b = float(input(\"Enter number two: \"))\n",
    "\n",
    "# Compare the two numbers and provide feedback\n",
    "if a > b:\n",
    "    print(f\"{a} is greater than {b}.\")\n",
    "elif a < b:\n",
    "    print(f\"{a} is smaller than {b}.\")\n",
    "else:\n",
    "    print(f\"{a} is equal to {b}.\")\n"
   ]
  },
  {
   "cell_type": "code",
   "execution_count": null,
   "id": "5430cc62",
   "metadata": {},
   "outputs": [],
   "source": [
    "### Exercises: Level 2"
   ]
  },
  {
   "cell_type": "code",
   "execution_count": 5,
   "id": "c886793a",
   "metadata": {},
   "outputs": [
    {
     "name": "stdout",
     "output_type": "stream",
     "text": [
      "Enter the student's score: 87\n",
      "The student's grade is: A\n"
     ]
    }
   ],
   "source": [
    "#Write a code which gives grade to students according to theirs scores:\n",
    "# Get user input for the student's score\n",
    "score = float(input(\"Enter the student's score: \"))\n",
    "\n",
    "# Assign grades based on the score range\n",
    "if 80 <= score <= 100:\n",
    "    grade = 'A'\n",
    "elif 70 <= score < 80:\n",
    "    grade = 'B'\n",
    "elif 60 <= score < 70:\n",
    "    grade = 'C'\n",
    "elif 50 <= score < 60:\n",
    "    grade = 'D'\n",
    "elif 0 <= score < 50:\n",
    "    grade = 'F'\n",
    "else:\n",
    "    print(\"Invalid score. Please enter a score between 0 and 100.\")\n",
    "    # If the score is outside the valid range, exit the program or handle accordingly\n",
    "\n",
    "# Print the assigned grade\n",
    "if 'grade' in locals():\n",
    "    print(f\"The student's grade is: {grade}\")\n"
   ]
  },
  {
   "cell_type": "code",
   "execution_count": null,
   "id": "357dcfea",
   "metadata": {},
   "outputs": [],
   "source": [
    "#2"
   ]
  },
  {
   "cell_type": "code",
   "execution_count": 6,
   "id": "75e1b31d",
   "metadata": {},
   "outputs": [
    {
     "name": "stdout",
     "output_type": "stream",
     "text": [
      "Enter the month: march\n",
      "The season for March is: Spring\n"
     ]
    }
   ],
   "source": [
    "# Get user input for the month\n",
    "month = input(\"Enter the month: \").lower()\n",
    "\n",
    "# Check the season based on the month\n",
    "if month in ['september', 'october', 'november']:\n",
    "    season = 'Autumn'\n",
    "elif month in ['december', 'january', 'february']:\n",
    "    season = 'Winter'\n",
    "elif month in ['march', 'april', 'may']:\n",
    "    season = 'Spring'\n",
    "elif month in ['june', 'july', 'august']:\n",
    "    season = 'Summer'\n",
    "else:\n",
    "    print(\"Invalid input. Please enter a valid month.\")\n",
    "    # If the input month is not valid, exit the program or handle accordingly\n",
    "\n",
    "# Print the determined season\n",
    "if 'season' in locals():\n",
    "    print(f\"The season for {month.capitalize()} is: {season}\")\n"
   ]
  },
  {
   "cell_type": "code",
   "execution_count": 7,
   "id": "1c4f7d8d",
   "metadata": {},
   "outputs": [
    {
     "data": {
      "text/plain": [
       "['banana', 'orange', 'mango', 'lemon']"
      ]
     },
     "execution_count": 7,
     "metadata": {},
     "output_type": "execute_result"
    }
   ],
   "source": [
    "#3.The following list contains some fruits:\n",
    "fruits = ['banana', 'orange', 'mango', 'lemon']\n",
    "fruits"
   ]
  },
  {
   "cell_type": "code",
   "execution_count": 8,
   "id": "f3704072",
   "metadata": {},
   "outputs": [
    {
     "name": "stdout",
     "output_type": "stream",
     "text": [
      "Enter a fruit: apple\n",
      "Modified list of fruits: ['banana', 'orange', 'mango', 'lemon', 'apple']\n"
     ]
    }
   ],
   "source": [
    "# The list of fruits\n",
    "fruits = ['banana', 'orange', 'mango', 'lemon']\n",
    "\n",
    "# Get user input for a new fruit\n",
    "new_fruit = input(\"Enter a fruit: \").lower()  # Convert to lowercase for case-insensitive comparison\n",
    "\n",
    "# Check if the new fruit exists in the list\n",
    "if new_fruit not in fruits:\n",
    "    # If the fruit doesn't exist, add it to the list\n",
    "    fruits.append(new_fruit)\n",
    "    print(\"Modified list of fruits:\", fruits)\n",
    "else:\n",
    "    # If the fruit already exists, print a message\n",
    "    print(\"That fruit already exists in the list.\")\n"
   ]
  },
  {
   "cell_type": "code",
   "execution_count": null,
   "id": "05ddc79e",
   "metadata": {},
   "outputs": [],
   "source": [
    "#Exercises: Level 3"
   ]
  },
  {
   "cell_type": "code",
   "execution_count": null,
   "id": "929fade7",
   "metadata": {},
   "outputs": [],
   "source": [
    "#4"
   ]
  },
  {
   "cell_type": "code",
   "execution_count": 9,
   "id": "96796337",
   "metadata": {},
   "outputs": [
    {
     "name": "stdout",
     "output_type": "stream",
     "text": [
      "Middle skill(s) in the skills list: ['Node']\n"
     ]
    }
   ],
   "source": [
    "person = {\n",
    "    'first_name': 'Asabeneh',\n",
    "    'last_name': 'Yetayeh',\n",
    "    'age': 250,\n",
    "    'country': 'Finland',\n",
    "    'is_married': True,\n",
    "    'skills': ['JavaScript', 'React', 'Node', 'MongoDB', 'Python'],\n",
    "    'address': {\n",
    "        'street': 'Space street',\n",
    "        'zipcode': '02210'\n",
    "    }\n",
    "}\n",
    "\n",
    "# Check if 'skills' key exists in the person dictionary\n",
    "if 'skills' in person:\n",
    "    skills_list = person['skills']\n",
    "    \n",
    "    # Check if the skills list has an odd or even number of elements\n",
    "    if len(skills_list) % 2 == 0:\n",
    "        # If even, print the middle two skills\n",
    "        middle_skills = skills_list[len(skills_list)//2 - 1 : len(skills_list)//2 + 1]\n",
    "    else:\n",
    "        # If odd, print the middle skill\n",
    "        middle_skills = [skills_list[len(skills_list)//2]]\n",
    "\n",
    "    print(\"Middle skill(s) in the skills list:\", middle_skills)\n",
    "else:\n",
    "    print(\"The person dictionary does not have the 'skills' key.\")\n"
   ]
  },
  {
   "cell_type": "code",
   "execution_count": null,
   "id": "c4b0b7d6",
   "metadata": {},
   "outputs": [],
   "source": [
    "# Check if the person dictionary has skills key, if so check if the person has 'Python' skill and print out the result."
   ]
  },
  {
   "cell_type": "code",
   "execution_count": 10,
   "id": "f8d20409",
   "metadata": {},
   "outputs": [
    {
     "name": "stdout",
     "output_type": "stream",
     "text": [
      "The person has the 'Python' skill.\n"
     ]
    }
   ],
   "source": [
    "person = {\n",
    "    'first_name': 'Asabeneh',\n",
    "    'last_name': 'Yetayeh',\n",
    "    'age': 250,\n",
    "    'country': 'Finland',\n",
    "    'is_married': True,\n",
    "    'skills': ['JavaScript', 'React', 'Node', 'MongoDB', 'Python'],\n",
    "    'address': {\n",
    "        'street': 'Space street',\n",
    "        'zipcode': '02210'\n",
    "    }\n",
    "}\n",
    "\n",
    "# Check if 'skills' key exists in the person dictionary\n",
    "if 'skills' in person:\n",
    "    # Check if 'Python' is in the skills list\n",
    "    has_python_skill = 'Python' in person['skills']\n",
    "\n",
    "    # Print the result\n",
    "    if has_python_skill:\n",
    "        print(\"The person has the 'Python' skill.\")\n",
    "    else:\n",
    "        print(\"The person does not have the 'Python' skill.\")\n",
    "else:\n",
    "    print(\"The person dictionary does not have the 'skills' key.\")\n"
   ]
  },
  {
   "cell_type": "code",
   "execution_count": 11,
   "id": "2b370ca9",
   "metadata": {},
   "outputs": [
    {
     "name": "stdout",
     "output_type": "stream",
     "text": [
      "He is a front-end developer.\n"
     ]
    }
   ],
   "source": [
    "# If a person skills has only JavaScript and React, print('He is a front end developer'), if the person skills has Node, Python, MongoDB, print('He is a backend developer'), if the person skills has React, Node and MongoDB, Print('He is a fullstack developer'), else print('unknown title') - for more accurate results more conditions can be nested!\n",
    " \n",
    "person = {\n",
    "    'first_name': 'Asabeneh',\n",
    "    'last_name': 'Yetayeh',\n",
    "    'age': 250,\n",
    "    'country': 'Finland',\n",
    "    'is_married': True,\n",
    "    'skills': ['JavaScript', 'React', 'Node', 'MongoDB', 'Python'],\n",
    "    'address': {\n",
    "        'street': 'Space street',\n",
    "        'zipcode': '02210'\n",
    "    }\n",
    "}\n",
    "\n",
    "# Check if 'skills' key exists in the person dictionary\n",
    "if 'skills' in person:\n",
    "    skills_list = person['skills']\n",
    "    \n",
    "    # Check for different combinations of skills and determine the title\n",
    "    if set(['JavaScript', 'React']).issubset(skills_list):\n",
    "        print(\"He is a front-end developer.\")\n",
    "    elif set(['Node', 'Python', 'MongoDB']).issubset(skills_list):\n",
    "        print(\"He is a backend developer.\")\n",
    "    elif set(['React', 'Node', 'MongoDB']).issubset(skills_list):\n",
    "        print(\"He is a full-stack developer.\")\n",
    "    else:\n",
    "        print(\"Unknown title.\")\n",
    "else:\n",
    "    print(\"The person dictionary does not have the 'skills' key.\")\n",
    "\n"
   ]
  },
  {
   "cell_type": "code",
   "execution_count": 12,
   "id": "4a873a16",
   "metadata": {},
   "outputs": [
    {
     "name": "stdout",
     "output_type": "stream",
     "text": [
      "Asabeneh Yetayeh is married, lives in Finland, and works as a JavaScript React Node MongoDB Python developer.\n"
     ]
    }
   ],
   "source": [
    "# If the person is married and if he lives in Finland, print the information in the following format:\n",
    "person = {\n",
    "    'first_name': 'Asabeneh',\n",
    "    'last_name': 'Yetayeh',\n",
    "    'age': 250,\n",
    "    'country': 'Finland',\n",
    "    'is_married': True,\n",
    "    'skills': ['JavaScript', 'React', 'Node', 'MongoDB', 'Python'],\n",
    "    'address': {\n",
    "        'street': 'Space street',\n",
    "        'zipcode': '02210'\n",
    "    }\n",
    "}\n",
    "\n",
    "# Check if 'is_married' and 'country' keys exist in the person dictionary\n",
    "if 'is_married' in person and 'country' in person:\n",
    "    is_married = person['is_married']\n",
    "    country = person['country']\n",
    "    \n",
    "    # Check if the person is married and lives in Finland\n",
    "    if is_married and country == 'Finland':\n",
    "        print(f\"{person['first_name']} {person['last_name']} is married, lives in {country}, and works as a {' '.join(person['skills'])} developer.\")\n",
    "    else:\n",
    "        print(\"The person does not meet the specified criteria.\")\n",
    "else:\n",
    "    print(\"The person dictionary is missing 'is_married' or 'country' key.\")\n"
   ]
  },
  {
   "cell_type": "code",
   "execution_count": null,
   "id": "e8fca8a7",
   "metadata": {},
   "outputs": [],
   "source": [
    "#    Asabeneh Yetayeh lives in Finland. He is married.\n"
   ]
  }
 ],
 "metadata": {
  "kernelspec": {
   "display_name": "Python 3 (ipykernel)",
   "language": "python",
   "name": "python3"
  },
  "language_info": {
   "codemirror_mode": {
    "name": "ipython",
    "version": 3
   },
   "file_extension": ".py",
   "mimetype": "text/x-python",
   "name": "python",
   "nbconvert_exporter": "python",
   "pygments_lexer": "ipython3",
   "version": "3.11.4"
  }
 },
 "nbformat": 4,
 "nbformat_minor": 5
}
